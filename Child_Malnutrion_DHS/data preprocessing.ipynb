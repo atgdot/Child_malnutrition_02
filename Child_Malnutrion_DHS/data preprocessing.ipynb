{
 "cells": [
  {
   "cell_type": "code",
   "execution_count": 2,
   "id": "eb4b291b",
   "metadata": {},
   "outputs": [],
   "source": [
    "import numpy as np\n",
    "import pandas as pd\n",
    "# import matplotlib.pyplot as plt\n",
    "# import seaborn as sns\n",
    "%matplotlib inline"
   ]
  },
  {
   "cell_type": "code",
   "execution_count": 3,
   "id": "6f385810",
   "metadata": {},
   "outputs": [
    {
     "data": {
      "text/html": [
       "<div>\n",
       "<style scoped>\n",
       "    .dataframe tbody tr th:only-of-type {\n",
       "        vertical-align: middle;\n",
       "    }\n",
       "\n",
       "    .dataframe tbody tr th {\n",
       "        vertical-align: top;\n",
       "    }\n",
       "\n",
       "    .dataframe thead th {\n",
       "        text-align: right;\n",
       "    }\n",
       "</style>\n",
       "<table border=\"1\" class=\"dataframe\">\n",
       "  <thead>\n",
       "    <tr style=\"text-align: right;\">\n",
       "      <th></th>\n",
       "      <th>ISO code</th>\n",
       "      <th>Sex</th>\n",
       "      <th>Age</th>\n",
       "      <th>Height</th>\n",
       "      <th>Weight</th>\n",
       "      <th>Continent</th>\n",
       "      <th>World Bank</th>\n",
       "      <th>Wasting</th>\n",
       "      <th>Overweight</th>\n",
       "      <th>Stunting</th>\n",
       "      <th>Underweight</th>\n",
       "      <th>Status</th>\n",
       "    </tr>\n",
       "  </thead>\n",
       "  <tbody>\n",
       "    <tr>\n",
       "      <th>0</th>\n",
       "      <td>AFG</td>\n",
       "      <td>1</td>\n",
       "      <td>5</td>\n",
       "      <td>75</td>\n",
       "      <td>17</td>\n",
       "      <td>Asia</td>\n",
       "      <td>Low Income</td>\n",
       "      <td>18.2</td>\n",
       "      <td>6.5</td>\n",
       "      <td>53.2</td>\n",
       "      <td>44.9</td>\n",
       "      <td>Stunting</td>\n",
       "    </tr>\n",
       "    <tr>\n",
       "      <th>1</th>\n",
       "      <td>AFG</td>\n",
       "      <td>0</td>\n",
       "      <td>4</td>\n",
       "      <td>101</td>\n",
       "      <td>13</td>\n",
       "      <td>Asia</td>\n",
       "      <td>Low Income</td>\n",
       "      <td>8.6</td>\n",
       "      <td>4.6</td>\n",
       "      <td>59.3</td>\n",
       "      <td>32.9</td>\n",
       "      <td>Stunting</td>\n",
       "    </tr>\n",
       "    <tr>\n",
       "      <th>2</th>\n",
       "      <td>AFG</td>\n",
       "      <td>0</td>\n",
       "      <td>4</td>\n",
       "      <td>71</td>\n",
       "      <td>17</td>\n",
       "      <td>Asia</td>\n",
       "      <td>Low Income</td>\n",
       "      <td>9.5</td>\n",
       "      <td>5.4</td>\n",
       "      <td>40.9</td>\n",
       "      <td>25.0</td>\n",
       "      <td>Stunting</td>\n",
       "    </tr>\n",
       "    <tr>\n",
       "      <th>3</th>\n",
       "      <td>ALB</td>\n",
       "      <td>0</td>\n",
       "      <td>3</td>\n",
       "      <td>81</td>\n",
       "      <td>13</td>\n",
       "      <td>Europe</td>\n",
       "      <td>Upper Middle Income</td>\n",
       "      <td>8.1</td>\n",
       "      <td>9.5</td>\n",
       "      <td>20.4</td>\n",
       "      <td>7.1</td>\n",
       "      <td>Stunting</td>\n",
       "    </tr>\n",
       "    <tr>\n",
       "      <th>4</th>\n",
       "      <td>ALB</td>\n",
       "      <td>0</td>\n",
       "      <td>1</td>\n",
       "      <td>79</td>\n",
       "      <td>16</td>\n",
       "      <td>Europe</td>\n",
       "      <td>Upper Middle Income</td>\n",
       "      <td>12.2</td>\n",
       "      <td>30.0</td>\n",
       "      <td>39.2</td>\n",
       "      <td>17.0</td>\n",
       "      <td>Stunting</td>\n",
       "    </tr>\n",
       "  </tbody>\n",
       "</table>\n",
       "</div>"
      ],
      "text/plain": [
       "  ISO code  Sex  Age  Height  Weight Continent           World Bank  Wasting  \\\n",
       "0      AFG    1    5      75      17      Asia           Low Income     18.2   \n",
       "1      AFG    0    4     101      13      Asia           Low Income      8.6   \n",
       "2      AFG    0    4      71      17      Asia           Low Income      9.5   \n",
       "3      ALB    0    3      81      13    Europe  Upper Middle Income      8.1   \n",
       "4      ALB    0    1      79      16    Europe  Upper Middle Income     12.2   \n",
       "\n",
       "   Overweight  Stunting  Underweight    Status  \n",
       "0         6.5      53.2         44.9  Stunting  \n",
       "1         4.6      59.3         32.9  Stunting  \n",
       "2         5.4      40.9         25.0  Stunting  \n",
       "3         9.5      20.4          7.1  Stunting  \n",
       "4        30.0      39.2         17.0  Stunting  "
      ]
     },
     "execution_count": 3,
     "metadata": {},
     "output_type": "execute_result"
    }
   ],
   "source": [
    "data = pd.read_excel('Dataset.xlsx')\n",
    "data.describe()\n",
    "data.head()"
   ]
  },
  {
   "cell_type": "code",
   "execution_count": 4,
   "id": "454bb102",
   "metadata": {},
   "outputs": [
    {
     "name": "stdout",
     "output_type": "stream",
     "text": [
      "<class 'pandas.core.frame.DataFrame'>\n",
      "RangeIndex: 837 entries, 0 to 836\n",
      "Data columns (total 12 columns):\n",
      " #   Column       Non-Null Count  Dtype  \n",
      "---  ------       --------------  -----  \n",
      " 0   ISO code     837 non-null    object \n",
      " 1   Sex          837 non-null    int64  \n",
      " 2   Age          837 non-null    int64  \n",
      " 3   Height       837 non-null    int64  \n",
      " 4   Weight       837 non-null    int64  \n",
      " 5   Continent    837 non-null    object \n",
      " 6   World Bank   837 non-null    object \n",
      " 7   Wasting      793 non-null    float64\n",
      " 8   Overweight   684 non-null    float64\n",
      " 9   Stunting     803 non-null    float64\n",
      " 10  Underweight  822 non-null    float64\n",
      " 11  Status       837 non-null    object \n",
      "dtypes: float64(4), int64(4), object(4)\n",
      "memory usage: 78.6+ KB\n",
      "None\n",
      "              Sex         Age      Height      Weight     Wasting  Overweight  \\\n",
      "count  837.000000  837.000000  837.000000  837.000000  793.000000  684.000000   \n",
      "mean     0.502987    2.947431   88.559140   14.463560    7.165448    6.569152   \n",
      "std      0.500290    1.406447   10.821536    3.457559    5.216315    4.617235   \n",
      "min      0.000000    1.000000   70.000000    9.000000    0.000000    0.000000   \n",
      "25%      0.000000    2.000000   80.000000   11.000000    3.000000    3.100000   \n",
      "50%      1.000000    3.000000   89.000000   15.000000    6.000000    5.600000   \n",
      "75%      1.000000    4.000000   98.000000   17.000000   10.000000    8.900000   \n",
      "max      1.000000    5.000000  107.000000   20.000000   26.000000   30.000000   \n",
      "\n",
      "         Stunting  Underweight  \n",
      "count  803.000000   822.000000  \n",
      "mean    29.503736    16.031630  \n",
      "std     15.993617    12.804355  \n",
      "min      0.000000     0.000000  \n",
      "25%     17.200000     4.825000  \n",
      "50%     29.500000    13.300000  \n",
      "75%     40.900000    23.400000  \n",
      "max     73.600000    66.800000  \n"
     ]
    }
   ],
   "source": [
    "print(data.info())\n",
    "print(data.describe())"
   ]
  },
  {
   "cell_type": "code",
   "execution_count": 5,
   "id": "4e28c546",
   "metadata": {},
   "outputs": [
    {
     "ename": "NameError",
     "evalue": "name 'sns' is not defined",
     "output_type": "error",
     "traceback": [
      "\u001b[1;31m---------------------------------------------------------------------------\u001b[0m",
      "\u001b[1;31mNameError\u001b[0m                                 Traceback (most recent call last)",
      "Cell \u001b[1;32mIn[5], line 1\u001b[0m\n\u001b[1;32m----> 1\u001b[0m \u001b[43msns\u001b[49m\u001b[38;5;241m.\u001b[39mcountplot(x \u001b[38;5;241m=\u001b[39m \u001b[38;5;124m'\u001b[39m\u001b[38;5;124mSex\u001b[39m\u001b[38;5;124m'\u001b[39m, hue \u001b[38;5;241m=\u001b[39m \u001b[38;5;124m'\u001b[39m\u001b[38;5;124mStatus\u001b[39m\u001b[38;5;124m'\u001b[39m, data \u001b[38;5;241m=\u001b[39m data)\n\u001b[0;32m      2\u001b[0m plt\u001b[38;5;241m.\u001b[39mlegend(bbox_to_anchor\u001b[38;5;241m=\u001b[39m(\u001b[38;5;241m1.04\u001b[39m,\u001b[38;5;241m1\u001b[39m), loc\u001b[38;5;241m=\u001b[39m\u001b[38;5;124m\"\u001b[39m\u001b[38;5;124mupper left\u001b[39m\u001b[38;5;124m\"\u001b[39m)\n",
      "\u001b[1;31mNameError\u001b[0m: name 'sns' is not defined"
     ]
    }
   ],
   "source": [
    "sns.countplot(x = 'Sex', hue = 'Status', data = data)\n",
    "plt.legend(bbox_to_anchor=(1.04,1), loc=\"upper left\")"
   ]
  },
  {
   "cell_type": "code",
   "execution_count": 6,
   "id": "9e4f356a",
   "metadata": {},
   "outputs": [
    {
     "ename": "NameError",
     "evalue": "name 'sns' is not defined",
     "output_type": "error",
     "traceback": [
      "\u001b[1;31m---------------------------------------------------------------------------\u001b[0m",
      "\u001b[1;31mNameError\u001b[0m                                 Traceback (most recent call last)",
      "Cell \u001b[1;32mIn[6], line 1\u001b[0m\n\u001b[1;32m----> 1\u001b[0m \u001b[43msns\u001b[49m\u001b[38;5;241m.\u001b[39mcountplot(x \u001b[38;5;241m=\u001b[39m \u001b[38;5;124m'\u001b[39m\u001b[38;5;124mSex\u001b[39m\u001b[38;5;124m'\u001b[39m, hue \u001b[38;5;241m=\u001b[39m \u001b[38;5;124m'\u001b[39m\u001b[38;5;124mWorld Bank\u001b[39m\u001b[38;5;124m'\u001b[39m, data \u001b[38;5;241m=\u001b[39m data)\n\u001b[0;32m      2\u001b[0m plt\u001b[38;5;241m.\u001b[39mlegend(bbox_to_anchor\u001b[38;5;241m=\u001b[39m(\u001b[38;5;241m1.04\u001b[39m,\u001b[38;5;241m1\u001b[39m), loc\u001b[38;5;241m=\u001b[39m\u001b[38;5;124m\"\u001b[39m\u001b[38;5;124mupper left\u001b[39m\u001b[38;5;124m\"\u001b[39m)\n",
      "\u001b[1;31mNameError\u001b[0m: name 'sns' is not defined"
     ]
    }
   ],
   "source": [
    "sns.countplot(x = 'Sex', hue = 'World Bank', data = data)\n",
    "plt.legend(bbox_to_anchor=(1.04,1), loc=\"upper left\")"
   ]
  },
  {
   "cell_type": "code",
   "execution_count": 7,
   "id": "8b456760",
   "metadata": {},
   "outputs": [
    {
     "ename": "NameError",
     "evalue": "name 'plt' is not defined",
     "output_type": "error",
     "traceback": [
      "\u001b[1;31m---------------------------------------------------------------------------\u001b[0m",
      "\u001b[1;31mNameError\u001b[0m                                 Traceback (most recent call last)",
      "Cell \u001b[1;32mIn[7], line 1\u001b[0m\n\u001b[1;32m----> 1\u001b[0m \u001b[43mplt\u001b[49m\u001b[38;5;241m.\u001b[39mfigure(figsize\u001b[38;5;241m=\u001b[39m(\u001b[38;5;241m10\u001b[39m, \u001b[38;5;241m6\u001b[39m))\n\u001b[0;32m      2\u001b[0m sns\u001b[38;5;241m.\u001b[39mcountplot(x\u001b[38;5;241m=\u001b[39mdata[\u001b[38;5;124m'\u001b[39m\u001b[38;5;124mContinent\u001b[39m\u001b[38;5;124m'\u001b[39m])\n\u001b[0;32m      3\u001b[0m plt\u001b[38;5;241m.\u001b[39mtight_layout()\n",
      "\u001b[1;31mNameError\u001b[0m: name 'plt' is not defined"
     ]
    }
   ],
   "source": [
    "plt.figure(figsize=(10, 6))\n",
    "sns.countplot(x=data['Continent'])\n",
    "plt.tight_layout()"
   ]
  },
  {
   "cell_type": "code",
   "execution_count": 8,
   "id": "f7e64ab6",
   "metadata": {},
   "outputs": [],
   "source": [
    "data.drop('Wasting', axis=1, inplace = True)\n",
    "data.drop('Overweight', axis=1, inplace = True)\n",
    "data.drop('Stunting', axis=1, inplace = True)\n",
    "data.drop('Underweight', axis=1, inplace = True)"
   ]
  },
  {
   "cell_type": "code",
   "execution_count": 9,
   "id": "f4ae0e47",
   "metadata": {},
   "outputs": [
    {
     "data": {
      "text/html": [
       "<div>\n",
       "<style scoped>\n",
       "    .dataframe tbody tr th:only-of-type {\n",
       "        vertical-align: middle;\n",
       "    }\n",
       "\n",
       "    .dataframe tbody tr th {\n",
       "        vertical-align: top;\n",
       "    }\n",
       "\n",
       "    .dataframe thead th {\n",
       "        text-align: right;\n",
       "    }\n",
       "</style>\n",
       "<table border=\"1\" class=\"dataframe\">\n",
       "  <thead>\n",
       "    <tr style=\"text-align: right;\">\n",
       "      <th></th>\n",
       "      <th>ISO code</th>\n",
       "      <th>Sex</th>\n",
       "      <th>Age</th>\n",
       "      <th>Height</th>\n",
       "      <th>Weight</th>\n",
       "      <th>Continent</th>\n",
       "      <th>World Bank</th>\n",
       "      <th>Status</th>\n",
       "    </tr>\n",
       "  </thead>\n",
       "  <tbody>\n",
       "    <tr>\n",
       "      <th>0</th>\n",
       "      <td>AFG</td>\n",
       "      <td>1</td>\n",
       "      <td>5</td>\n",
       "      <td>75</td>\n",
       "      <td>17</td>\n",
       "      <td>Asia</td>\n",
       "      <td>Low Income</td>\n",
       "      <td>Stunting</td>\n",
       "    </tr>\n",
       "    <tr>\n",
       "      <th>1</th>\n",
       "      <td>AFG</td>\n",
       "      <td>0</td>\n",
       "      <td>4</td>\n",
       "      <td>101</td>\n",
       "      <td>13</td>\n",
       "      <td>Asia</td>\n",
       "      <td>Low Income</td>\n",
       "      <td>Stunting</td>\n",
       "    </tr>\n",
       "    <tr>\n",
       "      <th>2</th>\n",
       "      <td>AFG</td>\n",
       "      <td>0</td>\n",
       "      <td>4</td>\n",
       "      <td>71</td>\n",
       "      <td>17</td>\n",
       "      <td>Asia</td>\n",
       "      <td>Low Income</td>\n",
       "      <td>Stunting</td>\n",
       "    </tr>\n",
       "    <tr>\n",
       "      <th>3</th>\n",
       "      <td>ALB</td>\n",
       "      <td>0</td>\n",
       "      <td>3</td>\n",
       "      <td>81</td>\n",
       "      <td>13</td>\n",
       "      <td>Europe</td>\n",
       "      <td>Upper Middle Income</td>\n",
       "      <td>Stunting</td>\n",
       "    </tr>\n",
       "    <tr>\n",
       "      <th>4</th>\n",
       "      <td>ALB</td>\n",
       "      <td>0</td>\n",
       "      <td>1</td>\n",
       "      <td>79</td>\n",
       "      <td>16</td>\n",
       "      <td>Europe</td>\n",
       "      <td>Upper Middle Income</td>\n",
       "      <td>Stunting</td>\n",
       "    </tr>\n",
       "  </tbody>\n",
       "</table>\n",
       "</div>"
      ],
      "text/plain": [
       "  ISO code  Sex  Age  Height  Weight Continent           World Bank    Status\n",
       "0      AFG    1    5      75      17      Asia           Low Income  Stunting\n",
       "1      AFG    0    4     101      13      Asia           Low Income  Stunting\n",
       "2      AFG    0    4      71      17      Asia           Low Income  Stunting\n",
       "3      ALB    0    3      81      13    Europe  Upper Middle Income  Stunting\n",
       "4      ALB    0    1      79      16    Europe  Upper Middle Income  Stunting"
      ]
     },
     "execution_count": 9,
     "metadata": {},
     "output_type": "execute_result"
    }
   ],
   "source": [
    "data.head()"
   ]
  },
  {
   "cell_type": "code",
   "execution_count": 10,
   "id": "fb3b216d",
   "metadata": {},
   "outputs": [],
   "source": [
    "# Status = pd.get_dummies(data['Status'], drop_first = True)\n",
    "Income = pd.get_dummies(data['World Bank'], drop_first = True)\n",
    "data_train = pd.concat([data, Income], axis = 1)"
   ]
  },
  {
   "cell_type": "code",
   "execution_count": 11,
   "id": "833c637c",
   "metadata": {},
   "outputs": [
    {
     "data": {
      "text/html": [
       "<div>\n",
       "<style scoped>\n",
       "    .dataframe tbody tr th:only-of-type {\n",
       "        vertical-align: middle;\n",
       "    }\n",
       "\n",
       "    .dataframe tbody tr th {\n",
       "        vertical-align: top;\n",
       "    }\n",
       "\n",
       "    .dataframe thead th {\n",
       "        text-align: right;\n",
       "    }\n",
       "</style>\n",
       "<table border=\"1\" class=\"dataframe\">\n",
       "  <thead>\n",
       "    <tr style=\"text-align: right;\">\n",
       "      <th></th>\n",
       "      <th>ISO code</th>\n",
       "      <th>Sex</th>\n",
       "      <th>Age</th>\n",
       "      <th>Height</th>\n",
       "      <th>Weight</th>\n",
       "      <th>Continent</th>\n",
       "      <th>World Bank</th>\n",
       "      <th>Status</th>\n",
       "      <th>Low Income</th>\n",
       "      <th>Lower Middle Income</th>\n",
       "      <th>Upper Middle Income</th>\n",
       "    </tr>\n",
       "  </thead>\n",
       "  <tbody>\n",
       "    <tr>\n",
       "      <th>0</th>\n",
       "      <td>AFG</td>\n",
       "      <td>1</td>\n",
       "      <td>5</td>\n",
       "      <td>75</td>\n",
       "      <td>17</td>\n",
       "      <td>Asia</td>\n",
       "      <td>Low Income</td>\n",
       "      <td>Stunting</td>\n",
       "      <td>1</td>\n",
       "      <td>0</td>\n",
       "      <td>0</td>\n",
       "    </tr>\n",
       "    <tr>\n",
       "      <th>1</th>\n",
       "      <td>AFG</td>\n",
       "      <td>0</td>\n",
       "      <td>4</td>\n",
       "      <td>101</td>\n",
       "      <td>13</td>\n",
       "      <td>Asia</td>\n",
       "      <td>Low Income</td>\n",
       "      <td>Stunting</td>\n",
       "      <td>1</td>\n",
       "      <td>0</td>\n",
       "      <td>0</td>\n",
       "    </tr>\n",
       "    <tr>\n",
       "      <th>2</th>\n",
       "      <td>AFG</td>\n",
       "      <td>0</td>\n",
       "      <td>4</td>\n",
       "      <td>71</td>\n",
       "      <td>17</td>\n",
       "      <td>Asia</td>\n",
       "      <td>Low Income</td>\n",
       "      <td>Stunting</td>\n",
       "      <td>1</td>\n",
       "      <td>0</td>\n",
       "      <td>0</td>\n",
       "    </tr>\n",
       "    <tr>\n",
       "      <th>3</th>\n",
       "      <td>ALB</td>\n",
       "      <td>0</td>\n",
       "      <td>3</td>\n",
       "      <td>81</td>\n",
       "      <td>13</td>\n",
       "      <td>Europe</td>\n",
       "      <td>Upper Middle Income</td>\n",
       "      <td>Stunting</td>\n",
       "      <td>0</td>\n",
       "      <td>0</td>\n",
       "      <td>1</td>\n",
       "    </tr>\n",
       "    <tr>\n",
       "      <th>4</th>\n",
       "      <td>ALB</td>\n",
       "      <td>0</td>\n",
       "      <td>1</td>\n",
       "      <td>79</td>\n",
       "      <td>16</td>\n",
       "      <td>Europe</td>\n",
       "      <td>Upper Middle Income</td>\n",
       "      <td>Stunting</td>\n",
       "      <td>0</td>\n",
       "      <td>0</td>\n",
       "      <td>1</td>\n",
       "    </tr>\n",
       "  </tbody>\n",
       "</table>\n",
       "</div>"
      ],
      "text/plain": [
       "  ISO code  Sex  Age  Height  Weight Continent           World Bank    Status  \\\n",
       "0      AFG    1    5      75      17      Asia           Low Income  Stunting   \n",
       "1      AFG    0    4     101      13      Asia           Low Income  Stunting   \n",
       "2      AFG    0    4      71      17      Asia           Low Income  Stunting   \n",
       "3      ALB    0    3      81      13    Europe  Upper Middle Income  Stunting   \n",
       "4      ALB    0    1      79      16    Europe  Upper Middle Income  Stunting   \n",
       "\n",
       "   Low Income  Lower Middle Income  Upper Middle Income  \n",
       "0           1                    0                    0  \n",
       "1           1                    0                    0  \n",
       "2           1                    0                    0  \n",
       "3           0                    0                    1  \n",
       "4           0                    0                    1  "
      ]
     },
     "execution_count": 11,
     "metadata": {},
     "output_type": "execute_result"
    }
   ],
   "source": [
    "data_train.head()"
   ]
  },
  {
   "cell_type": "code",
   "execution_count": 12,
   "id": "df54620c",
   "metadata": {},
   "outputs": [
    {
     "data": {
      "text/plain": [
       "(837, 11)"
      ]
     },
     "execution_count": 12,
     "metadata": {},
     "output_type": "execute_result"
    }
   ],
   "source": [
    "data_train.shape"
   ]
  },
  {
   "cell_type": "code",
   "execution_count": 7,
   "id": "8fee5c44",
   "metadata": {},
   "outputs": [
    {
     "name": "stdout",
     "output_type": "stream",
     "text": [
      "*******Initializing Dumping Process********\n",
      "*******Dumping Process Finished!!**********\n"
     ]
    }
   ],
   "source": [
    "print(\"*******Initializing Dumping Process********\")\n",
    "dumping = pd.DataFrame({\n",
    "    'Sex' : data_train['Sex'],\n",
    "    'Age' : data_train['Age'],\n",
    "    'Height' : data_train['Height'],\n",
    "    'Weight' : data_train['Weight'],\n",
    "#     'Stunting' : data_train['Stunting'],\n",
    "#     'Underweight' : data_train['Underweight'],\n",
    "#     'Wasting' : data_train['Wasting'],\n",
    "    'Low Income' : data_train['Low Income'],\n",
    "    'Lower Middle Income' : data_train['Lower Middle Income'],\n",
    "    'Upper Middle Income' : data_train['Upper Middle Income'],\n",
    "    'Status' : data_train['Status']\n",
    "})\n",
    "dumping.to_csv(\"Preprocessed_Data.csv\", index = False)\n",
    "print(\"*******Dumping Process Finished!!**********\")"
   ]
  },
  {
   "cell_type": "code",
   "execution_count": 8,
   "id": "bbaf2137",
   "metadata": {},
   "outputs": [
    {
     "name": "stdout",
     "output_type": "stream",
     "text": [
      "*******Initializing Dumping Process********\n",
      "*******Dumping Process Finished!!**********\n"
     ]
    }
   ],
   "source": [
    "print(\"*******Initializing Dumping Process********\")\n",
    "\n",
    "\n",
    "# Define a function to determine malnourishment status\n",
    "def get_malnourishment_status(status):\n",
    "    if status in ['Stunting', 'Overweight']:\n",
    "        return 'Malnourished'\n",
    "    else:\n",
    "        return status\n",
    "\n",
    "# Create DataFrame with additional 'Malnourishment Status' column\n",
    "dumping = pd.DataFrame({\n",
    "    'Sex' : data_train['Sex'],\n",
    "    'Age' : data_train['Age'],\n",
    "    'Height' : data_train['Height'],\n",
    "    'Weight' : data_train['Weight'],\n",
    "    'Low Income' : data_train['Low Income'],\n",
    "    'Lower Middle Income' : data_train['Lower Middle Income'],\n",
    "    'Upper Middle Income' : data_train['Upper Middle Income'],\n",
    "    'Status' : data_train['Status']\n",
    "})\n",
    "\n",
    "# Apply the function to 'Status' column to get 'Malnourishment Status'\n",
    "dumping['Malnourishment Status'] = dumping['Status'].apply(get_malnourishment_status)\n",
    "\n",
    "# Dump the DataFrame to CSV\n",
    "dumping.to_csv(\"Preprocessed_Data_New.csv\", index=False)\n",
    "\n",
    "print(\"*******Dumping Process Finished!!**********\")\n"
   ]
  },
  {
   "cell_type": "code",
   "execution_count": 11,
   "id": "f87e7e44",
   "metadata": {},
   "outputs": [
    {
     "name": "stdout",
     "output_type": "stream",
     "text": [
      "*******Initializing Dumping Process********\n",
      "*******Dumping Process Finished!!**********\n"
     ]
    }
   ],
   "source": [
    "print(\"*******Initializing Dumping Process********\")\n",
    "\n",
    "# Define a function to determine malnourishment status\n",
    "def get_malnourishment_status(status):\n",
    "    if status in ['Stunting', 'Underweight']:\n",
    "        return 'Malnourished'\n",
    "    else:\n",
    "        return status\n",
    "\n",
    "# Create DataFrame with additional 'Malnourishment Status' column\n",
    "dumping = pd.DataFrame({\n",
    "    'Sex' : data_train['Sex'],\n",
    "    'Age' : data_train['Age'],\n",
    "    'Height' : data_train['Height'],\n",
    "    'Weight' : data_train['Weight'],\n",
    "    'Low Income' : data_train['Low Income'],\n",
    "    'Lower Middle Income' : data_train['Lower Middle Income'],\n",
    "    'Upper Middle Income' : data_train['Upper Middle Income'],\n",
    "    'Status' : data_train['Status']\n",
    "})\n",
    "\n",
    "# Apply the function to 'Status' column to get 'Malnourishment Status'\n",
    "dumping['Malnourishment Status'] = dumping['Status'].apply(get_malnourishment_status)\n",
    "\n",
    "# Dump the DataFrame to CSV\n",
    "dumping.to_csv(\"Preprocessed_Data_New.csv\", index=False)\n",
    "\n",
    "print(\"*******Dumping Process Finished!!**********\")\n"
   ]
  },
  {
   "cell_type": "markdown",
   "id": "13836639",
   "metadata": {},
   "source": []
  }
 ],
 "metadata": {
  "kernelspec": {
   "display_name": "Python 3 (ipykernel)",
   "language": "python",
   "name": "python3"
  },
  "language_info": {
   "codemirror_mode": {
    "name": "ipython",
    "version": 3
   },
   "file_extension": ".py",
   "mimetype": "text/x-python",
   "name": "python",
   "nbconvert_exporter": "python",
   "pygments_lexer": "ipython3",
   "version": "3.10.11"
  }
 },
 "nbformat": 4,
 "nbformat_minor": 5
}
