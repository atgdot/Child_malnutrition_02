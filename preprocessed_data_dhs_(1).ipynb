{
  "nbformat": 4,
  "nbformat_minor": 0,
  "metadata": {
    "colab": {
      "provenance": [],
      "gpuType": "T4",
      "include_colab_link": true
    },
    "kernelspec": {
      "name": "python3",
      "display_name": "Python 3"
    },
    "language_info": {
      "name": "python"
    },
    "accelerator": "GPU"
  },
  "cells": [
    {
      "cell_type": "markdown",
      "metadata": {
        "id": "view-in-github",
        "colab_type": "text"
      },
      "source": [
        "<a href=\"https://colab.research.google.com/github/atgdot/child_malnutrition_02/blob/main/preprocessed_data_dhs_(1).ipynb\" target=\"_parent\"><img src=\"https://colab.research.google.com/assets/colab-badge.svg\" alt=\"Open In Colab\"/></a>"
      ]
    },
    {
      "cell_type": "code",
      "source": [
        "from google.colab import drive\n",
        "drive.mount('/content/drive')\n"
      ],
      "metadata": {
        "colab": {
          "base_uri": "https://localhost:8080/"
        },
        "id": "xj5b7wqoAe27",
        "outputId": "0ebe3316-27ac-4fe3-942a-b2ce75f08f6c"
      },
      "execution_count": 1,
      "outputs": [
        {
          "output_type": "stream",
          "name": "stdout",
          "text": [
            "Mounted at /content/drive\n"
          ]
        }
      ]
    },
    {
      "cell_type": "code",
      "source": [
        "import cudf\n",
        "\n",
        "# Define the features to keep\n",
        "features_to_keep = [\n",
        "    \"v130\", \"v024\", \"v116\", \"v113\", \"v025\",  \"s370b\",\n",
        "    \"s116\", \"v190a\", \"b4\", \"v151\", \"hidx\", \"v218\", \"m5\", \"s301\", \"v212\", \"v445\",\n",
        "    \"v437\", \"v438\",\"hw1\",\"hw2\",\"hw3\",\"v444a\",\"v440\",\"v441\",\"v442\",\"hw9\",\"h211\",\"hw12\"]\n",
        "\n",
        "# Read the CSV file into a pandas DataFrame\n",
        "df = cudf.read_csv(\"/content/drive/MyDrive/IAKR7EDT/IAKR7EDT.csv\")\n",
        "\n",
        "# Drop all features except the ones specified in features_to_keep\n",
        "dropped_features = list(set(df.columns) - set(features_to_keep))\n",
        "df.drop(dropped_features, axis=1, inplace=True)\n",
        "\n",
        "# Save the modified DataFrame to a new CSV file\n",
        "df.to_csv(\"/content/reduced_features_230k.csv\", index=False)\n",
        "\n",
        "# Print the DataFrame with dropped features (optional)\n",
        "print(df)\n"
      ],
      "metadata": {
        "colab": {
          "base_uri": "https://localhost:8080/"
        },
        "id": "6rdvpj3YHkFP",
        "outputId": "0a8864de-0ed9-4243-9e20-322e3fa1384f"
      },
      "execution_count": 11,
      "outputs": [
        {
          "output_type": "stream",
          "name": "stdout",
          "text": [
            "        v024  v025  v113  v116  v130  v151 v190a  v212  v218   v437  ...  \\\n",
            "0       <NA>  <NA>  <NA>  <NA>  <NA>  <NA>  <NA>  <NA>  <NA>   <NA>  ...   \n",
            "1          1     2    12  44.0     2     1     2    26     4  438.0  ...   \n",
            "2          1     2    12  44.0     2     1     1    33     1  753.0  ...   \n",
            "3          1     2    12  44.0     2     1     3    29     1  655.0  ...   \n",
            "4          1     2    12  12.0     2     1     3    26     2  605.0  ...   \n",
            "...      ...   ...   ...   ...   ...   ...   ...   ...   ...    ...  ...   \n",
            "232915    37     1    61  44.0     2     1     1    22     1  506.0  ...   \n",
            "232916    37     1    61  44.0     2     1     2    31     1  624.0  ...   \n",
            "232917    37     1    61  12.0     2     1     3    29     2  613.0  ...   \n",
            "232918    37     1    61  12.0     2     1     3    28     1  485.0  ...   \n",
            "232919    37     1    97  97.0     2     1     1    28     1  504.0  ...   \n",
            "\n",
            "          m5  hidx   hw1    hw2     hw3      hw9     hw12  s116  s301 s370b  \n",
            "0       <NA>  <NA>  <NA>   <NA>    <NA>     <NA>     <NA>  <NA>  <NA>  <NA>  \n",
            "1       12.0   1.0  12.0  111.0   900.0  11309.0   8787.0   4.0     1  <NA>  \n",
            "2       25.0   1.0  25.0  145.0  1027.0  11836.0   8978.0   4.0     1  <NA>  \n",
            "3       13.0   1.0  13.0   78.0   893.0  99998.0  99998.0   4.0     1  <NA>  \n",
            "4       39.0  <NA>  39.0  127.0  1097.0  99998.0  99998.0   4.0     1   0.0  \n",
            "...      ...   ...   ...    ...     ...      ...      ...   ...   ...   ...  \n",
            "232915  17.0   1.0  17.0   97.0   783.0   8990.0   9437.0   2.0     1  <NA>  \n",
            "232916  47.0  <NA>  48.0  121.0   963.0   7251.0   8182.0   2.0     1  <NA>  \n",
            "232917  12.0   1.0  12.0   98.0   783.0   9574.0   9240.0   2.0     1  <NA>  \n",
            "232918   1.0   1.0   1.0   42.0   448.0  99998.0  99998.0   2.0     1  <NA>  \n",
            "232919   3.0   1.0   3.0   31.0   532.0   5023.0   7769.0   2.0     1  <NA>  \n",
            "\n",
            "[232920 rows x 27 columns]\n"
          ]
        }
      ]
    },
    {
      "cell_type": "code",
      "source": [
        "df.isnull().sum()"
      ],
      "metadata": {
        "colab": {
          "base_uri": "https://localhost:8080/"
        },
        "id": "48i9IPVXzSy_",
        "outputId": "5b3ff760-3242-4037-d82c-5ba46d368338"
      },
      "execution_count": 12,
      "outputs": [
        {
          "output_type": "execute_result",
          "data": {
            "text/plain": [
              "v024         1\n",
              "v025         1\n",
              "v113         1\n",
              "v116         2\n",
              "v130         1\n",
              "v151         1\n",
              "v190a        1\n",
              "v212         1\n",
              "v218         1\n",
              "v437        79\n",
              "v438        83\n",
              "v440      5911\n",
              "v441      5911\n",
              "v442      5923\n",
              "v444a     5923\n",
              "v445      5911\n",
              "b4           1\n",
              "m5       46739\n",
              "hidx     95522\n",
              "hw1      11658\n",
              "hw2      14882\n",
              "hw3      15357\n",
              "hw9      21932\n",
              "hw12     21791\n",
              "s116     10684\n",
              "s301         1\n",
              "s370b    70114\n",
              "dtype: int64"
            ]
          },
          "metadata": {},
          "execution_count": 12
        }
      ]
    },
    {
      "cell_type": "code",
      "source": [
        "df.isna().sum()"
      ],
      "metadata": {
        "colab": {
          "base_uri": "https://localhost:8080/"
        },
        "id": "OMS06gtfzVue",
        "outputId": "7e50b7e0-d151-4689-f2f2-fb56a75d0c50"
      },
      "execution_count": 13,
      "outputs": [
        {
          "output_type": "execute_result",
          "data": {
            "text/plain": [
              "v024         1\n",
              "v025         1\n",
              "v113         1\n",
              "v116         2\n",
              "v130         1\n",
              "v151         1\n",
              "v190a        1\n",
              "v212         1\n",
              "v218         1\n",
              "v437        79\n",
              "v438        83\n",
              "v440      5911\n",
              "v441      5911\n",
              "v442      5923\n",
              "v444a     5923\n",
              "v445      5911\n",
              "b4           1\n",
              "m5       46739\n",
              "hidx     95522\n",
              "hw1      11658\n",
              "hw2      14882\n",
              "hw3      15357\n",
              "hw9      21932\n",
              "hw12     21791\n",
              "s116     10684\n",
              "s301         1\n",
              "s370b    70114\n",
              "dtype: int64"
            ]
          },
          "metadata": {},
          "execution_count": 13
        }
      ]
    },
    {
      "cell_type": "code",
      "source": [
        "df = df.dropna()\n"
      ],
      "metadata": {
        "id": "odQR0rfWzYJS"
      },
      "execution_count": 14,
      "outputs": []
    },
    {
      "cell_type": "code",
      "source": [
        "df"
      ],
      "metadata": {
        "colab": {
          "base_uri": "https://localhost:8080/",
          "height": 423
        },
        "id": "JB7nvsJ_zaur",
        "outputId": "f69971fa-5a34-4b42-e6a1-b82ecbb2a122"
      },
      "execution_count": 15,
      "outputs": [
        {
          "output_type": "execute_result",
          "data": {
            "text/plain": [
              "        v024  v025  v113  v116  v130  v151  v190a  v212  v218   v437  ...  \\\n",
              "7          1     2    14  13.0     2     1      3    25     3  600.0  ...   \n",
              "8          1     2    11  12.0     2     1      5    32     1  668.0  ...   \n",
              "12         1     2    14  12.0     2     1      4    35     1  602.0  ...   \n",
              "16         1     2    11  12.0     2     1      5    30     1  584.0  ...   \n",
              "20         1     2    11  12.0     2     1      2    26     5  811.0  ...   \n",
              "...      ...   ...   ...   ...   ...   ...    ...   ...   ...    ...  ...   \n",
              "232872    37     2    21  44.0     2     1      3    26     3  532.0  ...   \n",
              "232878    37     2    21  44.0     2     1      2    16     4  551.0  ...   \n",
              "232892    37     1    61  12.0     2     1      2    26     2  569.0  ...   \n",
              "232895    37     1    61  12.0     2     1      2    28     2  655.0  ...   \n",
              "232907    37     1    11  44.0     2     1      1    24     4  577.0  ...   \n",
              "\n",
              "          m5  hidx   hw1    hw2    hw3      hw9     hw12  s116  s301  s370b  \n",
              "7       11.0   1.0  11.0  133.0  766.0  13226.0  13065.0   4.0     1    0.0  \n",
              "8        3.0   1.0   3.0  142.0  792.0  99998.0  99998.0   4.0     0    1.0  \n",
              "12      12.0   1.0  12.0   78.0  739.0   7899.0   8344.0   3.0     1    0.0  \n",
              "16      32.0   1.0  32.0  101.0  846.0   7440.0   8554.0   4.0     1    0.0  \n",
              "20      29.0   1.0  29.0  101.0  874.0   7761.0   8136.0   4.0     1    0.0  \n",
              "...      ...   ...   ...    ...    ...      ...      ...   ...   ...    ...  \n",
              "232872  13.0   1.0  13.0   93.0  805.0   8808.0   8443.0   2.0     1    0.0  \n",
              "232878  25.0   1.0  25.0  110.0  785.0   9066.0  10496.0   2.0     1    0.0  \n",
              "232892  10.0   1.0  10.0   77.0  731.0   8496.0   8350.0   2.0     1    1.0  \n",
              "232895  14.0   1.0  14.0   73.0  799.0   7203.0   6846.0   2.0     1    0.0  \n",
              "232907  27.0   1.0  27.0  117.0  998.0   9410.0   7639.0   2.0     1    1.0  \n",
              "\n",
              "[73172 rows x 27 columns]"
            ],
            "text/html": [
              "<div>\n",
              "<style scoped>\n",
              "    .dataframe tbody tr th:only-of-type {\n",
              "        vertical-align: middle;\n",
              "    }\n",
              "\n",
              "    .dataframe tbody tr th {\n",
              "        vertical-align: top;\n",
              "    }\n",
              "\n",
              "    .dataframe thead th {\n",
              "        text-align: right;\n",
              "    }\n",
              "</style>\n",
              "<table border=\"1\" class=\"dataframe\">\n",
              "  <thead>\n",
              "    <tr style=\"text-align: right;\">\n",
              "      <th></th>\n",
              "      <th>v024</th>\n",
              "      <th>v025</th>\n",
              "      <th>v113</th>\n",
              "      <th>v116</th>\n",
              "      <th>v130</th>\n",
              "      <th>v151</th>\n",
              "      <th>v190a</th>\n",
              "      <th>v212</th>\n",
              "      <th>v218</th>\n",
              "      <th>v437</th>\n",
              "      <th>...</th>\n",
              "      <th>m5</th>\n",
              "      <th>hidx</th>\n",
              "      <th>hw1</th>\n",
              "      <th>hw2</th>\n",
              "      <th>hw3</th>\n",
              "      <th>hw9</th>\n",
              "      <th>hw12</th>\n",
              "      <th>s116</th>\n",
              "      <th>s301</th>\n",
              "      <th>s370b</th>\n",
              "    </tr>\n",
              "  </thead>\n",
              "  <tbody>\n",
              "    <tr>\n",
              "      <th>7</th>\n",
              "      <td>1</td>\n",
              "      <td>2</td>\n",
              "      <td>14</td>\n",
              "      <td>13.0</td>\n",
              "      <td>2</td>\n",
              "      <td>1</td>\n",
              "      <td>3</td>\n",
              "      <td>25</td>\n",
              "      <td>3</td>\n",
              "      <td>600.0</td>\n",
              "      <td>...</td>\n",
              "      <td>11.0</td>\n",
              "      <td>1.0</td>\n",
              "      <td>11.0</td>\n",
              "      <td>133.0</td>\n",
              "      <td>766.0</td>\n",
              "      <td>13226.0</td>\n",
              "      <td>13065.0</td>\n",
              "      <td>4.0</td>\n",
              "      <td>1</td>\n",
              "      <td>0.0</td>\n",
              "    </tr>\n",
              "    <tr>\n",
              "      <th>8</th>\n",
              "      <td>1</td>\n",
              "      <td>2</td>\n",
              "      <td>11</td>\n",
              "      <td>12.0</td>\n",
              "      <td>2</td>\n",
              "      <td>1</td>\n",
              "      <td>5</td>\n",
              "      <td>32</td>\n",
              "      <td>1</td>\n",
              "      <td>668.0</td>\n",
              "      <td>...</td>\n",
              "      <td>3.0</td>\n",
              "      <td>1.0</td>\n",
              "      <td>3.0</td>\n",
              "      <td>142.0</td>\n",
              "      <td>792.0</td>\n",
              "      <td>99998.0</td>\n",
              "      <td>99998.0</td>\n",
              "      <td>4.0</td>\n",
              "      <td>0</td>\n",
              "      <td>1.0</td>\n",
              "    </tr>\n",
              "    <tr>\n",
              "      <th>12</th>\n",
              "      <td>1</td>\n",
              "      <td>2</td>\n",
              "      <td>14</td>\n",
              "      <td>12.0</td>\n",
              "      <td>2</td>\n",
              "      <td>1</td>\n",
              "      <td>4</td>\n",
              "      <td>35</td>\n",
              "      <td>1</td>\n",
              "      <td>602.0</td>\n",
              "      <td>...</td>\n",
              "      <td>12.0</td>\n",
              "      <td>1.0</td>\n",
              "      <td>12.0</td>\n",
              "      <td>78.0</td>\n",
              "      <td>739.0</td>\n",
              "      <td>7899.0</td>\n",
              "      <td>8344.0</td>\n",
              "      <td>3.0</td>\n",
              "      <td>1</td>\n",
              "      <td>0.0</td>\n",
              "    </tr>\n",
              "    <tr>\n",
              "      <th>16</th>\n",
              "      <td>1</td>\n",
              "      <td>2</td>\n",
              "      <td>11</td>\n",
              "      <td>12.0</td>\n",
              "      <td>2</td>\n",
              "      <td>1</td>\n",
              "      <td>5</td>\n",
              "      <td>30</td>\n",
              "      <td>1</td>\n",
              "      <td>584.0</td>\n",
              "      <td>...</td>\n",
              "      <td>32.0</td>\n",
              "      <td>1.0</td>\n",
              "      <td>32.0</td>\n",
              "      <td>101.0</td>\n",
              "      <td>846.0</td>\n",
              "      <td>7440.0</td>\n",
              "      <td>8554.0</td>\n",
              "      <td>4.0</td>\n",
              "      <td>1</td>\n",
              "      <td>0.0</td>\n",
              "    </tr>\n",
              "    <tr>\n",
              "      <th>20</th>\n",
              "      <td>1</td>\n",
              "      <td>2</td>\n",
              "      <td>11</td>\n",
              "      <td>12.0</td>\n",
              "      <td>2</td>\n",
              "      <td>1</td>\n",
              "      <td>2</td>\n",
              "      <td>26</td>\n",
              "      <td>5</td>\n",
              "      <td>811.0</td>\n",
              "      <td>...</td>\n",
              "      <td>29.0</td>\n",
              "      <td>1.0</td>\n",
              "      <td>29.0</td>\n",
              "      <td>101.0</td>\n",
              "      <td>874.0</td>\n",
              "      <td>7761.0</td>\n",
              "      <td>8136.0</td>\n",
              "      <td>4.0</td>\n",
              "      <td>1</td>\n",
              "      <td>0.0</td>\n",
              "    </tr>\n",
              "    <tr>\n",
              "      <th>...</th>\n",
              "      <td>...</td>\n",
              "      <td>...</td>\n",
              "      <td>...</td>\n",
              "      <td>...</td>\n",
              "      <td>...</td>\n",
              "      <td>...</td>\n",
              "      <td>...</td>\n",
              "      <td>...</td>\n",
              "      <td>...</td>\n",
              "      <td>...</td>\n",
              "      <td>...</td>\n",
              "      <td>...</td>\n",
              "      <td>...</td>\n",
              "      <td>...</td>\n",
              "      <td>...</td>\n",
              "      <td>...</td>\n",
              "      <td>...</td>\n",
              "      <td>...</td>\n",
              "      <td>...</td>\n",
              "      <td>...</td>\n",
              "      <td>...</td>\n",
              "    </tr>\n",
              "    <tr>\n",
              "      <th>232872</th>\n",
              "      <td>37</td>\n",
              "      <td>2</td>\n",
              "      <td>21</td>\n",
              "      <td>44.0</td>\n",
              "      <td>2</td>\n",
              "      <td>1</td>\n",
              "      <td>3</td>\n",
              "      <td>26</td>\n",
              "      <td>3</td>\n",
              "      <td>532.0</td>\n",
              "      <td>...</td>\n",
              "      <td>13.0</td>\n",
              "      <td>1.0</td>\n",
              "      <td>13.0</td>\n",
              "      <td>93.0</td>\n",
              "      <td>805.0</td>\n",
              "      <td>8808.0</td>\n",
              "      <td>8443.0</td>\n",
              "      <td>2.0</td>\n",
              "      <td>1</td>\n",
              "      <td>0.0</td>\n",
              "    </tr>\n",
              "    <tr>\n",
              "      <th>232878</th>\n",
              "      <td>37</td>\n",
              "      <td>2</td>\n",
              "      <td>21</td>\n",
              "      <td>44.0</td>\n",
              "      <td>2</td>\n",
              "      <td>1</td>\n",
              "      <td>2</td>\n",
              "      <td>16</td>\n",
              "      <td>4</td>\n",
              "      <td>551.0</td>\n",
              "      <td>...</td>\n",
              "      <td>25.0</td>\n",
              "      <td>1.0</td>\n",
              "      <td>25.0</td>\n",
              "      <td>110.0</td>\n",
              "      <td>785.0</td>\n",
              "      <td>9066.0</td>\n",
              "      <td>10496.0</td>\n",
              "      <td>2.0</td>\n",
              "      <td>1</td>\n",
              "      <td>0.0</td>\n",
              "    </tr>\n",
              "    <tr>\n",
              "      <th>232892</th>\n",
              "      <td>37</td>\n",
              "      <td>1</td>\n",
              "      <td>61</td>\n",
              "      <td>12.0</td>\n",
              "      <td>2</td>\n",
              "      <td>1</td>\n",
              "      <td>2</td>\n",
              "      <td>26</td>\n",
              "      <td>2</td>\n",
              "      <td>569.0</td>\n",
              "      <td>...</td>\n",
              "      <td>10.0</td>\n",
              "      <td>1.0</td>\n",
              "      <td>10.0</td>\n",
              "      <td>77.0</td>\n",
              "      <td>731.0</td>\n",
              "      <td>8496.0</td>\n",
              "      <td>8350.0</td>\n",
              "      <td>2.0</td>\n",
              "      <td>1</td>\n",
              "      <td>1.0</td>\n",
              "    </tr>\n",
              "    <tr>\n",
              "      <th>232895</th>\n",
              "      <td>37</td>\n",
              "      <td>1</td>\n",
              "      <td>61</td>\n",
              "      <td>12.0</td>\n",
              "      <td>2</td>\n",
              "      <td>1</td>\n",
              "      <td>2</td>\n",
              "      <td>28</td>\n",
              "      <td>2</td>\n",
              "      <td>655.0</td>\n",
              "      <td>...</td>\n",
              "      <td>14.0</td>\n",
              "      <td>1.0</td>\n",
              "      <td>14.0</td>\n",
              "      <td>73.0</td>\n",
              "      <td>799.0</td>\n",
              "      <td>7203.0</td>\n",
              "      <td>6846.0</td>\n",
              "      <td>2.0</td>\n",
              "      <td>1</td>\n",
              "      <td>0.0</td>\n",
              "    </tr>\n",
              "    <tr>\n",
              "      <th>232907</th>\n",
              "      <td>37</td>\n",
              "      <td>1</td>\n",
              "      <td>11</td>\n",
              "      <td>44.0</td>\n",
              "      <td>2</td>\n",
              "      <td>1</td>\n",
              "      <td>1</td>\n",
              "      <td>24</td>\n",
              "      <td>4</td>\n",
              "      <td>577.0</td>\n",
              "      <td>...</td>\n",
              "      <td>27.0</td>\n",
              "      <td>1.0</td>\n",
              "      <td>27.0</td>\n",
              "      <td>117.0</td>\n",
              "      <td>998.0</td>\n",
              "      <td>9410.0</td>\n",
              "      <td>7639.0</td>\n",
              "      <td>2.0</td>\n",
              "      <td>1</td>\n",
              "      <td>1.0</td>\n",
              "    </tr>\n",
              "  </tbody>\n",
              "</table>\n",
              "<p>73172 rows × 27 columns</p>\n",
              "</div>"
            ]
          },
          "metadata": {},
          "execution_count": 15
        }
      ]
    },
    {
      "cell_type": "markdown",
      "source": [
        "CAlculation of BMI , HAZ , WAZ , WHZ"
      ],
      "metadata": {
        "id": "UEjTUFxxFczz"
      }
    },
    {
      "cell_type": "code",
      "source": [
        "def calculate_bmi(weight_gms, height_cms):\n",
        "    # Convert height from centimeters to meters\n",
        "    height_meters = height_cms / 100\n",
        "    # Calculate BMI using the formula: weight (kg) / (height (m))^2\n",
        "    bmi = weight_gms*10 / (height_meters ** 2)\n",
        "    return bmi\n",
        "\n",
        "# Calculate BMI for each datapoint and store in a new column 'bmi'\n",
        "df['bmi'] = df.apply(lambda row: calculate_bmi(row['hw2'], row['hw3']), axis=1)\n",
        "\n",
        "# Save the modified DataFrame to a new CSV file\n",
        "df.to_csv(\"/content/reduced_feature_230k.csv\", index=False)\n",
        "\n",
        "# Print the DataFrame with the updated 'bmi' column (optional)\n",
        "print(df)\n"
      ],
      "metadata": {
        "colab": {
          "base_uri": "https://localhost:8080/",
          "height": 587
        },
        "id": "TuJOdAtiFcX6",
        "outputId": "1576d93e-667b-44a4-c6f7-5de694e777a2"
      },
      "execution_count": 10,
      "outputs": [
        {
          "output_type": "error",
          "ename": "ValueError",
          "evalue": "user defined function compilation failed.",
          "traceback": [
            "\u001b[0;31m---------------------------------------------------------------------------\u001b[0m",
            "\u001b[0;31mTypingError\u001b[0m                               Traceback (most recent call last)",
            "\u001b[0;32m/usr/local/lib/python3.10/dist-packages/cudf/core/indexed_frame.py\u001b[0m in \u001b[0;36m_apply\u001b[0;34m(self, func, kernel_getter, *args, **kwargs)\u001b[0m\n\u001b[1;32m   3452\u001b[0m         \u001b[0;32mtry\u001b[0m\u001b[0;34m:\u001b[0m\u001b[0;34m\u001b[0m\u001b[0;34m\u001b[0m\u001b[0m\n\u001b[0;32m-> 3453\u001b[0;31m             kernel, retty = _compile_or_get(\n\u001b[0m\u001b[1;32m   3454\u001b[0m                 \u001b[0mself\u001b[0m\u001b[0;34m,\u001b[0m \u001b[0mfunc\u001b[0m\u001b[0;34m,\u001b[0m \u001b[0margs\u001b[0m\u001b[0;34m,\u001b[0m \u001b[0mkernel_getter\u001b[0m\u001b[0;34m=\u001b[0m\u001b[0mkernel_getter\u001b[0m\u001b[0;34m\u001b[0m\u001b[0;34m\u001b[0m\u001b[0m\n",
            "\u001b[0;32m/usr/local/lib/python3.10/dist-packages/nvtx/nvtx.py\u001b[0m in \u001b[0;36minner\u001b[0;34m(*args, **kwargs)\u001b[0m\n\u001b[1;32m    115\u001b[0m             \u001b[0mlibnvtx_push_range\u001b[0m\u001b[0;34m(\u001b[0m\u001b[0mself\u001b[0m\u001b[0;34m.\u001b[0m\u001b[0mattributes\u001b[0m\u001b[0;34m,\u001b[0m \u001b[0mself\u001b[0m\u001b[0;34m.\u001b[0m\u001b[0mdomain\u001b[0m\u001b[0;34m.\u001b[0m\u001b[0mhandle\u001b[0m\u001b[0;34m)\u001b[0m\u001b[0;34m\u001b[0m\u001b[0;34m\u001b[0m\u001b[0m\n\u001b[0;32m--> 116\u001b[0;31m             \u001b[0mresult\u001b[0m \u001b[0;34m=\u001b[0m \u001b[0mfunc\u001b[0m\u001b[0;34m(\u001b[0m\u001b[0;34m*\u001b[0m\u001b[0margs\u001b[0m\u001b[0;34m,\u001b[0m \u001b[0;34m**\u001b[0m\u001b[0mkwargs\u001b[0m\u001b[0;34m)\u001b[0m\u001b[0;34m\u001b[0m\u001b[0;34m\u001b[0m\u001b[0m\n\u001b[0m\u001b[1;32m    117\u001b[0m             \u001b[0mlibnvtx_pop_range\u001b[0m\u001b[0;34m(\u001b[0m\u001b[0mself\u001b[0m\u001b[0;34m.\u001b[0m\u001b[0mdomain\u001b[0m\u001b[0;34m.\u001b[0m\u001b[0mhandle\u001b[0m\u001b[0;34m)\u001b[0m\u001b[0;34m\u001b[0m\u001b[0;34m\u001b[0m\u001b[0m\n",
            "\u001b[0;32m/usr/local/lib/python3.10/dist-packages/cudf/core/udf/utils.py\u001b[0m in \u001b[0;36m_compile_or_get\u001b[0;34m(frame, func, args, kernel_getter, suffix)\u001b[0m\n\u001b[1;32m    273\u001b[0m \u001b[0;34m\u001b[0m\u001b[0m\n\u001b[0;32m--> 274\u001b[0;31m     \u001b[0mkernel\u001b[0m\u001b[0;34m,\u001b[0m \u001b[0mscalar_return_type\u001b[0m \u001b[0;34m=\u001b[0m \u001b[0mkernel_getter\u001b[0m\u001b[0;34m(\u001b[0m\u001b[0mframe\u001b[0m\u001b[0;34m,\u001b[0m \u001b[0mfunc\u001b[0m\u001b[0;34m,\u001b[0m \u001b[0margs\u001b[0m\u001b[0;34m)\u001b[0m\u001b[0;34m\u001b[0m\u001b[0;34m\u001b[0m\u001b[0m\n\u001b[0m\u001b[1;32m    275\u001b[0m     np_return_type = (\n",
            "\u001b[0;32m/usr/local/lib/python3.10/dist-packages/cudf/core/udf/row_function.py\u001b[0m in \u001b[0;36m_get_row_kernel\u001b[0;34m(frame, func, args)\u001b[0m\n\u001b[1;32m    142\u001b[0m     )\n\u001b[0;32m--> 143\u001b[0;31m     \u001b[0mscalar_return_type\u001b[0m \u001b[0;34m=\u001b[0m \u001b[0m_get_udf_return_type\u001b[0m\u001b[0;34m(\u001b[0m\u001b[0mrow_type\u001b[0m\u001b[0;34m,\u001b[0m \u001b[0mfunc\u001b[0m\u001b[0;34m,\u001b[0m \u001b[0margs\u001b[0m\u001b[0;34m)\u001b[0m\u001b[0;34m\u001b[0m\u001b[0;34m\u001b[0m\u001b[0m\n\u001b[0m\u001b[1;32m    144\u001b[0m     \u001b[0;31m# this is the signature for the final full kernel compilation\u001b[0m\u001b[0;34m\u001b[0m\u001b[0;34m\u001b[0m\u001b[0m\n",
            "\u001b[0;32m/usr/local/lib/python3.10/dist-packages/nvtx/nvtx.py\u001b[0m in \u001b[0;36minner\u001b[0;34m(*args, **kwargs)\u001b[0m\n\u001b[1;32m    115\u001b[0m             \u001b[0mlibnvtx_push_range\u001b[0m\u001b[0;34m(\u001b[0m\u001b[0mself\u001b[0m\u001b[0;34m.\u001b[0m\u001b[0mattributes\u001b[0m\u001b[0;34m,\u001b[0m \u001b[0mself\u001b[0m\u001b[0;34m.\u001b[0m\u001b[0mdomain\u001b[0m\u001b[0;34m.\u001b[0m\u001b[0mhandle\u001b[0m\u001b[0;34m)\u001b[0m\u001b[0;34m\u001b[0m\u001b[0;34m\u001b[0m\u001b[0m\n\u001b[0;32m--> 116\u001b[0;31m             \u001b[0mresult\u001b[0m \u001b[0;34m=\u001b[0m \u001b[0mfunc\u001b[0m\u001b[0;34m(\u001b[0m\u001b[0;34m*\u001b[0m\u001b[0margs\u001b[0m\u001b[0;34m,\u001b[0m \u001b[0;34m**\u001b[0m\u001b[0mkwargs\u001b[0m\u001b[0;34m)\u001b[0m\u001b[0;34m\u001b[0m\u001b[0;34m\u001b[0m\u001b[0m\n\u001b[0m\u001b[1;32m    117\u001b[0m             \u001b[0mlibnvtx_pop_range\u001b[0m\u001b[0;34m(\u001b[0m\u001b[0mself\u001b[0m\u001b[0;34m.\u001b[0m\u001b[0mdomain\u001b[0m\u001b[0;34m.\u001b[0m\u001b[0mhandle\u001b[0m\u001b[0;34m)\u001b[0m\u001b[0;34m\u001b[0m\u001b[0;34m\u001b[0m\u001b[0m\n",
            "\u001b[0;32m/usr/local/lib/python3.10/dist-packages/cudf/core/udf/utils.py\u001b[0m in \u001b[0;36m_get_udf_return_type\u001b[0;34m(argty, func, args)\u001b[0m\n\u001b[1;32m     93\u001b[0m     \u001b[0;32mwith\u001b[0m \u001b[0m_CUDFNumbaConfig\u001b[0m\u001b[0;34m(\u001b[0m\u001b[0;34m)\u001b[0m\u001b[0;34m:\u001b[0m\u001b[0;34m\u001b[0m\u001b[0;34m\u001b[0m\u001b[0m\n\u001b[0;32m---> 94\u001b[0;31m         \u001b[0mptx\u001b[0m\u001b[0;34m,\u001b[0m \u001b[0moutput_type\u001b[0m \u001b[0;34m=\u001b[0m \u001b[0mcudautils\u001b[0m\u001b[0;34m.\u001b[0m\u001b[0mcompile_udf\u001b[0m\u001b[0;34m(\u001b[0m\u001b[0mfunc\u001b[0m\u001b[0;34m,\u001b[0m \u001b[0mcompile_sig\u001b[0m\u001b[0;34m)\u001b[0m\u001b[0;34m\u001b[0m\u001b[0;34m\u001b[0m\u001b[0m\n\u001b[0m\u001b[1;32m     95\u001b[0m \u001b[0;34m\u001b[0m\u001b[0m\n",
            "\u001b[0;32m/usr/local/lib/python3.10/dist-packages/cudf/utils/cudautils.py\u001b[0m in \u001b[0;36mcompile_udf\u001b[0;34m(udf, type_signature)\u001b[0m\n\u001b[1;32m    125\u001b[0m     \u001b[0;31m# compilation with Numba\u001b[0m\u001b[0;34m\u001b[0m\u001b[0;34m\u001b[0m\u001b[0m\n\u001b[0;32m--> 126\u001b[0;31m     ptx_code, return_type = cuda.compile_ptx_for_current_device(\n\u001b[0m\u001b[1;32m    127\u001b[0m         \u001b[0mudf\u001b[0m\u001b[0;34m,\u001b[0m \u001b[0mtype_signature\u001b[0m\u001b[0;34m,\u001b[0m \u001b[0mdevice\u001b[0m\u001b[0;34m=\u001b[0m\u001b[0;32mTrue\u001b[0m\u001b[0;34m\u001b[0m\u001b[0;34m\u001b[0m\u001b[0m\n",
            "\u001b[0;32m/usr/local/lib/python3.10/dist-packages/numba/cuda/compiler.py\u001b[0m in \u001b[0;36mcompile_ptx_for_current_device\u001b[0;34m(pyfunc, sig, debug, lineinfo, device, fastmath, opt)\u001b[0m\n\u001b[1;32m    282\u001b[0m     \u001b[0mcc\u001b[0m \u001b[0;34m=\u001b[0m \u001b[0mget_current_device\u001b[0m\u001b[0;34m(\u001b[0m\u001b[0;34m)\u001b[0m\u001b[0;34m.\u001b[0m\u001b[0mcompute_capability\u001b[0m\u001b[0;34m\u001b[0m\u001b[0;34m\u001b[0m\u001b[0m\n\u001b[0;32m--> 283\u001b[0;31m     return compile_ptx(pyfunc, sig, debug=debug, lineinfo=lineinfo,\n\u001b[0m\u001b[1;32m    284\u001b[0m                        device=device, fastmath=fastmath, cc=cc, opt=True)\n",
            "\u001b[0;32m/usr/local/lib/python3.10/dist-packages/numba/core/compiler_lock.py\u001b[0m in \u001b[0;36m_acquire_compile_lock\u001b[0;34m(*args, **kwargs)\u001b[0m\n\u001b[1;32m     34\u001b[0m             \u001b[0;32mwith\u001b[0m \u001b[0mself\u001b[0m\u001b[0;34m:\u001b[0m\u001b[0;34m\u001b[0m\u001b[0;34m\u001b[0m\u001b[0m\n\u001b[0;32m---> 35\u001b[0;31m                 \u001b[0;32mreturn\u001b[0m \u001b[0mfunc\u001b[0m\u001b[0;34m(\u001b[0m\u001b[0;34m*\u001b[0m\u001b[0margs\u001b[0m\u001b[0;34m,\u001b[0m \u001b[0;34m**\u001b[0m\u001b[0mkwargs\u001b[0m\u001b[0;34m)\u001b[0m\u001b[0;34m\u001b[0m\u001b[0;34m\u001b[0m\u001b[0m\n\u001b[0m\u001b[1;32m     36\u001b[0m         \u001b[0;32mreturn\u001b[0m \u001b[0m_acquire_compile_lock\u001b[0m\u001b[0;34m\u001b[0m\u001b[0;34m\u001b[0m\u001b[0m\n",
            "\u001b[0;32m/usr/local/lib/python3.10/dist-packages/numba/cuda/compiler.py\u001b[0m in \u001b[0;36mcompile_ptx\u001b[0;34m(pyfunc, sig, debug, lineinfo, device, fastmath, cc, opt)\u001b[0m\n\u001b[1;32m    252\u001b[0m     \u001b[0mcc\u001b[0m \u001b[0;34m=\u001b[0m \u001b[0mcc\u001b[0m \u001b[0;32mor\u001b[0m \u001b[0mconfig\u001b[0m\u001b[0;34m.\u001b[0m\u001b[0mCUDA_DEFAULT_PTX_CC\u001b[0m\u001b[0;34m\u001b[0m\u001b[0;34m\u001b[0m\u001b[0m\n\u001b[0;32m--> 253\u001b[0;31m     cres = compile_cuda(pyfunc, return_type, args, debug=debug,\n\u001b[0m\u001b[1;32m    254\u001b[0m                         \u001b[0mlineinfo\u001b[0m\u001b[0;34m=\u001b[0m\u001b[0mlineinfo\u001b[0m\u001b[0;34m,\u001b[0m \u001b[0mfastmath\u001b[0m\u001b[0;34m=\u001b[0m\u001b[0mfastmath\u001b[0m\u001b[0;34m,\u001b[0m\u001b[0;34m\u001b[0m\u001b[0;34m\u001b[0m\u001b[0m\n",
            "\u001b[0;32m/usr/local/lib/python3.10/dist-packages/numba/core/compiler_lock.py\u001b[0m in \u001b[0;36m_acquire_compile_lock\u001b[0;34m(*args, **kwargs)\u001b[0m\n\u001b[1;32m     34\u001b[0m             \u001b[0;32mwith\u001b[0m \u001b[0mself\u001b[0m\u001b[0;34m:\u001b[0m\u001b[0;34m\u001b[0m\u001b[0;34m\u001b[0m\u001b[0m\n\u001b[0;32m---> 35\u001b[0;31m                 \u001b[0;32mreturn\u001b[0m \u001b[0mfunc\u001b[0m\u001b[0;34m(\u001b[0m\u001b[0;34m*\u001b[0m\u001b[0margs\u001b[0m\u001b[0;34m,\u001b[0m \u001b[0;34m**\u001b[0m\u001b[0mkwargs\u001b[0m\u001b[0;34m)\u001b[0m\u001b[0;34m\u001b[0m\u001b[0;34m\u001b[0m\u001b[0m\n\u001b[0m\u001b[1;32m     36\u001b[0m         \u001b[0;32mreturn\u001b[0m \u001b[0m_acquire_compile_lock\u001b[0m\u001b[0;34m\u001b[0m\u001b[0;34m\u001b[0m\u001b[0m\n",
            "\u001b[0;32m/usr/local/lib/python3.10/dist-packages/numba/cuda/compiler.py\u001b[0m in \u001b[0;36mcompile_cuda\u001b[0;34m(pyfunc, return_type, args, debug, lineinfo, inline, fastmath, nvvm_options, cc)\u001b[0m\n\u001b[1;32m    193\u001b[0m     \u001b[0;32mwith\u001b[0m \u001b[0mtarget_override\u001b[0m\u001b[0;34m(\u001b[0m\u001b[0;34m'cuda'\u001b[0m\u001b[0;34m)\u001b[0m\u001b[0;34m:\u001b[0m\u001b[0;34m\u001b[0m\u001b[0;34m\u001b[0m\u001b[0m\n\u001b[0;32m--> 194\u001b[0;31m         cres = compiler.compile_extra(typingctx=typingctx,\n\u001b[0m\u001b[1;32m    195\u001b[0m                                       \u001b[0mtargetctx\u001b[0m\u001b[0;34m=\u001b[0m\u001b[0mtargetctx\u001b[0m\u001b[0;34m,\u001b[0m\u001b[0;34m\u001b[0m\u001b[0;34m\u001b[0m\u001b[0m\n",
            "\u001b[0;32m/usr/local/lib/python3.10/dist-packages/numba/core/compiler.py\u001b[0m in \u001b[0;36mcompile_extra\u001b[0;34m(typingctx, targetctx, func, args, return_type, flags, locals, library, pipeline_class)\u001b[0m\n\u001b[1;32m    769\u001b[0m                               args, return_type, flags, locals)\n\u001b[0;32m--> 770\u001b[0;31m     \u001b[0;32mreturn\u001b[0m \u001b[0mpipeline\u001b[0m\u001b[0;34m.\u001b[0m\u001b[0mcompile_extra\u001b[0m\u001b[0;34m(\u001b[0m\u001b[0mfunc\u001b[0m\u001b[0;34m)\u001b[0m\u001b[0;34m\u001b[0m\u001b[0;34m\u001b[0m\u001b[0m\n\u001b[0m\u001b[1;32m    771\u001b[0m \u001b[0;34m\u001b[0m\u001b[0m\n",
            "\u001b[0;32m/usr/local/lib/python3.10/dist-packages/numba/core/compiler.py\u001b[0m in \u001b[0;36mcompile_extra\u001b[0;34m(self, func)\u001b[0m\n\u001b[1;32m    460\u001b[0m         \u001b[0mself\u001b[0m\u001b[0;34m.\u001b[0m\u001b[0mstate\u001b[0m\u001b[0;34m.\u001b[0m\u001b[0mlifted_from\u001b[0m \u001b[0;34m=\u001b[0m \u001b[0;32mNone\u001b[0m\u001b[0;34m\u001b[0m\u001b[0;34m\u001b[0m\u001b[0m\n\u001b[0;32m--> 461\u001b[0;31m         \u001b[0;32mreturn\u001b[0m \u001b[0mself\u001b[0m\u001b[0;34m.\u001b[0m\u001b[0m_compile_bytecode\u001b[0m\u001b[0;34m(\u001b[0m\u001b[0;34m)\u001b[0m\u001b[0;34m\u001b[0m\u001b[0;34m\u001b[0m\u001b[0m\n\u001b[0m\u001b[1;32m    462\u001b[0m \u001b[0;34m\u001b[0m\u001b[0m\n",
            "\u001b[0;32m/usr/local/lib/python3.10/dist-packages/numba/core/compiler.py\u001b[0m in \u001b[0;36m_compile_bytecode\u001b[0;34m(self)\u001b[0m\n\u001b[1;32m    528\u001b[0m         \u001b[0;32massert\u001b[0m \u001b[0mself\u001b[0m\u001b[0;34m.\u001b[0m\u001b[0mstate\u001b[0m\u001b[0;34m.\u001b[0m\u001b[0mfunc_ir\u001b[0m \u001b[0;32mis\u001b[0m \u001b[0;32mNone\u001b[0m\u001b[0;34m\u001b[0m\u001b[0;34m\u001b[0m\u001b[0m\n\u001b[0;32m--> 529\u001b[0;31m         \u001b[0;32mreturn\u001b[0m \u001b[0mself\u001b[0m\u001b[0;34m.\u001b[0m\u001b[0m_compile_core\u001b[0m\u001b[0;34m(\u001b[0m\u001b[0;34m)\u001b[0m\u001b[0;34m\u001b[0m\u001b[0;34m\u001b[0m\u001b[0m\n\u001b[0m\u001b[1;32m    530\u001b[0m \u001b[0;34m\u001b[0m\u001b[0m\n",
            "\u001b[0;32m/usr/local/lib/python3.10/dist-packages/numba/core/compiler.py\u001b[0m in \u001b[0;36m_compile_core\u001b[0;34m(self)\u001b[0m\n\u001b[1;32m    507\u001b[0m                     \u001b[0;32mif\u001b[0m \u001b[0mis_final_pipeline\u001b[0m\u001b[0;34m:\u001b[0m\u001b[0;34m\u001b[0m\u001b[0;34m\u001b[0m\u001b[0m\n\u001b[0;32m--> 508\u001b[0;31m                         \u001b[0;32mraise\u001b[0m \u001b[0me\u001b[0m\u001b[0;34m\u001b[0m\u001b[0;34m\u001b[0m\u001b[0m\n\u001b[0m\u001b[1;32m    509\u001b[0m             \u001b[0;32melse\u001b[0m\u001b[0;34m:\u001b[0m\u001b[0;34m\u001b[0m\u001b[0;34m\u001b[0m\u001b[0m\n",
            "\u001b[0;32m/usr/local/lib/python3.10/dist-packages/numba/core/compiler.py\u001b[0m in \u001b[0;36m_compile_core\u001b[0;34m(self)\u001b[0m\n\u001b[1;32m    494\u001b[0m                 \u001b[0;32mtry\u001b[0m\u001b[0;34m:\u001b[0m\u001b[0;34m\u001b[0m\u001b[0;34m\u001b[0m\u001b[0m\n\u001b[0;32m--> 495\u001b[0;31m                     \u001b[0mpm\u001b[0m\u001b[0;34m.\u001b[0m\u001b[0mrun\u001b[0m\u001b[0;34m(\u001b[0m\u001b[0mself\u001b[0m\u001b[0;34m.\u001b[0m\u001b[0mstate\u001b[0m\u001b[0;34m)\u001b[0m\u001b[0;34m\u001b[0m\u001b[0;34m\u001b[0m\u001b[0m\n\u001b[0m\u001b[1;32m    496\u001b[0m                     \u001b[0;32mif\u001b[0m \u001b[0mself\u001b[0m\u001b[0;34m.\u001b[0m\u001b[0mstate\u001b[0m\u001b[0;34m.\u001b[0m\u001b[0mcr\u001b[0m \u001b[0;32mis\u001b[0m \u001b[0;32mnot\u001b[0m \u001b[0;32mNone\u001b[0m\u001b[0;34m:\u001b[0m\u001b[0;34m\u001b[0m\u001b[0;34m\u001b[0m\u001b[0m\n",
            "\u001b[0;32m/usr/local/lib/python3.10/dist-packages/numba/core/compiler_machinery.py\u001b[0m in \u001b[0;36mrun\u001b[0;34m(self, state)\u001b[0m\n\u001b[1;32m    367\u001b[0m                 \u001b[0mpatched_exception\u001b[0m \u001b[0;34m=\u001b[0m \u001b[0mself\u001b[0m\u001b[0;34m.\u001b[0m\u001b[0m_patch_error\u001b[0m\u001b[0;34m(\u001b[0m\u001b[0mmsg\u001b[0m\u001b[0;34m,\u001b[0m \u001b[0me\u001b[0m\u001b[0;34m)\u001b[0m\u001b[0;34m\u001b[0m\u001b[0;34m\u001b[0m\u001b[0m\n\u001b[0;32m--> 368\u001b[0;31m                 \u001b[0;32mraise\u001b[0m \u001b[0mpatched_exception\u001b[0m\u001b[0;34m\u001b[0m\u001b[0;34m\u001b[0m\u001b[0m\n\u001b[0m\u001b[1;32m    369\u001b[0m \u001b[0;34m\u001b[0m\u001b[0m\n",
            "\u001b[0;32m/usr/local/lib/python3.10/dist-packages/numba/core/compiler_machinery.py\u001b[0m in \u001b[0;36mrun\u001b[0;34m(self, state)\u001b[0m\n\u001b[1;32m    355\u001b[0m                 \u001b[0;32mif\u001b[0m \u001b[0misinstance\u001b[0m\u001b[0;34m(\u001b[0m\u001b[0mpass_inst\u001b[0m\u001b[0;34m,\u001b[0m \u001b[0mCompilerPass\u001b[0m\u001b[0;34m)\u001b[0m\u001b[0;34m:\u001b[0m\u001b[0;34m\u001b[0m\u001b[0;34m\u001b[0m\u001b[0m\n\u001b[0;32m--> 356\u001b[0;31m                     \u001b[0mself\u001b[0m\u001b[0;34m.\u001b[0m\u001b[0m_runPass\u001b[0m\u001b[0;34m(\u001b[0m\u001b[0midx\u001b[0m\u001b[0;34m,\u001b[0m \u001b[0mpass_inst\u001b[0m\u001b[0;34m,\u001b[0m \u001b[0mstate\u001b[0m\u001b[0;34m)\u001b[0m\u001b[0;34m\u001b[0m\u001b[0;34m\u001b[0m\u001b[0m\n\u001b[0m\u001b[1;32m    357\u001b[0m                 \u001b[0;32melse\u001b[0m\u001b[0;34m:\u001b[0m\u001b[0;34m\u001b[0m\u001b[0;34m\u001b[0m\u001b[0m\n",
            "\u001b[0;32m/usr/local/lib/python3.10/dist-packages/numba/core/compiler_lock.py\u001b[0m in \u001b[0;36m_acquire_compile_lock\u001b[0;34m(*args, **kwargs)\u001b[0m\n\u001b[1;32m     34\u001b[0m             \u001b[0;32mwith\u001b[0m \u001b[0mself\u001b[0m\u001b[0;34m:\u001b[0m\u001b[0;34m\u001b[0m\u001b[0;34m\u001b[0m\u001b[0m\n\u001b[0;32m---> 35\u001b[0;31m                 \u001b[0;32mreturn\u001b[0m \u001b[0mfunc\u001b[0m\u001b[0;34m(\u001b[0m\u001b[0;34m*\u001b[0m\u001b[0margs\u001b[0m\u001b[0;34m,\u001b[0m \u001b[0;34m**\u001b[0m\u001b[0mkwargs\u001b[0m\u001b[0;34m)\u001b[0m\u001b[0;34m\u001b[0m\u001b[0;34m\u001b[0m\u001b[0m\n\u001b[0m\u001b[1;32m     36\u001b[0m         \u001b[0;32mreturn\u001b[0m \u001b[0m_acquire_compile_lock\u001b[0m\u001b[0;34m\u001b[0m\u001b[0;34m\u001b[0m\u001b[0m\n",
            "\u001b[0;32m/usr/local/lib/python3.10/dist-packages/numba/core/compiler_machinery.py\u001b[0m in \u001b[0;36m_runPass\u001b[0;34m(self, index, pss, internal_state)\u001b[0m\n\u001b[1;32m    310\u001b[0m             \u001b[0;32mwith\u001b[0m \u001b[0mSimpleTimer\u001b[0m\u001b[0;34m(\u001b[0m\u001b[0;34m)\u001b[0m \u001b[0;32mas\u001b[0m \u001b[0mpass_time\u001b[0m\u001b[0;34m:\u001b[0m\u001b[0;34m\u001b[0m\u001b[0;34m\u001b[0m\u001b[0m\n\u001b[0;32m--> 311\u001b[0;31m                 \u001b[0mmutated\u001b[0m \u001b[0;34m|=\u001b[0m \u001b[0mcheck\u001b[0m\u001b[0;34m(\u001b[0m\u001b[0mpss\u001b[0m\u001b[0;34m.\u001b[0m\u001b[0mrun_pass\u001b[0m\u001b[0;34m,\u001b[0m \u001b[0minternal_state\u001b[0m\u001b[0;34m)\u001b[0m\u001b[0;34m\u001b[0m\u001b[0;34m\u001b[0m\u001b[0m\n\u001b[0m\u001b[1;32m    312\u001b[0m             \u001b[0;32mwith\u001b[0m \u001b[0mSimpleTimer\u001b[0m\u001b[0;34m(\u001b[0m\u001b[0;34m)\u001b[0m \u001b[0;32mas\u001b[0m \u001b[0mfinalize_time\u001b[0m\u001b[0;34m:\u001b[0m\u001b[0;34m\u001b[0m\u001b[0;34m\u001b[0m\u001b[0m\n",
            "\u001b[0;32m/usr/local/lib/python3.10/dist-packages/numba/core/compiler_machinery.py\u001b[0m in \u001b[0;36mcheck\u001b[0;34m(func, compiler_state)\u001b[0m\n\u001b[1;32m    272\u001b[0m         \u001b[0;32mdef\u001b[0m \u001b[0mcheck\u001b[0m\u001b[0;34m(\u001b[0m\u001b[0mfunc\u001b[0m\u001b[0;34m,\u001b[0m \u001b[0mcompiler_state\u001b[0m\u001b[0;34m)\u001b[0m\u001b[0;34m:\u001b[0m\u001b[0;34m\u001b[0m\u001b[0;34m\u001b[0m\u001b[0m\n\u001b[0;32m--> 273\u001b[0;31m             \u001b[0mmangled\u001b[0m \u001b[0;34m=\u001b[0m \u001b[0mfunc\u001b[0m\u001b[0;34m(\u001b[0m\u001b[0mcompiler_state\u001b[0m\u001b[0;34m)\u001b[0m\u001b[0;34m\u001b[0m\u001b[0;34m\u001b[0m\u001b[0m\n\u001b[0m\u001b[1;32m    274\u001b[0m             \u001b[0;32mif\u001b[0m \u001b[0mmangled\u001b[0m \u001b[0;32mnot\u001b[0m \u001b[0;32min\u001b[0m \u001b[0;34m(\u001b[0m\u001b[0;32mTrue\u001b[0m\u001b[0;34m,\u001b[0m \u001b[0;32mFalse\u001b[0m\u001b[0;34m)\u001b[0m\u001b[0;34m:\u001b[0m\u001b[0;34m\u001b[0m\u001b[0;34m\u001b[0m\u001b[0m\n",
            "\u001b[0;32m/usr/local/lib/python3.10/dist-packages/numba/core/typed_passes.py\u001b[0m in \u001b[0;36mrun_pass\u001b[0;34m(self, state)\u001b[0m\n\u001b[1;32m    109\u001b[0m             \u001b[0;31m# Type inference\u001b[0m\u001b[0;34m\u001b[0m\u001b[0;34m\u001b[0m\u001b[0m\n\u001b[0;32m--> 110\u001b[0;31m             typemap, return_type, calltypes, errs = type_inference_stage(\n\u001b[0m\u001b[1;32m    111\u001b[0m                 \u001b[0mstate\u001b[0m\u001b[0;34m.\u001b[0m\u001b[0mtypingctx\u001b[0m\u001b[0;34m,\u001b[0m\u001b[0;34m\u001b[0m\u001b[0;34m\u001b[0m\u001b[0m\n",
            "\u001b[0;32m/usr/local/lib/python3.10/dist-packages/numba/core/typed_passes.py\u001b[0m in \u001b[0;36mtype_inference_stage\u001b[0;34m(typingctx, targetctx, interp, args, return_type, locals, raise_errors)\u001b[0m\n\u001b[1;32m     88\u001b[0m \u001b[0;34m\u001b[0m\u001b[0m\n\u001b[0;32m---> 89\u001b[0;31m         \u001b[0minfer\u001b[0m\u001b[0;34m.\u001b[0m\u001b[0mbuild_constraint\u001b[0m\u001b[0;34m(\u001b[0m\u001b[0;34m)\u001b[0m\u001b[0;34m\u001b[0m\u001b[0;34m\u001b[0m\u001b[0m\n\u001b[0m\u001b[1;32m     90\u001b[0m         \u001b[0;31m# return errors in case of partial typing\u001b[0m\u001b[0;34m\u001b[0m\u001b[0;34m\u001b[0m\u001b[0m\n",
            "\u001b[0;32m/usr/local/lib/python3.10/dist-packages/numba/core/typeinfer.py\u001b[0m in \u001b[0;36mbuild_constraint\u001b[0;34m(self)\u001b[0m\n\u001b[1;32m   1038\u001b[0m             \u001b[0;32mfor\u001b[0m \u001b[0minst\u001b[0m \u001b[0;32min\u001b[0m \u001b[0mblk\u001b[0m\u001b[0;34m.\u001b[0m\u001b[0mbody\u001b[0m\u001b[0;34m:\u001b[0m\u001b[0;34m\u001b[0m\u001b[0;34m\u001b[0m\u001b[0m\n\u001b[0;32m-> 1039\u001b[0;31m                 \u001b[0mself\u001b[0m\u001b[0;34m.\u001b[0m\u001b[0mconstrain_statement\u001b[0m\u001b[0;34m(\u001b[0m\u001b[0minst\u001b[0m\u001b[0;34m)\u001b[0m\u001b[0;34m\u001b[0m\u001b[0;34m\u001b[0m\u001b[0m\n\u001b[0m\u001b[1;32m   1040\u001b[0m \u001b[0;34m\u001b[0m\u001b[0m\n",
            "\u001b[0;32m/usr/local/lib/python3.10/dist-packages/numba/core/typeinfer.py\u001b[0m in \u001b[0;36mconstrain_statement\u001b[0;34m(self, inst)\u001b[0m\n\u001b[1;32m   1385\u001b[0m         \u001b[0;32mif\u001b[0m \u001b[0misinstance\u001b[0m\u001b[0;34m(\u001b[0m\u001b[0minst\u001b[0m\u001b[0;34m,\u001b[0m \u001b[0mir\u001b[0m\u001b[0;34m.\u001b[0m\u001b[0mAssign\u001b[0m\u001b[0;34m)\u001b[0m\u001b[0;34m:\u001b[0m\u001b[0;34m\u001b[0m\u001b[0;34m\u001b[0m\u001b[0m\n\u001b[0;32m-> 1386\u001b[0;31m             \u001b[0mself\u001b[0m\u001b[0;34m.\u001b[0m\u001b[0mtypeof_assign\u001b[0m\u001b[0;34m(\u001b[0m\u001b[0minst\u001b[0m\u001b[0;34m)\u001b[0m\u001b[0;34m\u001b[0m\u001b[0;34m\u001b[0m\u001b[0m\n\u001b[0m\u001b[1;32m   1387\u001b[0m         \u001b[0;32melif\u001b[0m \u001b[0misinstance\u001b[0m\u001b[0;34m(\u001b[0m\u001b[0minst\u001b[0m\u001b[0;34m,\u001b[0m \u001b[0mir\u001b[0m\u001b[0;34m.\u001b[0m\u001b[0mSetItem\u001b[0m\u001b[0;34m)\u001b[0m\u001b[0;34m:\u001b[0m\u001b[0;34m\u001b[0m\u001b[0;34m\u001b[0m\u001b[0m\n",
            "\u001b[0;32m/usr/local/lib/python3.10/dist-packages/numba/core/typeinfer.py\u001b[0m in \u001b[0;36mtypeof_assign\u001b[0;34m(self, inst)\u001b[0m\n\u001b[1;32m   1460\u001b[0m         \u001b[0;32melif\u001b[0m \u001b[0misinstance\u001b[0m\u001b[0;34m(\u001b[0m\u001b[0mvalue\u001b[0m\u001b[0;34m,\u001b[0m \u001b[0;34m(\u001b[0m\u001b[0mir\u001b[0m\u001b[0;34m.\u001b[0m\u001b[0mGlobal\u001b[0m\u001b[0;34m,\u001b[0m \u001b[0mir\u001b[0m\u001b[0;34m.\u001b[0m\u001b[0mFreeVar\u001b[0m\u001b[0;34m)\u001b[0m\u001b[0;34m)\u001b[0m\u001b[0;34m:\u001b[0m\u001b[0;34m\u001b[0m\u001b[0;34m\u001b[0m\u001b[0m\n\u001b[0;32m-> 1461\u001b[0;31m             \u001b[0mself\u001b[0m\u001b[0;34m.\u001b[0m\u001b[0mtypeof_global\u001b[0m\u001b[0;34m(\u001b[0m\u001b[0minst\u001b[0m\u001b[0;34m,\u001b[0m \u001b[0minst\u001b[0m\u001b[0;34m.\u001b[0m\u001b[0mtarget\u001b[0m\u001b[0;34m,\u001b[0m \u001b[0mvalue\u001b[0m\u001b[0;34m)\u001b[0m\u001b[0;34m\u001b[0m\u001b[0;34m\u001b[0m\u001b[0m\n\u001b[0m\u001b[1;32m   1462\u001b[0m         \u001b[0;32melif\u001b[0m \u001b[0misinstance\u001b[0m\u001b[0;34m(\u001b[0m\u001b[0mvalue\u001b[0m\u001b[0;34m,\u001b[0m \u001b[0mir\u001b[0m\u001b[0;34m.\u001b[0m\u001b[0mArg\u001b[0m\u001b[0;34m)\u001b[0m\u001b[0;34m:\u001b[0m\u001b[0;34m\u001b[0m\u001b[0;34m\u001b[0m\u001b[0m\n",
            "\u001b[0;32m/usr/local/lib/python3.10/dist-packages/numba/core/typeinfer.py\u001b[0m in \u001b[0;36mtypeof_global\u001b[0;34m(self, inst, target, gvar)\u001b[0m\n\u001b[1;32m   1560\u001b[0m         \u001b[0;32mtry\u001b[0m\u001b[0;34m:\u001b[0m\u001b[0;34m\u001b[0m\u001b[0;34m\u001b[0m\u001b[0m\n\u001b[0;32m-> 1561\u001b[0;31m             \u001b[0mtyp\u001b[0m \u001b[0;34m=\u001b[0m \u001b[0mself\u001b[0m\u001b[0;34m.\u001b[0m\u001b[0mresolve_value_type\u001b[0m\u001b[0;34m(\u001b[0m\u001b[0minst\u001b[0m\u001b[0;34m,\u001b[0m \u001b[0mgvar\u001b[0m\u001b[0;34m.\u001b[0m\u001b[0mvalue\u001b[0m\u001b[0;34m)\u001b[0m\u001b[0;34m\u001b[0m\u001b[0;34m\u001b[0m\u001b[0m\n\u001b[0m\u001b[1;32m   1562\u001b[0m         \u001b[0;32mexcept\u001b[0m \u001b[0mTypingError\u001b[0m \u001b[0;32mas\u001b[0m \u001b[0me\u001b[0m\u001b[0;34m:\u001b[0m\u001b[0;34m\u001b[0m\u001b[0;34m\u001b[0m\u001b[0m\n",
            "\u001b[0;32m/usr/local/lib/python3.10/dist-packages/numba/core/typeinfer.py\u001b[0m in \u001b[0;36mresolve_value_type\u001b[0;34m(self, inst, val)\u001b[0m\n\u001b[1;32m   1481\u001b[0m             \u001b[0mmsg\u001b[0m \u001b[0;34m=\u001b[0m \u001b[0mstr\u001b[0m\u001b[0;34m(\u001b[0m\u001b[0me\u001b[0m\u001b[0;34m)\u001b[0m\u001b[0;34m\u001b[0m\u001b[0;34m\u001b[0m\u001b[0m\n\u001b[0;32m-> 1482\u001b[0;31m         \u001b[0;32mraise\u001b[0m \u001b[0mTypingError\u001b[0m\u001b[0;34m(\u001b[0m\u001b[0mmsg\u001b[0m\u001b[0;34m,\u001b[0m \u001b[0mloc\u001b[0m\u001b[0;34m=\u001b[0m\u001b[0minst\u001b[0m\u001b[0;34m.\u001b[0m\u001b[0mloc\u001b[0m\u001b[0;34m)\u001b[0m\u001b[0;34m\u001b[0m\u001b[0;34m\u001b[0m\u001b[0m\n\u001b[0m\u001b[1;32m   1483\u001b[0m \u001b[0;34m\u001b[0m\u001b[0m\n",
            "\u001b[0;31mTypingError\u001b[0m: Failed in cuda mode pipeline (step: nopython frontend)\nUntyped global name 'calculate_bmi': Cannot determine Numba type of <class 'function'>\n\nFile \"<ipython-input-10-a321070c03d2>\", line 11:\ndef calculate_bmi(weight_gms, height_cms):\n    <source elided>\n# Calculate BMI for each datapoint and store in a new column 'bmi'\ndf['bmi'] = df.apply(lambda row: calculate_bmi(row['hw2'], row['hw3']), axis=1)\n^\n",
            "\nThe above exception was the direct cause of the following exception:\n",
            "\u001b[0;31mValueError\u001b[0m                                Traceback (most recent call last)",
            "\u001b[0;32m<ipython-input-10-a321070c03d2>\u001b[0m in \u001b[0;36m<cell line: 11>\u001b[0;34m()\u001b[0m\n\u001b[1;32m      9\u001b[0m \u001b[0;34m\u001b[0m\u001b[0m\n\u001b[1;32m     10\u001b[0m \u001b[0;31m# Calculate BMI for each datapoint and store in a new column 'bmi'\u001b[0m\u001b[0;34m\u001b[0m\u001b[0;34m\u001b[0m\u001b[0m\n\u001b[0;32m---> 11\u001b[0;31m \u001b[0mdf\u001b[0m\u001b[0;34m[\u001b[0m\u001b[0;34m'bmi'\u001b[0m\u001b[0;34m]\u001b[0m \u001b[0;34m=\u001b[0m \u001b[0mdf\u001b[0m\u001b[0;34m.\u001b[0m\u001b[0mapply\u001b[0m\u001b[0;34m(\u001b[0m\u001b[0;32mlambda\u001b[0m \u001b[0mrow\u001b[0m\u001b[0;34m:\u001b[0m \u001b[0mcalculate_bmi\u001b[0m\u001b[0;34m(\u001b[0m\u001b[0mrow\u001b[0m\u001b[0;34m[\u001b[0m\u001b[0;34m'hw2'\u001b[0m\u001b[0;34m]\u001b[0m\u001b[0;34m,\u001b[0m \u001b[0mrow\u001b[0m\u001b[0;34m[\u001b[0m\u001b[0;34m'hw3'\u001b[0m\u001b[0;34m]\u001b[0m\u001b[0;34m)\u001b[0m\u001b[0;34m,\u001b[0m \u001b[0maxis\u001b[0m\u001b[0;34m=\u001b[0m\u001b[0;36m1\u001b[0m\u001b[0;34m)\u001b[0m\u001b[0;34m\u001b[0m\u001b[0;34m\u001b[0m\u001b[0m\n\u001b[0m\u001b[1;32m     12\u001b[0m \u001b[0;34m\u001b[0m\u001b[0m\n\u001b[1;32m     13\u001b[0m \u001b[0;31m# Save the modified DataFrame to a new CSV file\u001b[0m\u001b[0;34m\u001b[0m\u001b[0;34m\u001b[0m\u001b[0m\n",
            "\u001b[0;32m/usr/local/lib/python3.10/dist-packages/nvtx/nvtx.py\u001b[0m in \u001b[0;36minner\u001b[0;34m(*args, **kwargs)\u001b[0m\n\u001b[1;32m    114\u001b[0m         \u001b[0;32mdef\u001b[0m \u001b[0minner\u001b[0m\u001b[0;34m(\u001b[0m\u001b[0;34m*\u001b[0m\u001b[0margs\u001b[0m\u001b[0;34m,\u001b[0m \u001b[0;34m**\u001b[0m\u001b[0mkwargs\u001b[0m\u001b[0;34m)\u001b[0m\u001b[0;34m:\u001b[0m\u001b[0;34m\u001b[0m\u001b[0;34m\u001b[0m\u001b[0m\n\u001b[1;32m    115\u001b[0m             \u001b[0mlibnvtx_push_range\u001b[0m\u001b[0;34m(\u001b[0m\u001b[0mself\u001b[0m\u001b[0;34m.\u001b[0m\u001b[0mattributes\u001b[0m\u001b[0;34m,\u001b[0m \u001b[0mself\u001b[0m\u001b[0;34m.\u001b[0m\u001b[0mdomain\u001b[0m\u001b[0;34m.\u001b[0m\u001b[0mhandle\u001b[0m\u001b[0;34m)\u001b[0m\u001b[0;34m\u001b[0m\u001b[0;34m\u001b[0m\u001b[0m\n\u001b[0;32m--> 116\u001b[0;31m             \u001b[0mresult\u001b[0m \u001b[0;34m=\u001b[0m \u001b[0mfunc\u001b[0m\u001b[0;34m(\u001b[0m\u001b[0;34m*\u001b[0m\u001b[0margs\u001b[0m\u001b[0;34m,\u001b[0m \u001b[0;34m**\u001b[0m\u001b[0mkwargs\u001b[0m\u001b[0;34m)\u001b[0m\u001b[0;34m\u001b[0m\u001b[0;34m\u001b[0m\u001b[0m\n\u001b[0m\u001b[1;32m    117\u001b[0m             \u001b[0mlibnvtx_pop_range\u001b[0m\u001b[0;34m(\u001b[0m\u001b[0mself\u001b[0m\u001b[0;34m.\u001b[0m\u001b[0mdomain\u001b[0m\u001b[0;34m.\u001b[0m\u001b[0mhandle\u001b[0m\u001b[0;34m)\u001b[0m\u001b[0;34m\u001b[0m\u001b[0;34m\u001b[0m\u001b[0m\n\u001b[1;32m    118\u001b[0m             \u001b[0;32mreturn\u001b[0m \u001b[0mresult\u001b[0m\u001b[0;34m\u001b[0m\u001b[0;34m\u001b[0m\u001b[0m\n",
            "\u001b[0;32m/usr/local/lib/python3.10/dist-packages/cudf/core/dataframe.py\u001b[0m in \u001b[0;36mapply\u001b[0;34m(self, func, axis, raw, result_type, args, **kwargs)\u001b[0m\n\u001b[1;32m   4601\u001b[0m             \u001b[0;32mraise\u001b[0m \u001b[0mValueError\u001b[0m\u001b[0;34m(\u001b[0m\u001b[0;34m\"The `result_type` kwarg is not yet supported.\"\u001b[0m\u001b[0;34m)\u001b[0m\u001b[0;34m\u001b[0m\u001b[0;34m\u001b[0m\u001b[0m\n\u001b[1;32m   4602\u001b[0m \u001b[0;34m\u001b[0m\u001b[0m\n\u001b[0;32m-> 4603\u001b[0;31m         \u001b[0;32mreturn\u001b[0m \u001b[0mself\u001b[0m\u001b[0;34m.\u001b[0m\u001b[0m_apply\u001b[0m\u001b[0;34m(\u001b[0m\u001b[0mfunc\u001b[0m\u001b[0;34m,\u001b[0m \u001b[0m_get_row_kernel\u001b[0m\u001b[0;34m,\u001b[0m \u001b[0;34m*\u001b[0m\u001b[0margs\u001b[0m\u001b[0;34m,\u001b[0m \u001b[0;34m**\u001b[0m\u001b[0mkwargs\u001b[0m\u001b[0;34m)\u001b[0m\u001b[0;34m\u001b[0m\u001b[0;34m\u001b[0m\u001b[0m\n\u001b[0m\u001b[1;32m   4604\u001b[0m \u001b[0;34m\u001b[0m\u001b[0m\n\u001b[1;32m   4605\u001b[0m     def applymap(\n",
            "\u001b[0;32m/usr/lib/python3.10/contextlib.py\u001b[0m in \u001b[0;36minner\u001b[0;34m(*args, **kwds)\u001b[0m\n\u001b[1;32m     77\u001b[0m         \u001b[0;32mdef\u001b[0m \u001b[0minner\u001b[0m\u001b[0;34m(\u001b[0m\u001b[0;34m*\u001b[0m\u001b[0margs\u001b[0m\u001b[0;34m,\u001b[0m \u001b[0;34m**\u001b[0m\u001b[0mkwds\u001b[0m\u001b[0;34m)\u001b[0m\u001b[0;34m:\u001b[0m\u001b[0;34m\u001b[0m\u001b[0;34m\u001b[0m\u001b[0m\n\u001b[1;32m     78\u001b[0m             \u001b[0;32mwith\u001b[0m \u001b[0mself\u001b[0m\u001b[0;34m.\u001b[0m\u001b[0m_recreate_cm\u001b[0m\u001b[0;34m(\u001b[0m\u001b[0;34m)\u001b[0m\u001b[0;34m:\u001b[0m\u001b[0;34m\u001b[0m\u001b[0;34m\u001b[0m\u001b[0m\n\u001b[0;32m---> 79\u001b[0;31m                 \u001b[0;32mreturn\u001b[0m \u001b[0mfunc\u001b[0m\u001b[0;34m(\u001b[0m\u001b[0;34m*\u001b[0m\u001b[0margs\u001b[0m\u001b[0;34m,\u001b[0m \u001b[0;34m**\u001b[0m\u001b[0mkwds\u001b[0m\u001b[0;34m)\u001b[0m\u001b[0;34m\u001b[0m\u001b[0;34m\u001b[0m\u001b[0m\n\u001b[0m\u001b[1;32m     80\u001b[0m         \u001b[0;32mreturn\u001b[0m \u001b[0minner\u001b[0m\u001b[0;34m\u001b[0m\u001b[0;34m\u001b[0m\u001b[0m\n\u001b[1;32m     81\u001b[0m \u001b[0;34m\u001b[0m\u001b[0m\n",
            "\u001b[0;32m/usr/local/lib/python3.10/dist-packages/nvtx/nvtx.py\u001b[0m in \u001b[0;36minner\u001b[0;34m(*args, **kwargs)\u001b[0m\n\u001b[1;32m    114\u001b[0m         \u001b[0;32mdef\u001b[0m \u001b[0minner\u001b[0m\u001b[0;34m(\u001b[0m\u001b[0;34m*\u001b[0m\u001b[0margs\u001b[0m\u001b[0;34m,\u001b[0m \u001b[0;34m**\u001b[0m\u001b[0mkwargs\u001b[0m\u001b[0;34m)\u001b[0m\u001b[0;34m:\u001b[0m\u001b[0;34m\u001b[0m\u001b[0;34m\u001b[0m\u001b[0m\n\u001b[1;32m    115\u001b[0m             \u001b[0mlibnvtx_push_range\u001b[0m\u001b[0;34m(\u001b[0m\u001b[0mself\u001b[0m\u001b[0;34m.\u001b[0m\u001b[0mattributes\u001b[0m\u001b[0;34m,\u001b[0m \u001b[0mself\u001b[0m\u001b[0;34m.\u001b[0m\u001b[0mdomain\u001b[0m\u001b[0;34m.\u001b[0m\u001b[0mhandle\u001b[0m\u001b[0;34m)\u001b[0m\u001b[0;34m\u001b[0m\u001b[0;34m\u001b[0m\u001b[0m\n\u001b[0;32m--> 116\u001b[0;31m             \u001b[0mresult\u001b[0m \u001b[0;34m=\u001b[0m \u001b[0mfunc\u001b[0m\u001b[0;34m(\u001b[0m\u001b[0;34m*\u001b[0m\u001b[0margs\u001b[0m\u001b[0;34m,\u001b[0m \u001b[0;34m**\u001b[0m\u001b[0mkwargs\u001b[0m\u001b[0;34m)\u001b[0m\u001b[0;34m\u001b[0m\u001b[0;34m\u001b[0m\u001b[0m\n\u001b[0m\u001b[1;32m    117\u001b[0m             \u001b[0mlibnvtx_pop_range\u001b[0m\u001b[0;34m(\u001b[0m\u001b[0mself\u001b[0m\u001b[0;34m.\u001b[0m\u001b[0mdomain\u001b[0m\u001b[0;34m.\u001b[0m\u001b[0mhandle\u001b[0m\u001b[0;34m)\u001b[0m\u001b[0;34m\u001b[0m\u001b[0;34m\u001b[0m\u001b[0m\n\u001b[1;32m    118\u001b[0m             \u001b[0;32mreturn\u001b[0m \u001b[0mresult\u001b[0m\u001b[0;34m\u001b[0m\u001b[0;34m\u001b[0m\u001b[0m\n",
            "\u001b[0;32m/usr/local/lib/python3.10/dist-packages/cudf/core/indexed_frame.py\u001b[0m in \u001b[0;36m_apply\u001b[0;34m(self, func, kernel_getter, *args, **kwargs)\u001b[0m\n\u001b[1;32m   3455\u001b[0m             )\n\u001b[1;32m   3456\u001b[0m         \u001b[0;32mexcept\u001b[0m \u001b[0mException\u001b[0m \u001b[0;32mas\u001b[0m \u001b[0me\u001b[0m\u001b[0;34m:\u001b[0m\u001b[0;34m\u001b[0m\u001b[0;34m\u001b[0m\u001b[0m\n\u001b[0;32m-> 3457\u001b[0;31m             raise ValueError(\n\u001b[0m\u001b[1;32m   3458\u001b[0m                 \u001b[0;34m\"user defined function compilation failed.\"\u001b[0m\u001b[0;34m\u001b[0m\u001b[0;34m\u001b[0m\u001b[0m\n\u001b[1;32m   3459\u001b[0m             ) from e\n",
            "\u001b[0;31mValueError\u001b[0m: user defined function compilation failed."
          ]
        }
      ]
    },
    {
      "cell_type": "code",
      "source": [
        "mean_height = 70.0  # Mean height for age\n",
        "std_dev_height = 4.0  # Standard deviation for height\n",
        "mean_weight = 10.0  # Mean weight for age\n",
        "std_dev_weight = 2.0  # Standard deviation for weight\n",
        "\n",
        "# Calculate Z-scores\n",
        "df['H/A'] = (df[\"hw3\"] - mean_height) / std_dev_height\n",
        "df['W/A'] = (df[\"hw2\"] - mean_weight) / std_dev_weight\n",
        "df['W/H'] = ((df[\"hw2\"] * 10) - mean_weight) / std_dev_weight\n",
        "\n",
        "# Save the updated DataFrame back to a new CSV file\n",
        "df.to_csv('updated_dataset.csv', index=False)  # Save the updated dataset to a new file 'updated_dataset.csv'"
      ],
      "metadata": {
        "id": "IacIWHKwJY10"
      },
      "execution_count": null,
      "outputs": []
    },
    {
      "cell_type": "code",
      "source": [
        "df"
      ],
      "metadata": {
        "colab": {
          "base_uri": "https://localhost:8080/",
          "height": 443
        },
        "id": "p_WAzU-__O2g",
        "outputId": "da6f4334-c78c-4eff-bd57-4f4d1e3e8184"
      },
      "execution_count": null,
      "outputs": [
        {
          "output_type": "execute_result",
          "data": {
            "text/plain": [
              "      v113    hw2  s116  v212  v190a  v444a   hw1    v445    v438  v116  ...  \\\n",
              "4       21   50.0   3.0    21      3  -98.0   2.0  2111.0  1489.0  12.0  ...   \n",
              "19      12   51.0   1.0    30      5  -91.0   3.0  2160.0  1556.0  11.0  ...   \n",
              "27      11   84.0   3.0    20      4 -125.0   8.0  1999.0  1552.0  12.0  ...   \n",
              "47      21   37.0   3.0    27      5   46.0   2.0  2584.0  1520.0  12.0  ...   \n",
              "76      21   89.0   1.0    20      2 -236.0  10.0  1657.0  1444.0  12.0  ...   \n",
              "...    ...    ...   ...   ...    ...    ...   ...     ...     ...   ...  ...   \n",
              "2268    12  112.0   2.0    21      2   -5.0  29.0  2570.0  1519.0  12.0  ...   \n",
              "2276    21   96.0   3.0    19      1   89.0  26.0  2738.0  1539.0  31.0  ...   \n",
              "2283    97   33.0   3.0    22      4 -116.0   3.0  1912.0  1577.0  97.0  ...   \n",
              "2285    11   61.0   1.0    18      4  -97.0   7.0  1998.0  1504.0  11.0  ...   \n",
              "2310    97   59.0   3.0    20      3   87.0   4.0  2772.0  1475.0  97.0  ...   \n",
              "\n",
              "       v437  v024  hidx  v025  v130    m5        bmi     H/A   W/A    W/H  \n",
              "4     468.0    10   1.0     1     2   2.0  16.058375  122.00  20.0  245.0  \n",
              "19    523.0     8   1.0     1     1   3.0  15.004899  128.25  20.5  250.0  \n",
              "27    482.0     5   1.0     2     1   8.0  15.298289  167.75  37.0  415.0  \n",
              "47    597.0    21   1.0     2     1   2.0  12.595144  118.00  13.5  180.0  \n",
              "76    346.0    10   1.0     2     1  10.0  18.059918  158.00  39.5  440.0  \n",
              "...     ...   ...   ...   ...   ...   ...        ...     ...   ...    ...  \n",
              "2268  593.0    12   1.0     1    96  29.0  12.357884  220.50  51.0  555.0  \n",
              "2276  649.0     9   1.0     2     1   9.0   9.429505  234.75  43.0  475.0  \n",
              "2283  476.0    29   1.0     2     1   3.0   6.295595  163.50  11.5  160.0  \n",
              "2285  452.0    27   1.0     1     1   7.0  14.572071  144.25  25.5  300.0  \n",
              "2310  603.0    10   1.0     2     1   4.0  15.250049  138.00  24.5  290.0  \n",
              "\n",
              "[133 rows x 34 columns]"
            ],
            "text/html": [
              "\n",
              "  <div id=\"df-4999c9d5-3d5d-4f42-96ad-0c06edafd363\" class=\"colab-df-container\">\n",
              "    <div>\n",
              "<style scoped>\n",
              "    .dataframe tbody tr th:only-of-type {\n",
              "        vertical-align: middle;\n",
              "    }\n",
              "\n",
              "    .dataframe tbody tr th {\n",
              "        vertical-align: top;\n",
              "    }\n",
              "\n",
              "    .dataframe thead th {\n",
              "        text-align: right;\n",
              "    }\n",
              "</style>\n",
              "<table border=\"1\" class=\"dataframe\">\n",
              "  <thead>\n",
              "    <tr style=\"text-align: right;\">\n",
              "      <th></th>\n",
              "      <th>v113</th>\n",
              "      <th>hw2</th>\n",
              "      <th>s116</th>\n",
              "      <th>v212</th>\n",
              "      <th>v190a</th>\n",
              "      <th>v444a</th>\n",
              "      <th>hw1</th>\n",
              "      <th>v445</th>\n",
              "      <th>v438</th>\n",
              "      <th>v116</th>\n",
              "      <th>...</th>\n",
              "      <th>v437</th>\n",
              "      <th>v024</th>\n",
              "      <th>hidx</th>\n",
              "      <th>v025</th>\n",
              "      <th>v130</th>\n",
              "      <th>m5</th>\n",
              "      <th>bmi</th>\n",
              "      <th>H/A</th>\n",
              "      <th>W/A</th>\n",
              "      <th>W/H</th>\n",
              "    </tr>\n",
              "  </thead>\n",
              "  <tbody>\n",
              "    <tr>\n",
              "      <th>4</th>\n",
              "      <td>21</td>\n",
              "      <td>50.0</td>\n",
              "      <td>3.0</td>\n",
              "      <td>21</td>\n",
              "      <td>3</td>\n",
              "      <td>-98.0</td>\n",
              "      <td>2.0</td>\n",
              "      <td>2111.0</td>\n",
              "      <td>1489.0</td>\n",
              "      <td>12.0</td>\n",
              "      <td>...</td>\n",
              "      <td>468.0</td>\n",
              "      <td>10</td>\n",
              "      <td>1.0</td>\n",
              "      <td>1</td>\n",
              "      <td>2</td>\n",
              "      <td>2.0</td>\n",
              "      <td>16.058375</td>\n",
              "      <td>122.00</td>\n",
              "      <td>20.0</td>\n",
              "      <td>245.0</td>\n",
              "    </tr>\n",
              "    <tr>\n",
              "      <th>19</th>\n",
              "      <td>12</td>\n",
              "      <td>51.0</td>\n",
              "      <td>1.0</td>\n",
              "      <td>30</td>\n",
              "      <td>5</td>\n",
              "      <td>-91.0</td>\n",
              "      <td>3.0</td>\n",
              "      <td>2160.0</td>\n",
              "      <td>1556.0</td>\n",
              "      <td>11.0</td>\n",
              "      <td>...</td>\n",
              "      <td>523.0</td>\n",
              "      <td>8</td>\n",
              "      <td>1.0</td>\n",
              "      <td>1</td>\n",
              "      <td>1</td>\n",
              "      <td>3.0</td>\n",
              "      <td>15.004899</td>\n",
              "      <td>128.25</td>\n",
              "      <td>20.5</td>\n",
              "      <td>250.0</td>\n",
              "    </tr>\n",
              "    <tr>\n",
              "      <th>27</th>\n",
              "      <td>11</td>\n",
              "      <td>84.0</td>\n",
              "      <td>3.0</td>\n",
              "      <td>20</td>\n",
              "      <td>4</td>\n",
              "      <td>-125.0</td>\n",
              "      <td>8.0</td>\n",
              "      <td>1999.0</td>\n",
              "      <td>1552.0</td>\n",
              "      <td>12.0</td>\n",
              "      <td>...</td>\n",
              "      <td>482.0</td>\n",
              "      <td>5</td>\n",
              "      <td>1.0</td>\n",
              "      <td>2</td>\n",
              "      <td>1</td>\n",
              "      <td>8.0</td>\n",
              "      <td>15.298289</td>\n",
              "      <td>167.75</td>\n",
              "      <td>37.0</td>\n",
              "      <td>415.0</td>\n",
              "    </tr>\n",
              "    <tr>\n",
              "      <th>47</th>\n",
              "      <td>21</td>\n",
              "      <td>37.0</td>\n",
              "      <td>3.0</td>\n",
              "      <td>27</td>\n",
              "      <td>5</td>\n",
              "      <td>46.0</td>\n",
              "      <td>2.0</td>\n",
              "      <td>2584.0</td>\n",
              "      <td>1520.0</td>\n",
              "      <td>12.0</td>\n",
              "      <td>...</td>\n",
              "      <td>597.0</td>\n",
              "      <td>21</td>\n",
              "      <td>1.0</td>\n",
              "      <td>2</td>\n",
              "      <td>1</td>\n",
              "      <td>2.0</td>\n",
              "      <td>12.595144</td>\n",
              "      <td>118.00</td>\n",
              "      <td>13.5</td>\n",
              "      <td>180.0</td>\n",
              "    </tr>\n",
              "    <tr>\n",
              "      <th>76</th>\n",
              "      <td>21</td>\n",
              "      <td>89.0</td>\n",
              "      <td>1.0</td>\n",
              "      <td>20</td>\n",
              "      <td>2</td>\n",
              "      <td>-236.0</td>\n",
              "      <td>10.0</td>\n",
              "      <td>1657.0</td>\n",
              "      <td>1444.0</td>\n",
              "      <td>12.0</td>\n",
              "      <td>...</td>\n",
              "      <td>346.0</td>\n",
              "      <td>10</td>\n",
              "      <td>1.0</td>\n",
              "      <td>2</td>\n",
              "      <td>1</td>\n",
              "      <td>10.0</td>\n",
              "      <td>18.059918</td>\n",
              "      <td>158.00</td>\n",
              "      <td>39.5</td>\n",
              "      <td>440.0</td>\n",
              "    </tr>\n",
              "    <tr>\n",
              "      <th>...</th>\n",
              "      <td>...</td>\n",
              "      <td>...</td>\n",
              "      <td>...</td>\n",
              "      <td>...</td>\n",
              "      <td>...</td>\n",
              "      <td>...</td>\n",
              "      <td>...</td>\n",
              "      <td>...</td>\n",
              "      <td>...</td>\n",
              "      <td>...</td>\n",
              "      <td>...</td>\n",
              "      <td>...</td>\n",
              "      <td>...</td>\n",
              "      <td>...</td>\n",
              "      <td>...</td>\n",
              "      <td>...</td>\n",
              "      <td>...</td>\n",
              "      <td>...</td>\n",
              "      <td>...</td>\n",
              "      <td>...</td>\n",
              "      <td>...</td>\n",
              "    </tr>\n",
              "    <tr>\n",
              "      <th>2268</th>\n",
              "      <td>12</td>\n",
              "      <td>112.0</td>\n",
              "      <td>2.0</td>\n",
              "      <td>21</td>\n",
              "      <td>2</td>\n",
              "      <td>-5.0</td>\n",
              "      <td>29.0</td>\n",
              "      <td>2570.0</td>\n",
              "      <td>1519.0</td>\n",
              "      <td>12.0</td>\n",
              "      <td>...</td>\n",
              "      <td>593.0</td>\n",
              "      <td>12</td>\n",
              "      <td>1.0</td>\n",
              "      <td>1</td>\n",
              "      <td>96</td>\n",
              "      <td>29.0</td>\n",
              "      <td>12.357884</td>\n",
              "      <td>220.50</td>\n",
              "      <td>51.0</td>\n",
              "      <td>555.0</td>\n",
              "    </tr>\n",
              "    <tr>\n",
              "      <th>2276</th>\n",
              "      <td>21</td>\n",
              "      <td>96.0</td>\n",
              "      <td>3.0</td>\n",
              "      <td>19</td>\n",
              "      <td>1</td>\n",
              "      <td>89.0</td>\n",
              "      <td>26.0</td>\n",
              "      <td>2738.0</td>\n",
              "      <td>1539.0</td>\n",
              "      <td>31.0</td>\n",
              "      <td>...</td>\n",
              "      <td>649.0</td>\n",
              "      <td>9</td>\n",
              "      <td>1.0</td>\n",
              "      <td>2</td>\n",
              "      <td>1</td>\n",
              "      <td>9.0</td>\n",
              "      <td>9.429505</td>\n",
              "      <td>234.75</td>\n",
              "      <td>43.0</td>\n",
              "      <td>475.0</td>\n",
              "    </tr>\n",
              "    <tr>\n",
              "      <th>2283</th>\n",
              "      <td>97</td>\n",
              "      <td>33.0</td>\n",
              "      <td>3.0</td>\n",
              "      <td>22</td>\n",
              "      <td>4</td>\n",
              "      <td>-116.0</td>\n",
              "      <td>3.0</td>\n",
              "      <td>1912.0</td>\n",
              "      <td>1577.0</td>\n",
              "      <td>97.0</td>\n",
              "      <td>...</td>\n",
              "      <td>476.0</td>\n",
              "      <td>29</td>\n",
              "      <td>1.0</td>\n",
              "      <td>2</td>\n",
              "      <td>1</td>\n",
              "      <td>3.0</td>\n",
              "      <td>6.295595</td>\n",
              "      <td>163.50</td>\n",
              "      <td>11.5</td>\n",
              "      <td>160.0</td>\n",
              "    </tr>\n",
              "    <tr>\n",
              "      <th>2285</th>\n",
              "      <td>11</td>\n",
              "      <td>61.0</td>\n",
              "      <td>1.0</td>\n",
              "      <td>18</td>\n",
              "      <td>4</td>\n",
              "      <td>-97.0</td>\n",
              "      <td>7.0</td>\n",
              "      <td>1998.0</td>\n",
              "      <td>1504.0</td>\n",
              "      <td>11.0</td>\n",
              "      <td>...</td>\n",
              "      <td>452.0</td>\n",
              "      <td>27</td>\n",
              "      <td>1.0</td>\n",
              "      <td>1</td>\n",
              "      <td>1</td>\n",
              "      <td>7.0</td>\n",
              "      <td>14.572071</td>\n",
              "      <td>144.25</td>\n",
              "      <td>25.5</td>\n",
              "      <td>300.0</td>\n",
              "    </tr>\n",
              "    <tr>\n",
              "      <th>2310</th>\n",
              "      <td>97</td>\n",
              "      <td>59.0</td>\n",
              "      <td>3.0</td>\n",
              "      <td>20</td>\n",
              "      <td>3</td>\n",
              "      <td>87.0</td>\n",
              "      <td>4.0</td>\n",
              "      <td>2772.0</td>\n",
              "      <td>1475.0</td>\n",
              "      <td>97.0</td>\n",
              "      <td>...</td>\n",
              "      <td>603.0</td>\n",
              "      <td>10</td>\n",
              "      <td>1.0</td>\n",
              "      <td>2</td>\n",
              "      <td>1</td>\n",
              "      <td>4.0</td>\n",
              "      <td>15.250049</td>\n",
              "      <td>138.00</td>\n",
              "      <td>24.5</td>\n",
              "      <td>290.0</td>\n",
              "    </tr>\n",
              "  </tbody>\n",
              "</table>\n",
              "<p>133 rows × 34 columns</p>\n",
              "</div>\n",
              "    <div class=\"colab-df-buttons\">\n",
              "\n",
              "  <div class=\"colab-df-container\">\n",
              "    <button class=\"colab-df-convert\" onclick=\"convertToInteractive('df-4999c9d5-3d5d-4f42-96ad-0c06edafd363')\"\n",
              "            title=\"Convert this dataframe to an interactive table.\"\n",
              "            style=\"display:none;\">\n",
              "\n",
              "  <svg xmlns=\"http://www.w3.org/2000/svg\" height=\"24px\" viewBox=\"0 -960 960 960\">\n",
              "    <path d=\"M120-120v-720h720v720H120Zm60-500h600v-160H180v160Zm220 220h160v-160H400v160Zm0 220h160v-160H400v160ZM180-400h160v-160H180v160Zm440 0h160v-160H620v160ZM180-180h160v-160H180v160Zm440 0h160v-160H620v160Z\"/>\n",
              "  </svg>\n",
              "    </button>\n",
              "\n",
              "  <style>\n",
              "    .colab-df-container {\n",
              "      display:flex;\n",
              "      gap: 12px;\n",
              "    }\n",
              "\n",
              "    .colab-df-convert {\n",
              "      background-color: #E8F0FE;\n",
              "      border: none;\n",
              "      border-radius: 50%;\n",
              "      cursor: pointer;\n",
              "      display: none;\n",
              "      fill: #1967D2;\n",
              "      height: 32px;\n",
              "      padding: 0 0 0 0;\n",
              "      width: 32px;\n",
              "    }\n",
              "\n",
              "    .colab-df-convert:hover {\n",
              "      background-color: #E2EBFA;\n",
              "      box-shadow: 0px 1px 2px rgba(60, 64, 67, 0.3), 0px 1px 3px 1px rgba(60, 64, 67, 0.15);\n",
              "      fill: #174EA6;\n",
              "    }\n",
              "\n",
              "    .colab-df-buttons div {\n",
              "      margin-bottom: 4px;\n",
              "    }\n",
              "\n",
              "    [theme=dark] .colab-df-convert {\n",
              "      background-color: #3B4455;\n",
              "      fill: #D2E3FC;\n",
              "    }\n",
              "\n",
              "    [theme=dark] .colab-df-convert:hover {\n",
              "      background-color: #434B5C;\n",
              "      box-shadow: 0px 1px 3px 1px rgba(0, 0, 0, 0.15);\n",
              "      filter: drop-shadow(0px 1px 2px rgba(0, 0, 0, 0.3));\n",
              "      fill: #FFFFFF;\n",
              "    }\n",
              "  </style>\n",
              "\n",
              "    <script>\n",
              "      const buttonEl =\n",
              "        document.querySelector('#df-4999c9d5-3d5d-4f42-96ad-0c06edafd363 button.colab-df-convert');\n",
              "      buttonEl.style.display =\n",
              "        google.colab.kernel.accessAllowed ? 'block' : 'none';\n",
              "\n",
              "      async function convertToInteractive(key) {\n",
              "        const element = document.querySelector('#df-4999c9d5-3d5d-4f42-96ad-0c06edafd363');\n",
              "        const dataTable =\n",
              "          await google.colab.kernel.invokeFunction('convertToInteractive',\n",
              "                                                    [key], {});\n",
              "        if (!dataTable) return;\n",
              "\n",
              "        const docLinkHtml = 'Like what you see? Visit the ' +\n",
              "          '<a target=\"_blank\" href=https://colab.research.google.com/notebooks/data_table.ipynb>data table notebook</a>'\n",
              "          + ' to learn more about interactive tables.';\n",
              "        element.innerHTML = '';\n",
              "        dataTable['output_type'] = 'display_data';\n",
              "        await google.colab.output.renderOutput(dataTable, element);\n",
              "        const docLink = document.createElement('div');\n",
              "        docLink.innerHTML = docLinkHtml;\n",
              "        element.appendChild(docLink);\n",
              "      }\n",
              "    </script>\n",
              "  </div>\n",
              "\n",
              "\n",
              "<div id=\"df-dd48c330-6329-45ba-b27d-0a3d986b2a16\">\n",
              "  <button class=\"colab-df-quickchart\" onclick=\"quickchart('df-dd48c330-6329-45ba-b27d-0a3d986b2a16')\"\n",
              "            title=\"Suggest charts\"\n",
              "            style=\"display:none;\">\n",
              "\n",
              "<svg xmlns=\"http://www.w3.org/2000/svg\" height=\"24px\"viewBox=\"0 0 24 24\"\n",
              "     width=\"24px\">\n",
              "    <g>\n",
              "        <path d=\"M19 3H5c-1.1 0-2 .9-2 2v14c0 1.1.9 2 2 2h14c1.1 0 2-.9 2-2V5c0-1.1-.9-2-2-2zM9 17H7v-7h2v7zm4 0h-2V7h2v10zm4 0h-2v-4h2v4z\"/>\n",
              "    </g>\n",
              "</svg>\n",
              "  </button>\n",
              "\n",
              "<style>\n",
              "  .colab-df-quickchart {\n",
              "      --bg-color: #E8F0FE;\n",
              "      --fill-color: #1967D2;\n",
              "      --hover-bg-color: #E2EBFA;\n",
              "      --hover-fill-color: #174EA6;\n",
              "      --disabled-fill-color: #AAA;\n",
              "      --disabled-bg-color: #DDD;\n",
              "  }\n",
              "\n",
              "  [theme=dark] .colab-df-quickchart {\n",
              "      --bg-color: #3B4455;\n",
              "      --fill-color: #D2E3FC;\n",
              "      --hover-bg-color: #434B5C;\n",
              "      --hover-fill-color: #FFFFFF;\n",
              "      --disabled-bg-color: #3B4455;\n",
              "      --disabled-fill-color: #666;\n",
              "  }\n",
              "\n",
              "  .colab-df-quickchart {\n",
              "    background-color: var(--bg-color);\n",
              "    border: none;\n",
              "    border-radius: 50%;\n",
              "    cursor: pointer;\n",
              "    display: none;\n",
              "    fill: var(--fill-color);\n",
              "    height: 32px;\n",
              "    padding: 0;\n",
              "    width: 32px;\n",
              "  }\n",
              "\n",
              "  .colab-df-quickchart:hover {\n",
              "    background-color: var(--hover-bg-color);\n",
              "    box-shadow: 0 1px 2px rgba(60, 64, 67, 0.3), 0 1px 3px 1px rgba(60, 64, 67, 0.15);\n",
              "    fill: var(--button-hover-fill-color);\n",
              "  }\n",
              "\n",
              "  .colab-df-quickchart-complete:disabled,\n",
              "  .colab-df-quickchart-complete:disabled:hover {\n",
              "    background-color: var(--disabled-bg-color);\n",
              "    fill: var(--disabled-fill-color);\n",
              "    box-shadow: none;\n",
              "  }\n",
              "\n",
              "  .colab-df-spinner {\n",
              "    border: 2px solid var(--fill-color);\n",
              "    border-color: transparent;\n",
              "    border-bottom-color: var(--fill-color);\n",
              "    animation:\n",
              "      spin 1s steps(1) infinite;\n",
              "  }\n",
              "\n",
              "  @keyframes spin {\n",
              "    0% {\n",
              "      border-color: transparent;\n",
              "      border-bottom-color: var(--fill-color);\n",
              "      border-left-color: var(--fill-color);\n",
              "    }\n",
              "    20% {\n",
              "      border-color: transparent;\n",
              "      border-left-color: var(--fill-color);\n",
              "      border-top-color: var(--fill-color);\n",
              "    }\n",
              "    30% {\n",
              "      border-color: transparent;\n",
              "      border-left-color: var(--fill-color);\n",
              "      border-top-color: var(--fill-color);\n",
              "      border-right-color: var(--fill-color);\n",
              "    }\n",
              "    40% {\n",
              "      border-color: transparent;\n",
              "      border-right-color: var(--fill-color);\n",
              "      border-top-color: var(--fill-color);\n",
              "    }\n",
              "    60% {\n",
              "      border-color: transparent;\n",
              "      border-right-color: var(--fill-color);\n",
              "    }\n",
              "    80% {\n",
              "      border-color: transparent;\n",
              "      border-right-color: var(--fill-color);\n",
              "      border-bottom-color: var(--fill-color);\n",
              "    }\n",
              "    90% {\n",
              "      border-color: transparent;\n",
              "      border-bottom-color: var(--fill-color);\n",
              "    }\n",
              "  }\n",
              "</style>\n",
              "\n",
              "  <script>\n",
              "    async function quickchart(key) {\n",
              "      const quickchartButtonEl =\n",
              "        document.querySelector('#' + key + ' button');\n",
              "      quickchartButtonEl.disabled = true;  // To prevent multiple clicks.\n",
              "      quickchartButtonEl.classList.add('colab-df-spinner');\n",
              "      try {\n",
              "        const charts = await google.colab.kernel.invokeFunction(\n",
              "            'suggestCharts', [key], {});\n",
              "      } catch (error) {\n",
              "        console.error('Error during call to suggestCharts:', error);\n",
              "      }\n",
              "      quickchartButtonEl.classList.remove('colab-df-spinner');\n",
              "      quickchartButtonEl.classList.add('colab-df-quickchart-complete');\n",
              "    }\n",
              "    (() => {\n",
              "      let quickchartButtonEl =\n",
              "        document.querySelector('#df-dd48c330-6329-45ba-b27d-0a3d986b2a16 button');\n",
              "      quickchartButtonEl.style.display =\n",
              "        google.colab.kernel.accessAllowed ? 'block' : 'none';\n",
              "    })();\n",
              "  </script>\n",
              "</div>\n",
              "\n",
              "  <div id=\"id_8a1048e0-4447-4be4-80bf-6ad5d876bcb7\">\n",
              "    <style>\n",
              "      .colab-df-generate {\n",
              "        background-color: #E8F0FE;\n",
              "        border: none;\n",
              "        border-radius: 50%;\n",
              "        cursor: pointer;\n",
              "        display: none;\n",
              "        fill: #1967D2;\n",
              "        height: 32px;\n",
              "        padding: 0 0 0 0;\n",
              "        width: 32px;\n",
              "      }\n",
              "\n",
              "      .colab-df-generate:hover {\n",
              "        background-color: #E2EBFA;\n",
              "        box-shadow: 0px 1px 2px rgba(60, 64, 67, 0.3), 0px 1px 3px 1px rgba(60, 64, 67, 0.15);\n",
              "        fill: #174EA6;\n",
              "      }\n",
              "\n",
              "      [theme=dark] .colab-df-generate {\n",
              "        background-color: #3B4455;\n",
              "        fill: #D2E3FC;\n",
              "      }\n",
              "\n",
              "      [theme=dark] .colab-df-generate:hover {\n",
              "        background-color: #434B5C;\n",
              "        box-shadow: 0px 1px 3px 1px rgba(0, 0, 0, 0.15);\n",
              "        filter: drop-shadow(0px 1px 2px rgba(0, 0, 0, 0.3));\n",
              "        fill: #FFFFFF;\n",
              "      }\n",
              "    </style>\n",
              "    <button class=\"colab-df-generate\" onclick=\"generateWithVariable('df')\"\n",
              "            title=\"Generate code using this dataframe.\"\n",
              "            style=\"display:none;\">\n",
              "\n",
              "  <svg xmlns=\"http://www.w3.org/2000/svg\" height=\"24px\"viewBox=\"0 0 24 24\"\n",
              "       width=\"24px\">\n",
              "    <path d=\"M7,19H8.4L18.45,9,17,7.55,7,17.6ZM5,21V16.75L18.45,3.32a2,2,0,0,1,2.83,0l1.4,1.43a1.91,1.91,0,0,1,.58,1.4,1.91,1.91,0,0,1-.58,1.4L9.25,21ZM18.45,9,17,7.55Zm-12,3A5.31,5.31,0,0,0,4.9,8.1,5.31,5.31,0,0,0,1,6.5,5.31,5.31,0,0,0,4.9,4.9,5.31,5.31,0,0,0,6.5,1,5.31,5.31,0,0,0,8.1,4.9,5.31,5.31,0,0,0,12,6.5,5.46,5.46,0,0,0,6.5,12Z\"/>\n",
              "  </svg>\n",
              "    </button>\n",
              "    <script>\n",
              "      (() => {\n",
              "      const buttonEl =\n",
              "        document.querySelector('#id_8a1048e0-4447-4be4-80bf-6ad5d876bcb7 button.colab-df-generate');\n",
              "      buttonEl.style.display =\n",
              "        google.colab.kernel.accessAllowed ? 'block' : 'none';\n",
              "\n",
              "      buttonEl.onclick = () => {\n",
              "        google.colab.notebook.generateWithVariable('df');\n",
              "      }\n",
              "      })();\n",
              "    </script>\n",
              "  </div>\n",
              "\n",
              "    </div>\n",
              "  </div>\n"
            ],
            "application/vnd.google.colaboratory.intrinsic+json": {
              "type": "dataframe",
              "variable_name": "df"
            }
          },
          "metadata": {},
          "execution_count": 153
        }
      ]
    },
    {
      "cell_type": "code",
      "source": [
        "df[\"H/A\"]=df[\"H/A\"].replace({9998.0:9999.0, 9996.0:9999.0, 9997.0:9999.0})\n",
        "indexNames = df[df['H/A'] == 9999.0].index\n",
        "df.drop(indexNames , inplace=True)\n",
        "print(df.shape)\n",
        "print(df['H/A'].max())\n",
        "print(df['H/A'].min())"
      ],
      "metadata": {
        "colab": {
          "base_uri": "https://localhost:8080/"
        },
        "id": "Sl-oOrGB_nd4",
        "outputId": "5cbfb2e9-0171-498b-c3b9-12407b22bd7b"
      },
      "execution_count": null,
      "outputs": [
        {
          "output_type": "stream",
          "name": "stdout",
          "text": [
            "(133, 34)\n",
            "234.75\n",
            "83.75\n"
          ]
        }
      ]
    },
    {
      "cell_type": "code",
      "source": [
        "print(df['H/A'].unique())\n",
        "df['H/A'] = df['H/A']/100\n",
        "print(df['H/A'].unique())\n",
        "# df['H/A']=pd.cut(df['H/A'], bins=[-6.5,-2, 6.5], labels=[1,0], include_lowest=True)\n",
        "# print(df['H/A'].unique())"
      ],
      "metadata": {
        "colab": {
          "base_uri": "https://localhost:8080/"
        },
        "id": "QBfS1_xCAB5h",
        "outputId": "93a5f099-5b21-48e8-f44d-2ca99c85a547"
      },
      "execution_count": null,
      "outputs": [
        {
          "output_type": "stream",
          "name": "stdout",
          "text": [
            "[122.   128.25 167.75 118.   158.   199.25 201.25 170.5  186.   200.25\n",
            " 162.75 178.5  142.   199.5  198.25 154.   195.5  194.25 151.5  169.5\n",
            " 175.75 205.5  204.   173.5  135.25 162.5  193.   145.5  170.25 198.75\n",
            " 221.5  197.25 143.25 147.75 153.   160.25 125.75 167.5  186.5  153.25\n",
            " 144.5  195.   173.   165.5  185.75 162.25 212.5  171.   163.5  194.5\n",
            " 118.75 155.75 202.25 158.25 183.   152.5  188.5  107.5  168.75 215.5\n",
            " 180.75 172.   164.5  165.25 205.75 170.   181.75 123.25 112.   210.5\n",
            " 145.25 161.75 163.   193.75 182.   180.5  160.   228.   206.75 163.75\n",
            " 195.25 183.5  187.75 143.   156.75 114.   143.75 221.75 200.5  201.5\n",
            " 209.25  83.75 139.5  171.75 175.5  210.   190.5  138.75 188.   125.\n",
            " 140.25 126.25 146.5  164.   171.5  158.5  182.75 192.75 131.   156.25\n",
            " 182.5  220.5  234.75 144.25 138.  ]\n",
            "[1.22   1.2825 1.6775 1.18   1.58   1.9925 2.0125 1.705  1.86   2.0025\n",
            " 1.6275 1.785  1.42   1.995  1.9825 1.54   1.955  1.9425 1.515  1.695\n",
            " 1.7575 2.055  2.04   1.735  1.3525 1.625  1.93   1.455  1.7025 1.9875\n",
            " 2.215  1.9725 1.4325 1.4775 1.53   1.6025 1.2575 1.675  1.865  1.5325\n",
            " 1.445  1.95   1.73   1.655  1.8575 1.6225 2.125  1.71   1.635  1.945\n",
            " 1.1875 1.5575 2.0225 1.5825 1.83   1.525  1.885  1.075  1.6875 2.155\n",
            " 1.8075 1.72   1.645  1.6525 2.0575 1.7    1.8175 1.2325 1.12   2.105\n",
            " 1.4525 1.6175 1.63   1.9375 1.82   1.805  1.6    2.28   2.0675 1.6375\n",
            " 1.9525 1.835  1.8775 1.43   1.5675 1.14   1.4375 2.2175 2.005  2.015\n",
            " 2.0925 0.8375 1.395  1.7175 1.755  2.1    1.905  1.3875 1.88   1.25\n",
            " 1.4025 1.2625 1.465  1.64   1.715  1.585  1.8275 1.9275 1.31   1.5625\n",
            " 1.825  2.205  2.3475 1.4425 1.38  ]\n"
          ]
        }
      ]
    },
    {
      "cell_type": "code",
      "source": [
        "df['W/A'].max()"
      ],
      "metadata": {
        "colab": {
          "base_uri": "https://localhost:8080/"
        },
        "id": "9GAw00qOAHdI",
        "outputId": "cdb467eb-06eb-4d51-82a4-b00e431f2318"
      },
      "execution_count": null,
      "outputs": [
        {
          "output_type": "execute_result",
          "data": {
            "text/plain": [
              "73.5"
            ]
          },
          "metadata": {},
          "execution_count": 156
        }
      ]
    },
    {
      "cell_type": "code",
      "source": [
        "# print(df['W/H'].unique())\n",
        "df['W/H'] = df['W/H']/100\n",
        "print(df['W/H'].unique())\n",
        "# df['W/H']=pd.cut(df['W/H'], bins=[-6.5,-2,6.5], labels=[1,0], include_lowest=True)\n",
        "# print(df['W/H'].unique())"
      ],
      "metadata": {
        "colab": {
          "base_uri": "https://localhost:8080/"
        },
        "id": "jbLldHz2Ae3f",
        "outputId": "0eed2603-a2f9-4cf1-c777-cc5b914a2c24"
      },
      "execution_count": null,
      "outputs": [
        {
          "output_type": "stream",
          "name": "stdout",
          "text": [
            "[2.45 2.5  4.15 1.8  4.4  5.65 6.95 3.9  7.15 5.   5.3  2.2  4.55 7.6\n",
            " 3.6  7.35 4.   4.35 5.15 5.85 4.5  3.05 5.25 3.   5.95 4.95 5.4  2.9\n",
            " 3.7  3.2  4.85 3.65 3.45 3.5  5.2  4.7  4.25 4.2  3.3  5.35 1.7  3.4\n",
            " 1.15 4.9  4.3  5.1  4.6  2.8  5.9  3.55 3.95 3.75 6.1  4.8  3.8  6.05\n",
            " 5.7  6.65 3.35 3.25 1.55 7.8  6.7  1.5  4.1  5.05 4.75 2.7  3.85 5.5\n",
            " 5.45 2.05 5.55 1.6 ]\n"
          ]
        }
      ]
    },
    {
      "cell_type": "code",
      "source": [
        "df['W/H'].min()"
      ],
      "metadata": {
        "colab": {
          "base_uri": "https://localhost:8080/"
        },
        "id": "a5DtWhnRAjyh",
        "outputId": "7a8203eb-2ecd-499b-d4d0-d6a7ccf9a4d1"
      },
      "execution_count": null,
      "outputs": [
        {
          "output_type": "execute_result",
          "data": {
            "text/plain": [
              "1.15"
            ]
          },
          "metadata": {},
          "execution_count": 158
        }
      ]
    },
    {
      "cell_type": "code",
      "source": [
        "# print(df['Bmi'].unique())\n",
        "df['bmi'] = df['Bmi']/100\n",
        "print(df['bmi'].unique())\n",
        "# df['Bmi']=pd.cut(df['Bmi'], bins=[-6.5,-2,6.5], labels=[1,0], include_lowest=True)\n",
        "# print(df['Bmi'].unique())"
      ],
      "metadata": {
        "colab": {
          "base_uri": "https://localhost:8080/",
          "height": 497
        },
        "id": "LE__-F62ApV4",
        "outputId": "eeb13b50-6a81-4428-a5bb-7f5cbef4f8d6"
      },
      "execution_count": null,
      "outputs": [
        {
          "output_type": "error",
          "ename": "KeyError",
          "evalue": "'Bmi'",
          "traceback": [
            "\u001b[0;31m---------------------------------------------------------------------------\u001b[0m",
            "\u001b[0;31mKeyError\u001b[0m                                  Traceback (most recent call last)",
            "\u001b[0;32m/usr/local/lib/python3.10/dist-packages/pandas/core/indexes/base.py\u001b[0m in \u001b[0;36mget_loc\u001b[0;34m(self, key)\u001b[0m\n\u001b[1;32m   3652\u001b[0m         \u001b[0;32mtry\u001b[0m\u001b[0;34m:\u001b[0m\u001b[0;34m\u001b[0m\u001b[0;34m\u001b[0m\u001b[0m\n\u001b[0;32m-> 3653\u001b[0;31m             \u001b[0;32mreturn\u001b[0m \u001b[0mself\u001b[0m\u001b[0;34m.\u001b[0m\u001b[0m_engine\u001b[0m\u001b[0;34m.\u001b[0m\u001b[0mget_loc\u001b[0m\u001b[0;34m(\u001b[0m\u001b[0mcasted_key\u001b[0m\u001b[0;34m)\u001b[0m\u001b[0;34m\u001b[0m\u001b[0;34m\u001b[0m\u001b[0m\n\u001b[0m\u001b[1;32m   3654\u001b[0m         \u001b[0;32mexcept\u001b[0m \u001b[0mKeyError\u001b[0m \u001b[0;32mas\u001b[0m \u001b[0merr\u001b[0m\u001b[0;34m:\u001b[0m\u001b[0;34m\u001b[0m\u001b[0;34m\u001b[0m\u001b[0m\n",
            "\u001b[0;32m/usr/local/lib/python3.10/dist-packages/pandas/_libs/index.pyx\u001b[0m in \u001b[0;36mpandas._libs.index.IndexEngine.get_loc\u001b[0;34m()\u001b[0m\n",
            "\u001b[0;32m/usr/local/lib/python3.10/dist-packages/pandas/_libs/index.pyx\u001b[0m in \u001b[0;36mpandas._libs.index.IndexEngine.get_loc\u001b[0;34m()\u001b[0m\n",
            "\u001b[0;32mpandas/_libs/hashtable_class_helper.pxi\u001b[0m in \u001b[0;36mpandas._libs.hashtable.PyObjectHashTable.get_item\u001b[0;34m()\u001b[0m\n",
            "\u001b[0;32mpandas/_libs/hashtable_class_helper.pxi\u001b[0m in \u001b[0;36mpandas._libs.hashtable.PyObjectHashTable.get_item\u001b[0;34m()\u001b[0m\n",
            "\u001b[0;31mKeyError\u001b[0m: 'Bmi'",
            "\nThe above exception was the direct cause of the following exception:\n",
            "\u001b[0;31mKeyError\u001b[0m                                  Traceback (most recent call last)",
            "\u001b[0;32m<ipython-input-159-8fa785316ec3>\u001b[0m in \u001b[0;36m<cell line: 2>\u001b[0;34m()\u001b[0m\n\u001b[1;32m      1\u001b[0m \u001b[0;31m# print(df['Bmi'].unique())\u001b[0m\u001b[0;34m\u001b[0m\u001b[0;34m\u001b[0m\u001b[0m\n\u001b[0;32m----> 2\u001b[0;31m \u001b[0mdf\u001b[0m\u001b[0;34m[\u001b[0m\u001b[0;34m'bmi'\u001b[0m\u001b[0;34m]\u001b[0m \u001b[0;34m=\u001b[0m \u001b[0mdf\u001b[0m\u001b[0;34m[\u001b[0m\u001b[0;34m'Bmi'\u001b[0m\u001b[0;34m]\u001b[0m\u001b[0;34m/\u001b[0m\u001b[0;36m100\u001b[0m\u001b[0;34m\u001b[0m\u001b[0;34m\u001b[0m\u001b[0m\n\u001b[0m\u001b[1;32m      3\u001b[0m \u001b[0mprint\u001b[0m\u001b[0;34m(\u001b[0m\u001b[0mdf\u001b[0m\u001b[0;34m[\u001b[0m\u001b[0;34m'bmi'\u001b[0m\u001b[0;34m]\u001b[0m\u001b[0;34m.\u001b[0m\u001b[0munique\u001b[0m\u001b[0;34m(\u001b[0m\u001b[0;34m)\u001b[0m\u001b[0;34m)\u001b[0m\u001b[0;34m\u001b[0m\u001b[0;34m\u001b[0m\u001b[0m\n\u001b[1;32m      4\u001b[0m \u001b[0;31m# df['Bmi']=pd.cut(df['Bmi'], bins=[-6.5,-2,6.5], labels=[1,0], include_lowest=True)\u001b[0m\u001b[0;34m\u001b[0m\u001b[0;34m\u001b[0m\u001b[0m\n\u001b[1;32m      5\u001b[0m \u001b[0;31m# print(df['Bmi'].unique())\u001b[0m\u001b[0;34m\u001b[0m\u001b[0;34m\u001b[0m\u001b[0m\n",
            "\u001b[0;32m/usr/local/lib/python3.10/dist-packages/pandas/core/frame.py\u001b[0m in \u001b[0;36m__getitem__\u001b[0;34m(self, key)\u001b[0m\n\u001b[1;32m   3759\u001b[0m             \u001b[0;32mif\u001b[0m \u001b[0mself\u001b[0m\u001b[0;34m.\u001b[0m\u001b[0mcolumns\u001b[0m\u001b[0;34m.\u001b[0m\u001b[0mnlevels\u001b[0m \u001b[0;34m>\u001b[0m \u001b[0;36m1\u001b[0m\u001b[0;34m:\u001b[0m\u001b[0;34m\u001b[0m\u001b[0;34m\u001b[0m\u001b[0m\n\u001b[1;32m   3760\u001b[0m                 \u001b[0;32mreturn\u001b[0m \u001b[0mself\u001b[0m\u001b[0;34m.\u001b[0m\u001b[0m_getitem_multilevel\u001b[0m\u001b[0;34m(\u001b[0m\u001b[0mkey\u001b[0m\u001b[0;34m)\u001b[0m\u001b[0;34m\u001b[0m\u001b[0;34m\u001b[0m\u001b[0m\n\u001b[0;32m-> 3761\u001b[0;31m             \u001b[0mindexer\u001b[0m \u001b[0;34m=\u001b[0m \u001b[0mself\u001b[0m\u001b[0;34m.\u001b[0m\u001b[0mcolumns\u001b[0m\u001b[0;34m.\u001b[0m\u001b[0mget_loc\u001b[0m\u001b[0;34m(\u001b[0m\u001b[0mkey\u001b[0m\u001b[0;34m)\u001b[0m\u001b[0;34m\u001b[0m\u001b[0;34m\u001b[0m\u001b[0m\n\u001b[0m\u001b[1;32m   3762\u001b[0m             \u001b[0;32mif\u001b[0m \u001b[0mis_integer\u001b[0m\u001b[0;34m(\u001b[0m\u001b[0mindexer\u001b[0m\u001b[0;34m)\u001b[0m\u001b[0;34m:\u001b[0m\u001b[0;34m\u001b[0m\u001b[0;34m\u001b[0m\u001b[0m\n\u001b[1;32m   3763\u001b[0m                 \u001b[0mindexer\u001b[0m \u001b[0;34m=\u001b[0m \u001b[0;34m[\u001b[0m\u001b[0mindexer\u001b[0m\u001b[0;34m]\u001b[0m\u001b[0;34m\u001b[0m\u001b[0;34m\u001b[0m\u001b[0m\n",
            "\u001b[0;32m/usr/local/lib/python3.10/dist-packages/pandas/core/indexes/base.py\u001b[0m in \u001b[0;36mget_loc\u001b[0;34m(self, key)\u001b[0m\n\u001b[1;32m   3653\u001b[0m             \u001b[0;32mreturn\u001b[0m \u001b[0mself\u001b[0m\u001b[0;34m.\u001b[0m\u001b[0m_engine\u001b[0m\u001b[0;34m.\u001b[0m\u001b[0mget_loc\u001b[0m\u001b[0;34m(\u001b[0m\u001b[0mcasted_key\u001b[0m\u001b[0;34m)\u001b[0m\u001b[0;34m\u001b[0m\u001b[0;34m\u001b[0m\u001b[0m\n\u001b[1;32m   3654\u001b[0m         \u001b[0;32mexcept\u001b[0m \u001b[0mKeyError\u001b[0m \u001b[0;32mas\u001b[0m \u001b[0merr\u001b[0m\u001b[0;34m:\u001b[0m\u001b[0;34m\u001b[0m\u001b[0;34m\u001b[0m\u001b[0m\n\u001b[0;32m-> 3655\u001b[0;31m             \u001b[0;32mraise\u001b[0m \u001b[0mKeyError\u001b[0m\u001b[0;34m(\u001b[0m\u001b[0mkey\u001b[0m\u001b[0;34m)\u001b[0m \u001b[0;32mfrom\u001b[0m \u001b[0merr\u001b[0m\u001b[0;34m\u001b[0m\u001b[0;34m\u001b[0m\u001b[0m\n\u001b[0m\u001b[1;32m   3656\u001b[0m         \u001b[0;32mexcept\u001b[0m \u001b[0mTypeError\u001b[0m\u001b[0;34m:\u001b[0m\u001b[0;34m\u001b[0m\u001b[0;34m\u001b[0m\u001b[0m\n\u001b[1;32m   3657\u001b[0m             \u001b[0;31m# If we have a listlike key, _check_indexing_error will raise\u001b[0m\u001b[0;34m\u001b[0m\u001b[0;34m\u001b[0m\u001b[0m\n",
            "\u001b[0;31mKeyError\u001b[0m: 'Bmi'"
          ]
        }
      ]
    },
    {
      "cell_type": "code",
      "source": [
        "df['Bmi'].max()"
      ],
      "metadata": {
        "id": "ZLrvW4mDAsjv"
      },
      "execution_count": null,
      "outputs": []
    },
    {
      "cell_type": "markdown",
      "source": [
        "Variables\n",
        "\n",
        "father's education v701"
      ],
      "metadata": {
        "id": "6BNFveAX0ToT"
      }
    },
    {
      "cell_type": "code",
      "source": [
        "print(df['v701'].unique())"
      ],
      "metadata": {
        "colab": {
          "base_uri": "https://localhost:8080/"
        },
        "id": "3Ih9NP5fzgWz",
        "outputId": "ee2fa90b-7de5-4b7e-89e5-63eef0d8907a"
      },
      "execution_count": null,
      "outputs": [
        {
          "output_type": "stream",
          "name": "stdout",
          "text": [
            "[2. 3. 0. 1.]\n"
          ]
        }
      ]
    },
    {
      "cell_type": "code",
      "source": [
        "\n",
        "print(df['v701'].unique())\n",
        "print(f'shape of original df = {df.shape}')\n",
        "df[\"v701\"]=df[\"v701\"].replace({9:8, 0:'No education', 1:'Primary education', 2:'Secondary education', 3:'Higher education'})\n",
        "indexNames = df[df['v701'] == 8].index\n",
        "df.drop(indexNames , inplace=True)\n",
        "print(df['v701'].unique())\n",
        "print(f'shape of original df = {df.shape}')"
      ],
      "metadata": {
        "colab": {
          "base_uri": "https://localhost:8080/"
        },
        "id": "coH4MBzU0W99",
        "outputId": "9ca5f776-004c-4382-ba07-355802341583"
      },
      "execution_count": null,
      "outputs": [
        {
          "output_type": "stream",
          "name": "stdout",
          "text": [
            "[2. 3. 0. 1.]\n",
            "shape of original df = (133, 34)\n",
            "['Secondary education' 'Higher education' 'No education'\n",
            " 'Primary education']\n",
            "shape of original df = (133, 34)\n"
          ]
        }
      ]
    },
    {
      "cell_type": "code",
      "source": [
        "df['v701'].value_counts()"
      ],
      "metadata": {
        "colab": {
          "base_uri": "https://localhost:8080/"
        },
        "id": "HyAjIn3t0mdo",
        "outputId": "744de5ef-4ec9-4698-8360-b0e6b205f58b"
      },
      "execution_count": null,
      "outputs": [
        {
          "output_type": "execute_result",
          "data": {
            "text/plain": [
              "v701\n",
              "Secondary education    70\n",
              "Higher education       24\n",
              "No education           24\n",
              "Primary education      15\n",
              "Name: count, dtype: int64"
            ]
          },
          "metadata": {},
          "execution_count": 162
        }
      ]
    },
    {
      "cell_type": "code",
      "source": [
        "df = df.rename(columns={\"v701\": \"Father's Education\"})"
      ],
      "metadata": {
        "id": "nVEjgsjDAnG-"
      },
      "execution_count": null,
      "outputs": []
    },
    {
      "cell_type": "markdown",
      "source": [
        "father's occupation v705"
      ],
      "metadata": {
        "id": "dpQr9ZOY07JM"
      }
    },
    {
      "cell_type": "code",
      "source": [
        "print(df['v705'].unique())\n",
        "df['v705']=df['v705'].replace({0:'unemployed',1:'professional',2:'clerical',3:'sales',4:'self employed',5:'Rgri',6:'household',7:'services' ,8:'skilled labour', 99.0:'dont know', 98.0:'dont know'})\n",
        "\n"
      ],
      "metadata": {
        "colab": {
          "base_uri": "https://localhost:8080/"
        },
        "id": "9xEwIGRJ006_",
        "outputId": "01d7548a-79b8-4244-9a66-9b13e4ded264"
      },
      "execution_count": null,
      "outputs": [
        {
          "output_type": "stream",
          "name": "stdout",
          "text": [
            "[4. 5. 7. 6. 1. 9. 3.]\n"
          ]
        }
      ]
    },
    {
      "cell_type": "code",
      "source": [
        "# First, print unique values to see the context\n",
        "print(df['v705'].unique())\n",
        "\n",
        "# Update the replacement dictionary to include 9\n",
        "replacement_dict = {\n",
        "    0: 'unemployed',\n",
        "    1: 'professional',\n",
        "    2: 'clerical',\n",
        "    3: 'sales',\n",
        "    4: 'self employed',\n",
        "    5: 'Rgri',\n",
        "    6: 'household',\n",
        "    7: 'services',\n",
        "    8: 'skilled labour',\n",
        "    9: 'other',  # Assuming 9 represents 'other'\n",
        "    99.0: 'dont know',\n",
        "    98.0: 'dont know'\n",
        "}\n",
        "\n",
        "# Use .loc to avoid the SettingWithCopyWarning\n",
        "df.loc[:, 'v705'] = df['v705'].replace(replacement_dict)\n",
        "\n",
        "# Drop rows where v705 is 'dont know'\n",
        "df = df[df['v705'] != 'dont know']\n",
        "\n",
        "# Print unique values and shape to verify the changes\n",
        "print(df['v705'].unique())\n",
        "print(f'shape of df after drop = {df.shape}')\n",
        "\n",
        "# Print the value counts to check the distribution\n",
        "print(df['v705'].value_counts())\n"
      ],
      "metadata": {
        "colab": {
          "base_uri": "https://localhost:8080/"
        },
        "id": "lyCnIb0B5gqw",
        "outputId": "9aadf1af-bbd8-466e-ca2e-0480d4499a2c"
      },
      "execution_count": null,
      "outputs": [
        {
          "output_type": "stream",
          "name": "stdout",
          "text": [
            "['self employed' 'Rgri' 'services' 'household' 'professional' 9.0 'sales']\n",
            "['self employed' 'Rgri' 'services' 'household' 'professional' 'other'\n",
            " 'sales']\n",
            "shape of df after drop = (133, 34)\n",
            "v705\n",
            "services         47\n",
            "household        43\n",
            "self employed    14\n",
            "other            10\n",
            "Rgri              9\n",
            "professional      7\n",
            "sales             3\n",
            "Name: count, dtype: int64\n"
          ]
        }
      ]
    },
    {
      "cell_type": "code",
      "source": [
        "df = df.rename(columns={\"v705\": \"Father's Occupation\"})"
      ],
      "metadata": {
        "id": "BymNh1I1Aeej"
      },
      "execution_count": null,
      "outputs": []
    },
    {
      "cell_type": "markdown",
      "source": [
        "mothers occupation v717"
      ],
      "metadata": {
        "id": "u_fDKEtQ7Ilu"
      }
    },
    {
      "cell_type": "code",
      "source": [
        "# First, print unique values to see the context\n",
        "print(df['v717'].unique())\n",
        "\n",
        "# Update the replacement dictionary to include 9\n",
        "replacement_dict = {\n",
        "    0: 'unemployed',\n",
        "    1: 'professional',\n",
        "    2: 'clerical',\n",
        "    3: 'sales',\n",
        "    4: 'self employed',\n",
        "    5: 'Rgri',\n",
        "    6: 'household',\n",
        "    7: 'services',\n",
        "    8: 'skilled labour',\n",
        "    9: 'other',  # Assuming 9 represents 'other'\n",
        "    99.0: 'dont know',\n",
        "    98.0: 'dont know'\n",
        "}\n",
        "\n",
        "# Use .loc to avoid the SettingWithCopyWarning\n",
        "df.loc[:, 'v717'] = df['v717'].replace(replacement_dict)\n",
        "\n",
        "# Drop rows where v705 is 'dont know'\n",
        "df = df[df['v717'] != 'dont know']\n",
        "\n",
        "# Print unique values and shape to verify the changes\n",
        "print(df['v717'].unique())\n",
        "print(f'shape of df after drop = {df.shape}')\n",
        "\n",
        "# Print the value counts to check the distribution\n",
        "print(df['v717'].value_counts())\n"
      ],
      "metadata": {
        "colab": {
          "base_uri": "https://localhost:8080/"
        },
        "id": "Vi-J5bSU7xsY",
        "outputId": "79a6ae72-2655-401c-9544-0ca1acf822ba"
      },
      "execution_count": null,
      "outputs": [
        {
          "output_type": "stream",
          "name": "stdout",
          "text": [
            "[0. 6. 4. 1. 9. 7. 5.]\n",
            "['unemployed' 'household' 'self employed' 'professional' 'other'\n",
            " 'services' 'Rgri']\n",
            "shape of df after drop = (133, 34)\n",
            "v717\n",
            "unemployed       103\n",
            "household         16\n",
            "self employed      3\n",
            "professional       3\n",
            "services           3\n",
            "Rgri               3\n",
            "other              2\n",
            "Name: count, dtype: int64\n"
          ]
        }
      ]
    },
    {
      "cell_type": "code",
      "source": [
        "df = df.rename(columns={\"v717\": \"Mother's Occupation\"})"
      ],
      "metadata": {
        "id": "q_mMJt3JAUxM"
      },
      "execution_count": null,
      "outputs": []
    },
    {
      "cell_type": "markdown",
      "source": [
        "area v025"
      ],
      "metadata": {
        "id": "U6s_6SsU9b40"
      }
    },
    {
      "cell_type": "code",
      "source": [
        "\n",
        "print(df['v025'].unique())\n",
        "df['v025'] = df['v025'].replace({1:'Urban', 2:'Rural'})\n",
        "print(df['v025'].unique())\n",
        "print(df['v025'].value_counts())\n"
      ],
      "metadata": {
        "colab": {
          "base_uri": "https://localhost:8080/"
        },
        "id": "b8_19Bek80X6",
        "outputId": "574dc813-a65c-4f7d-f392-5b209b6aa507"
      },
      "execution_count": null,
      "outputs": [
        {
          "output_type": "stream",
          "name": "stdout",
          "text": [
            "[1 2]\n",
            "['Urban' 'Rural']\n",
            "v025\n",
            "Rural    109\n",
            "Urban     24\n",
            "Name: count, dtype: int64\n"
          ]
        }
      ]
    },
    {
      "cell_type": "code",
      "source": [
        "df = df.rename(columns={\"v025\": \"Area\"})"
      ],
      "metadata": {
        "id": "6Cn6YinrAPEf"
      },
      "execution_count": null,
      "outputs": []
    },
    {
      "cell_type": "markdown",
      "source": [
        "\n",
        "religion v130"
      ],
      "metadata": {
        "id": "_PYAgqKJ-Y-u"
      }
    },
    {
      "cell_type": "code",
      "source": [
        "print(df['v130'].unique())\n",
        "df['v130']=df['v130'].replace({1:'Hindu',2:'Muslim',3:'Christian',4:'Sikh',5:'Others',6:'Others',10:'Others' ,9:'Others', 99:'Others', 96:'Others'})\n"
      ],
      "metadata": {
        "colab": {
          "base_uri": "https://localhost:8080/"
        },
        "id": "yvl1OuCy-WCu",
        "outputId": "ba177088-8222-447e-a001-8ef93a3da27d"
      },
      "execution_count": null,
      "outputs": [
        {
          "output_type": "stream",
          "name": "stdout",
          "text": [
            "[ 2  1  3  6 96  4]\n"
          ]
        }
      ]
    },
    {
      "cell_type": "code",
      "source": [
        "print(df['v130'].unique())\n",
        "print(f'v130 = {df.shape}')\n"
      ],
      "metadata": {
        "colab": {
          "base_uri": "https://localhost:8080/"
        },
        "id": "WHD9qrrB-oY5",
        "outputId": "87bbfe2d-f246-483f-ee99-d1e8deb13e08"
      },
      "execution_count": null,
      "outputs": [
        {
          "output_type": "stream",
          "name": "stdout",
          "text": [
            "['Muslim' 'Hindu' 'Christian' 'Others' 'Sikh']\n",
            "v130 = (133, 34)\n"
          ]
        }
      ]
    },
    {
      "cell_type": "code",
      "source": [
        "df['v130'].value_counts()"
      ],
      "metadata": {
        "colab": {
          "base_uri": "https://localhost:8080/"
        },
        "id": "Uu1xJkw3-sfe",
        "outputId": "8fd595bf-7593-4fca-95a2-3bc80f0ee162"
      },
      "execution_count": null,
      "outputs": [
        {
          "output_type": "execute_result",
          "data": {
            "text/plain": [
              "v130\n",
              "Hindu        101\n",
              "Muslim        19\n",
              "Christian      8\n",
              "Others         4\n",
              "Sikh           1\n",
              "Name: count, dtype: int64"
            ]
          },
          "metadata": {},
          "execution_count": 173
        }
      ]
    },
    {
      "cell_type": "code",
      "source": [
        "\n",
        "df = df.rename(columns={\"v130\": \"Religion\"})"
      ],
      "metadata": {
        "id": "8vjAK5pdAK5h"
      },
      "execution_count": null,
      "outputs": []
    },
    {
      "cell_type": "markdown",
      "source": [
        "caste s116"
      ],
      "metadata": {
        "id": "4_5ZaVPB-5gB"
      }
    },
    {
      "cell_type": "code",
      "source": [
        "\n",
        "\n",
        "df['s116'].unique()"
      ],
      "metadata": {
        "colab": {
          "base_uri": "https://localhost:8080/"
        },
        "id": "51B1s45B-vYV",
        "outputId": "0eedaa73-c666-4094-c309-c3d0f3fcd6c4"
      },
      "execution_count": null,
      "outputs": [
        {
          "output_type": "execute_result",
          "data": {
            "text/plain": [
              "array([3., 1., 4., 2.])"
            ]
          },
          "metadata": {},
          "execution_count": 175
        }
      ]
    },
    {
      "cell_type": "code",
      "source": [
        "print(df['s116'].unique())\n",
        "print(f'shape of original df = {df.shape}')\n",
        "df[\"s116\"]=df[\"s116\"].replace({8.0:9})\n",
        "indexNames = df[df['s116'] == 9].index\n",
        "df.drop(indexNames , inplace=True)\n",
        "print(df['s116'].unique())\n",
        "print(f'shape of new df = {df.shape}')"
      ],
      "metadata": {
        "colab": {
          "base_uri": "https://localhost:8080/"
        },
        "id": "KRz1CSyG--aV",
        "outputId": "8c55f2a1-90ab-4067-9bae-f39d5e17193a"
      },
      "execution_count": null,
      "outputs": [
        {
          "output_type": "stream",
          "name": "stdout",
          "text": [
            "[3. 1. 4. 2.]\n",
            "shape of original df = (133, 34)\n",
            "[3. 1. 4. 2.]\n",
            "shape of new df = (133, 34)\n"
          ]
        }
      ]
    },
    {
      "cell_type": "code",
      "source": [
        "\n",
        "\n",
        "df['s116']=df['s116'].replace({1:'SC',2:'ST',3:'OBC',4:'Others'})"
      ],
      "metadata": {
        "id": "kvr13m5B_FW-"
      },
      "execution_count": null,
      "outputs": []
    },
    {
      "cell_type": "code",
      "source": [
        "\n",
        "df['s116'].value_counts()"
      ],
      "metadata": {
        "colab": {
          "base_uri": "https://localhost:8080/"
        },
        "id": "sYuoOtYO_JNc",
        "outputId": "be58d19a-9d1d-4fd0-eb59-baf844589d8c"
      },
      "execution_count": null,
      "outputs": [
        {
          "output_type": "execute_result",
          "data": {
            "text/plain": [
              "s116\n",
              "OBC       50\n",
              "SC        32\n",
              "Others    26\n",
              "ST        25\n",
              "Name: count, dtype: int64"
            ]
          },
          "metadata": {},
          "execution_count": 178
        }
      ]
    },
    {
      "cell_type": "code",
      "source": [
        "df = df.rename(columns={\"s116\": \"Caste\"})"
      ],
      "metadata": {
        "id": "zfdgyyR8AFVd"
      },
      "execution_count": null,
      "outputs": []
    },
    {
      "cell_type": "markdown",
      "source": [
        "source of drinking water v113"
      ],
      "metadata": {
        "id": "Tr-Tuqol_S7H"
      }
    },
    {
      "cell_type": "code",
      "source": [
        "df['v113'].unique()"
      ],
      "metadata": {
        "colab": {
          "base_uri": "https://localhost:8080/"
        },
        "id": "gyho6VMD_LbX",
        "outputId": "120597a2-544d-49ef-d31d-024795a58da9"
      },
      "execution_count": null,
      "outputs": [
        {
          "output_type": "execute_result",
          "data": {
            "text/plain": [
              "array([21, 12, 11, 14, 71, 31, 32, 92, 97, 13, 61, 43])"
            ]
          },
          "metadata": {},
          "execution_count": 180
        }
      ]
    },
    {
      "cell_type": "code",
      "source": [
        "\n",
        "\n",
        "df = df.rename(columns={\"v113\": \"Source of drinking water\"})"
      ],
      "metadata": {
        "id": "BEVuBTXf_bjT"
      },
      "execution_count": null,
      "outputs": []
    },
    {
      "cell_type": "code",
      "source": [
        "# Remove missing values (code 99)\n",
        "df = df[df[\"Source of drinking water\"] != 99]\n",
        "\n",
        "# Group categories and label them\n",
        "replacement_dict = {\n",
        "    10: 1, 11: 1, 12: 1, 13: 1, 14: 1, 20: 1, 21: 1, 30: 1, 31: 1, 41: 1,\n",
        "    51: 1, 71: 1, 61: 1, 62: 1, 32: 2, 40: 2, 42: 2, 43: 2, 96: 2, 97: 2,\n",
        "    92: 'Improved'  # Include code 92 in the replacement dictionary\n",
        "}\n",
        "\n",
        "\n",
        "# Replace the values in the column\n",
        "df[\"Source of drinking water\"] = df[\"Source of drinking water\"].replace(replacement_dict)\n",
        "\n",
        "# Label the categories\n",
        "df[\"Source of drinking water\"] = df[\"Source of drinking water\"].replace({1: 'Improved', 2: 'Unimproved'})\n"
      ],
      "metadata": {
        "id": "nydatbg2N0wl"
      },
      "execution_count": null,
      "outputs": []
    },
    {
      "cell_type": "code",
      "source": [
        "# Print shape before dropping missing values\n",
        "print(\"Shape before dropping missing values:\", df.shape)\n",
        "\n",
        "# Remove missing values (code 99)\n",
        "df = df[df[\"Source of drinking water\"] != 99]\n",
        "\n",
        "# Print shape after dropping missing values\n",
        "print(\"Shape after dropping missing values:\", df.shape)\n",
        "\n",
        "# Group categories and label them\n",
        "replacement_dict = {\n",
        "    10: 1, 11: 1, 12: 1, 13: 1, 14: 1, 20: 1, 21: 1, 30: 1, 31: 1, 41: 1,\n",
        "    51: 1, 71: 1, 61: 1, 62: 1, 32: 2, 40: 2, 42: 2, 43: 2, 96: 2, 97: 2\n",
        "}\n",
        "\n",
        "# Replace the values in the column\n",
        "df[\"Source of drinking water\"] = df[\"Source of drinking water\"].replace(replacement_dict)\n",
        "\n",
        "# Label the categories\n",
        "df[\"Source of drinking water\"] = df[\"Source of drinking water\"].replace({1: 'Improved', 2: 'Unimproved'})\n",
        "\n",
        "# Print unique values after processing\n",
        "print(\"Unique values after processing:\")\n",
        "print(df['Source of drinking water'].unique())\n",
        "\n",
        "# Print value counts after processing\n",
        "print(\"Value counts after processing:\")\n",
        "print(df['Source of drinking water'].value_counts())\n"
      ],
      "metadata": {
        "colab": {
          "base_uri": "https://localhost:8080/"
        },
        "id": "b41EyMZXOY4S",
        "outputId": "33500924-2991-46b8-9620-77a861e28eb8"
      },
      "execution_count": null,
      "outputs": [
        {
          "output_type": "stream",
          "name": "stdout",
          "text": [
            "Shape before dropping missing values: (133, 34)\n",
            "Shape after dropping missing values: (133, 34)\n",
            "Unique values after processing:\n",
            "['Improved' 'Unimproved']\n",
            "Value counts after processing:\n",
            "Source of drinking water\n",
            "Improved      119\n",
            "Unimproved     14\n",
            "Name: count, dtype: int64\n"
          ]
        }
      ]
    },
    {
      "cell_type": "markdown",
      "source": [
        "toilet facility v116"
      ],
      "metadata": {
        "id": "xFayKS2iA9vJ"
      }
    },
    {
      "cell_type": "code",
      "source": [
        "df['v116'].unique()"
      ],
      "metadata": {
        "colab": {
          "base_uri": "https://localhost:8080/"
        },
        "id": "hS48X1jfA70f",
        "outputId": "e7f57113-0d35-43d1-f63e-079031b09faa"
      },
      "execution_count": null,
      "outputs": [
        {
          "output_type": "execute_result",
          "data": {
            "text/plain": [
              "array([12., 11., 31., 13., 23., 41., 22., 15., 97., 14.])"
            ]
          },
          "metadata": {},
          "execution_count": 184
        }
      ]
    },
    {
      "cell_type": "code",
      "source": [
        "df = df.rename(columns={\"v116\": \"Toilet Facility\"})"
      ],
      "metadata": {
        "id": "zRQB3MLBBHYQ"
      },
      "execution_count": null,
      "outputs": []
    },
    {
      "cell_type": "code",
      "source": [
        "# Print shape before dropping missing values\n",
        "print(\"Shape before dropping missing values:\", df.shape)\n",
        "\n",
        "# Remove missing values (code 99)\n",
        "df = df[df[\"Toilet Facility\"] != 99]\n",
        "\n",
        "# Remove rows with missing values\n",
        "df = df.dropna(subset=[\"Toilet Facility\"])\n",
        "\n",
        "# Print shape after dropping missing values\n",
        "print(\"Shape after dropping missing values:\", df.shape)\n",
        "\n",
        "# Group categories and label them\n",
        "replacement_dict = {\n",
        "    10: 1, 11: 1, 12: 1, 13: 1, 14: 1, 15: 1, 20: 2, 21: 2, 22: 2, 23: 2,\n",
        "    30: 3, 31: 3, 41: 4, 42: 4, 43: 4, 44: 4, 96: 5, 97: 5\n",
        "}\n",
        "\n",
        "# Replace the values in the column\n",
        "df[\"Toilet Facility\"] = df[\"Toilet Facility\"].replace(replacement_dict)\n",
        "\n",
        "# Label the categories\n",
        "df[\"Toilet Facility\"] = df[\"Toilet Facility\"].replace({\n",
        "    1: 'Improved', 2: 'Unimproved', 3: 'No facility',\n",
        "    4: 'Other', 5: 'Unknown'\n",
        "})\n",
        "\n",
        "# Print unique values after processing\n",
        "print(\"Unique values after processing:\")\n",
        "print(df['Toilet Facility'].unique())\n",
        "\n",
        "# Print value counts after processing\n",
        "print(\"Value counts after processing:\")\n",
        "print(df['Toilet Facility'].value_counts())\n"
      ],
      "metadata": {
        "colab": {
          "base_uri": "https://localhost:8080/"
        },
        "id": "4Qyzc6N6PbG-",
        "outputId": "cbf88175-e5b8-45eb-b065-664db2b48454"
      },
      "execution_count": null,
      "outputs": [
        {
          "output_type": "stream",
          "name": "stdout",
          "text": [
            "Shape before dropping missing values: (133, 34)\n",
            "Shape after dropping missing values: (133, 34)\n",
            "Unique values after processing:\n",
            "['Improved' 'No facility' 'Unimproved' 'Other' 'Unknown']\n",
            "Value counts after processing:\n",
            "Toilet Facility\n",
            "Improved       72\n",
            "No facility    30\n",
            "Unimproved     14\n",
            "Other           9\n",
            "Unknown         8\n",
            "Name: count, dtype: int64\n"
          ]
        }
      ]
    },
    {
      "cell_type": "code",
      "source": [
        "df['Toilet Facility'].unique()\n",
        "\n"
      ],
      "metadata": {
        "colab": {
          "base_uri": "https://localhost:8080/"
        },
        "id": "_1ZIP9kqBN9G",
        "outputId": "f12461db-14cb-45b5-e26d-b90b44ede6aa"
      },
      "execution_count": null,
      "outputs": [
        {
          "output_type": "execute_result",
          "data": {
            "text/plain": [
              "array(['Improved', 'No facility', 'Unimproved', 'Other', 'Unknown'],\n",
              "      dtype=object)"
            ]
          },
          "metadata": {},
          "execution_count": 187
        }
      ]
    },
    {
      "cell_type": "code",
      "source": [
        "df['Toilet Facility'].value_counts()\n"
      ],
      "metadata": {
        "colab": {
          "base_uri": "https://localhost:8080/"
        },
        "id": "aFGfMBwSBP4X",
        "outputId": "d1084d21-7bcb-4b66-af5d-734e56755932"
      },
      "execution_count": null,
      "outputs": [
        {
          "output_type": "execute_result",
          "data": {
            "text/plain": [
              "Toilet Facility\n",
              "Improved       72\n",
              "No facility    30\n",
              "Unimproved     14\n",
              "Other           9\n",
              "Unknown         8\n",
              "Name: count, dtype: int64"
            ]
          },
          "metadata": {},
          "execution_count": 188
        }
      ]
    },
    {
      "cell_type": "code",
      "source": [
        "# Check for NaN values in the \"Toilet Facility\" column\n",
        "print(df[\"Toilet Facility\"].isna().sum())\n"
      ],
      "metadata": {
        "colab": {
          "base_uri": "https://localhost:8080/"
        },
        "id": "pLAo76tHQNK4",
        "outputId": "4b433b3e-80c6-421d-e2e5-91fbb7e3b386"
      },
      "execution_count": null,
      "outputs": [
        {
          "output_type": "stream",
          "name": "stdout",
          "text": [
            "0\n"
          ]
        }
      ]
    },
    {
      "cell_type": "markdown",
      "source": [
        "mothers age at first birth v212"
      ],
      "metadata": {
        "id": "kXGe4v38BUb7"
      }
    },
    {
      "cell_type": "code",
      "source": [
        "\n",
        "df['v212'].unique()"
      ],
      "metadata": {
        "colab": {
          "base_uri": "https://localhost:8080/"
        },
        "id": "vcGVVmw6BRU-",
        "outputId": "cca915d8-dfdb-4b6b-b12d-204476e7bef8"
      },
      "execution_count": null,
      "outputs": [
        {
          "output_type": "execute_result",
          "data": {
            "text/plain": [
              "array([21, 30, 20, 27, 32, 19, 23, 25, 24, 17, 18, 22, 15, 26, 29, 28, 16,\n",
              "       31])"
            ]
          },
          "metadata": {},
          "execution_count": 190
        }
      ]
    },
    {
      "cell_type": "code",
      "source": [
        "df['v212'] = pd.cut(df['v212'], bins=[0, 19, 29, 39, 50], include_lowest=True, labels=['<20', '20-29', '30-39', '40 or above'])\n"
      ],
      "metadata": {
        "id": "9s46NpaeBmgy"
      },
      "execution_count": null,
      "outputs": []
    },
    {
      "cell_type": "code",
      "source": [
        "df['v212'].value_counts()"
      ],
      "metadata": {
        "colab": {
          "base_uri": "https://localhost:8080/"
        },
        "id": "beMEP10GBr4a",
        "outputId": "41881f9c-d8fe-48fc-926d-a706e7efccde"
      },
      "execution_count": null,
      "outputs": [
        {
          "output_type": "execute_result",
          "data": {
            "text/plain": [
              "v212\n",
              "20-29          94\n",
              "<20            35\n",
              "30-39           4\n",
              "40 or above     0\n",
              "Name: count, dtype: int64"
            ]
          },
          "metadata": {},
          "execution_count": 192
        }
      ]
    },
    {
      "cell_type": "code",
      "source": [
        "df = df.rename(columns={\"v212\": \"Mother's age at first birth\"})"
      ],
      "metadata": {
        "id": "CrNVEXxbBvXb"
      },
      "execution_count": null,
      "outputs": []
    },
    {
      "cell_type": "markdown",
      "source": [
        "Sex of child"
      ],
      "metadata": {
        "id": "Fx5bvPA2xaEA"
      }
    },
    {
      "cell_type": "code",
      "source": [
        "df['b4'].unique()\n"
      ],
      "metadata": {
        "id": "yn98booWB3ZB",
        "colab": {
          "base_uri": "https://localhost:8080/"
        },
        "outputId": "17e20459-d49e-4e5a-d38b-a53ad462c31a"
      },
      "execution_count": null,
      "outputs": [
        {
          "output_type": "execute_result",
          "data": {
            "text/plain": [
              "array([1, 2])"
            ]
          },
          "metadata": {},
          "execution_count": 194
        }
      ]
    },
    {
      "cell_type": "code",
      "source": [
        "df = df.rename(columns={\"b4\": \"sex of child\"})"
      ],
      "metadata": {
        "id": "iMMJjjWxxkxF"
      },
      "execution_count": null,
      "outputs": []
    },
    {
      "cell_type": "code",
      "source": [
        "df['sex of child']=df['sex of child'].replace({1:'Male',2:'Female'})\n"
      ],
      "metadata": {
        "id": "93SfEITsxzUJ"
      },
      "execution_count": null,
      "outputs": []
    },
    {
      "cell_type": "code",
      "source": [
        "df['sex of child'].value_counts()"
      ],
      "metadata": {
        "colab": {
          "base_uri": "https://localhost:8080/"
        },
        "id": "1cXAvYYUx4A1",
        "outputId": "4fd1bd10-e5ea-4cd6-af71-bbea2c5b771b"
      },
      "execution_count": null,
      "outputs": [
        {
          "output_type": "execute_result",
          "data": {
            "text/plain": [
              "sex of child\n",
              "Female    69\n",
              "Male      64\n",
              "Name: count, dtype: int64"
            ]
          },
          "metadata": {},
          "execution_count": 197
        }
      ]
    },
    {
      "cell_type": "markdown",
      "source": [
        "\n",
        "wealth index"
      ],
      "metadata": {
        "id": "NpntsvT5x-A8"
      }
    },
    {
      "cell_type": "code",
      "source": [
        "df['v190a'].value_counts()"
      ],
      "metadata": {
        "colab": {
          "base_uri": "https://localhost:8080/"
        },
        "id": "y_kWROmHx5vA",
        "outputId": "e4ad6ab5-7748-482e-e94a-9ab37480a439"
      },
      "execution_count": null,
      "outputs": [
        {
          "output_type": "execute_result",
          "data": {
            "text/plain": [
              "v190a\n",
              "1    34\n",
              "2    29\n",
              "4    24\n",
              "3    23\n",
              "5    23\n",
              "Name: count, dtype: int64"
            ]
          },
          "metadata": {},
          "execution_count": 198
        }
      ]
    },
    {
      "cell_type": "code",
      "source": [
        "df = df.rename(columns={\"v190a\": \"wealth index\"})"
      ],
      "metadata": {
        "id": "9UKgkpnRyG1I"
      },
      "execution_count": null,
      "outputs": []
    },
    {
      "cell_type": "code",
      "source": [
        "df['wealth index'] = df['wealth index'].replace({1:'Poorest', 2:'Poorer', 3:'Middle', 4:'Richer', 5:'Richest'})\n"
      ],
      "metadata": {
        "id": "89LuE3_jyNJN"
      },
      "execution_count": null,
      "outputs": []
    },
    {
      "cell_type": "markdown",
      "source": [
        "\n",
        "Months of bf"
      ],
      "metadata": {
        "id": "qP3mI4reyQiv"
      }
    },
    {
      "cell_type": "code",
      "source": [
        "\n",
        "\n",
        "df = df.rename(columns={'m5': \"months of bf\"})"
      ],
      "metadata": {
        "id": "gxgNoZA1yPSj"
      },
      "execution_count": null,
      "outputs": []
    },
    {
      "cell_type": "code",
      "source": [
        "df['months of bf']=pd.cut(df['months of bf'] ,bins=[0,24, 100], right=False , labels=['<24','>24'] , include_lowest=True)\n",
        "\n"
      ],
      "metadata": {
        "id": "rowuWffoyWCN"
      },
      "execution_count": null,
      "outputs": []
    },
    {
      "cell_type": "code",
      "source": [
        "df['months of bf'].unique()"
      ],
      "metadata": {
        "colab": {
          "base_uri": "https://localhost:8080/"
        },
        "id": "oxi0roVMyXwn",
        "outputId": "14063102-0900-456a-9d01-3a25632d4bd7"
      },
      "execution_count": null,
      "outputs": [
        {
          "output_type": "execute_result",
          "data": {
            "text/plain": [
              "['<24', '>24']\n",
              "Categories (2, object): ['<24' < '>24']"
            ]
          },
          "metadata": {},
          "execution_count": 203
        }
      ]
    },
    {
      "cell_type": "code",
      "source": [
        "df['months of bf'].value_counts()"
      ],
      "metadata": {
        "colab": {
          "base_uri": "https://localhost:8080/"
        },
        "id": "sqTTe8AryZYj",
        "outputId": "83cf180e-30b3-46fc-e2da-20fdffe83102"
      },
      "execution_count": null,
      "outputs": [
        {
          "output_type": "execute_result",
          "data": {
            "text/plain": [
              "months of bf\n",
              "<24    102\n",
              ">24     31\n",
              "Name: count, dtype: int64"
            ]
          },
          "metadata": {},
          "execution_count": 204
        }
      ]
    },
    {
      "cell_type": "markdown",
      "source": [
        "\n",
        "Immunization"
      ],
      "metadata": {
        "id": "r0O7an3Fygu4"
      }
    },
    {
      "cell_type": "code",
      "source": [
        "df = df.rename(columns={\"s370b\": \"immunization\"})"
      ],
      "metadata": {
        "id": "SiiQgDj1ykrQ"
      },
      "execution_count": null,
      "outputs": []
    },
    {
      "cell_type": "code",
      "source": [
        "df['immunization'] = df['immunization'].replace({0: 'Not immunized', 1: 'Immunized'})\n"
      ],
      "metadata": {
        "id": "wWwojnnlybI1"
      },
      "execution_count": null,
      "outputs": []
    },
    {
      "cell_type": "code",
      "source": [
        "df['immunization'].value_counts()"
      ],
      "metadata": {
        "colab": {
          "base_uri": "https://localhost:8080/"
        },
        "id": "uyXdi7OhywC6",
        "outputId": "00608aea-887b-4967-8069-ee88cfdde424"
      },
      "execution_count": null,
      "outputs": [
        {
          "output_type": "execute_result",
          "data": {
            "text/plain": [
              "immunization\n",
              "Not immunized    126\n",
              "Immunized          7\n",
              "Name: count, dtype: int64"
            ]
          },
          "metadata": {},
          "execution_count": 207
        }
      ]
    },
    {
      "cell_type": "markdown",
      "source": [
        "Index to birth history"
      ],
      "metadata": {
        "id": "l-BnaORZyzEF"
      }
    },
    {
      "cell_type": "code",
      "source": [
        "df = df.rename(columns={\"hidx\": \"index to birth history\"})"
      ],
      "metadata": {
        "id": "QEbkCRKWyxfZ"
      },
      "execution_count": null,
      "outputs": []
    },
    {
      "cell_type": "code",
      "source": [
        "df['index to birth history'].value_counts()\n"
      ],
      "metadata": {
        "colab": {
          "base_uri": "https://localhost:8080/"
        },
        "id": "CP-6-gBwy9Gt",
        "outputId": "ac92a901-ccc5-47c9-9157-fedaaf7e78e2"
      },
      "execution_count": null,
      "outputs": [
        {
          "output_type": "execute_result",
          "data": {
            "text/plain": [
              "index to birth history\n",
              "1.0    129\n",
              "2.0      4\n",
              "Name: count, dtype: int64"
            ]
          },
          "metadata": {},
          "execution_count": 209
        }
      ]
    },
    {
      "cell_type": "markdown",
      "source": [
        "Sex of household head"
      ],
      "metadata": {
        "id": "7pbWmgl1y_c3"
      }
    },
    {
      "cell_type": "code",
      "source": [
        "df = df.rename(columns={\"v151\": \"sex of household head\"})"
      ],
      "metadata": {
        "id": "VPvenSFtzEsf"
      },
      "execution_count": null,
      "outputs": []
    },
    {
      "cell_type": "code",
      "source": [
        "df['sex of household head'].value_counts()"
      ],
      "metadata": {
        "colab": {
          "base_uri": "https://localhost:8080/"
        },
        "id": "sklYHNKGy9rL",
        "outputId": "5da3ef5a-c6a4-4c8e-f27c-8b9a5c0888bf"
      },
      "execution_count": null,
      "outputs": [
        {
          "output_type": "execute_result",
          "data": {
            "text/plain": [
              "sex of household head\n",
              "1    111\n",
              "2     22\n",
              "Name: count, dtype: int64"
            ]
          },
          "metadata": {},
          "execution_count": 211
        }
      ]
    },
    {
      "cell_type": "code",
      "source": [
        "df['sex of household head']=df['sex of household head'].replace({1:'Male', 2:'Female'})\n"
      ],
      "metadata": {
        "id": "n0fMgPmlzKZe"
      },
      "execution_count": null,
      "outputs": []
    },
    {
      "cell_type": "markdown",
      "source": [
        "\n",
        "\n",
        "\n",
        "\n",
        "no of living children"
      ],
      "metadata": {
        "id": "bK5Uo6OW2jNi"
      }
    },
    {
      "cell_type": "code",
      "source": [
        "df = df.rename(columns={\"v218\": \"number of living children\"})\n"
      ],
      "metadata": {
        "id": "cs2Gi-ohzW_6"
      },
      "execution_count": null,
      "outputs": []
    },
    {
      "cell_type": "code",
      "source": [
        "df['number of living children'].value_counts()"
      ],
      "metadata": {
        "colab": {
          "base_uri": "https://localhost:8080/"
        },
        "id": "Vai-v6Zu2eLX",
        "outputId": "52925e34-1a3f-4eb1-e9d6-3f58fc94edd0"
      },
      "execution_count": null,
      "outputs": [
        {
          "output_type": "execute_result",
          "data": {
            "text/plain": [
              "number of living children\n",
              "1    54\n",
              "2    44\n",
              "3    24\n",
              "4     4\n",
              "6     3\n",
              "5     2\n",
              "7     1\n",
              "8     1\n",
              "Name: count, dtype: int64"
            ]
          },
          "metadata": {},
          "execution_count": 214
        }
      ]
    },
    {
      "cell_type": "markdown",
      "source": [
        "currently in union"
      ],
      "metadata": {
        "id": "iA3CCPV922-i"
      }
    },
    {
      "cell_type": "code",
      "source": [
        "df = df.rename(columns={\"s301\": \"currently in union\"})\n"
      ],
      "metadata": {
        "id": "34HAxNcs2ilj"
      },
      "execution_count": null,
      "outputs": []
    },
    {
      "cell_type": "code",
      "source": [
        "df['currently in union'] = df['currently in union'].replace({0:'Never married', 1:'Currently married',2:'Married, gauna not performed',3:'Widowed',4:'Divorced',5:'Separated',6:'Deserted'})\n",
        "\n"
      ],
      "metadata": {
        "id": "za2z-rws2_4U"
      },
      "execution_count": null,
      "outputs": []
    },
    {
      "cell_type": "code",
      "source": [
        "df['currently in union'].value_counts()"
      ],
      "metadata": {
        "colab": {
          "base_uri": "https://localhost:8080/"
        },
        "id": "ojvTlHvI3sSe",
        "outputId": "fa434e5d-38db-47e1-9e18-59f1ec7a7d67"
      },
      "execution_count": null,
      "outputs": [
        {
          "output_type": "execute_result",
          "data": {
            "text/plain": [
              "currently in union\n",
              "Currently married    132\n",
              "Divorced               1\n",
              "Name: count, dtype: int64"
            ]
          },
          "metadata": {},
          "execution_count": 217
        }
      ]
    },
    {
      "cell_type": "markdown",
      "source": [
        "state"
      ],
      "metadata": {
        "id": "FWDNTZac75OS"
      }
    },
    {
      "cell_type": "code",
      "source": [
        "df = df.rename(columns={\"v024\": \"state\"})\n"
      ],
      "metadata": {
        "id": "DLUuWb8_778z"
      },
      "execution_count": null,
      "outputs": []
    },
    {
      "cell_type": "code",
      "source": [
        "# Create a mapping of state codes to state names\n",
        "state_code_to_name = {\n",
        "    1: \"Jammu & Kashmir\",\n",
        "    2: \"Himachal Pradesh\",\n",
        "    3: \"Punjab\",\n",
        "    4: \"Chandigarh\",\n",
        "    5: \"Uttarakhand\",\n",
        "    6: \"Haryana\",\n",
        "    7: \"Nct Of Delhi\",\n",
        "    8: \"Rajasthan\",\n",
        "    9: \"Uttar Pradesh\",\n",
        "    10: \"Bihar\",\n",
        "    11: \"Sikkim\",\n",
        "    12: \"Arunachal Pradesh\",\n",
        "    13: \"Nagaland\",\n",
        "    14: \"Manipur\",\n",
        "    15: \"Mizoram\",\n",
        "    16: \"Tripura\",\n",
        "    17: \"Meghalaya\",\n",
        "    18: \"Assam\",\n",
        "    19: \"West Bengal\",\n",
        "    20: \"Jharkhand\",\n",
        "    21: \"Odisha\",\n",
        "    22: \"Chhattisgarh\",\n",
        "    23: \"Madhya Pradesh\",\n",
        "    24: \"Gujarat\",\n",
        "    25: \"Dadra & Nagar Haveli And Daman & Diu\",\n",
        "    27: \"Maharashtra\",\n",
        "    28: \"Andhra Pradesh\",\n",
        "    29: \"Karnataka\",\n",
        "    30: \"Goa\",\n",
        "    31: \"Lakshadweep\",\n",
        "    32: \"Kerala\",\n",
        "    33: \"Tamil Nadu\",\n",
        "    34: \"Puducherry\",\n",
        "    35: \"Andaman & Nicobar Islands\",\n",
        "    36: \"Telangana\",\n",
        "    37: \"Ladakh\"\n",
        "}\n",
        "\n",
        "# Create a mapping of state names to regions\n",
        "state_name_to_region = {\n",
        "    \"Jammu & Kashmir\": \"North_India\",\n",
        "    \"Himachal Pradesh\": \"North_India\",\n",
        "    \"Punjab\": \"North_India\",\n",
        "    \"Chandigarh\": \"North_India\",\n",
        "    \"Uttarakhand\": \"Central_India\",\n",
        "    \"Haryana\": \"North_India\",\n",
        "    \"Nct Of Delhi\": \"North_India\",\n",
        "    \"Rajasthan\": \"North_India\",\n",
        "    \"Uttar Pradesh\": \"Central_India\",\n",
        "    \"Bihar\": \"East_India\",\n",
        "    \"Sikkim\": \"NorthEast_India\",\n",
        "    \"Arunachal Pradesh\": \"NorthEast_India\",\n",
        "    \"Nagaland\": \"NorthEast_India\",\n",
        "    \"Manipur\": \"NorthEast_India\",\n",
        "    \"Mizoram\": \"NorthEast_India\",\n",
        "    \"Tripura\": \"NorthEast_India\",\n",
        "    \"Meghalaya\": \"NorthEast_India\",\n",
        "    \"Assam\": \"NorthEast_India\",\n",
        "    \"West Bengal\": \"East_India\",\n",
        "    \"Jharkhand\": \"East_India\",\n",
        "    \"Odisha\": \"East_India\",\n",
        "    \"Chhattisgarh\": \"Central_India\",\n",
        "    \"Madhya Pradesh\": \"Central_India\",\n",
        "    \"Gujarat\": \"West_India\",\n",
        "    \"Dadra & Nagar Haveli And Daman & Diu\": \"West_India\",\n",
        "    \"Maharashtra\": \"West_India\",\n",
        "    \"Andhra Pradesh\": \"South_India\",\n",
        "    \"Karnataka\": \"South_India\",\n",
        "    \"Goa\": \"West_India\",\n",
        "    \"Lakshadweep\": \"South_India\",\n",
        "    \"Kerala\": \"South_India\",\n",
        "    \"Tamil Nadu\": \"South_India\",\n",
        "    \"Puducherry\": \"South_India\",\n",
        "    \"Andaman & Nicobar Islands\": \"South_India\",\n",
        "    \"Telangana\": \"South_India\",\n",
        "    \"Ladakh\": \"North_India\"\n",
        "}\n",
        "\n",
        "# Replace numeric state codes with state names\n",
        "df['state'] = df['state'].replace(state_code_to_name)\n",
        "\n",
        "# Replace state names with corresponding regions\n",
        "df['state'] = df['state'].replace(state_name_to_region)\n",
        "\n",
        "\n"
      ],
      "metadata": {
        "id": "4qd9tRCb9FZF"
      },
      "execution_count": null,
      "outputs": []
    },
    {
      "cell_type": "code",
      "source": [
        "df['state'].value_counts()\n"
      ],
      "metadata": {
        "colab": {
          "base_uri": "https://localhost:8080/"
        },
        "id": "KvaubEyp9ceY",
        "outputId": "e63e5175-fb89-40c7-9b44-a10d3d3dae41"
      },
      "execution_count": null,
      "outputs": [
        {
          "output_type": "execute_result",
          "data": {
            "text/plain": [
              "state\n",
              "Central_India      40\n",
              "East_India         36\n",
              "North_India        21\n",
              "NorthEast_India    16\n",
              "South_India        13\n",
              "West_India          7\n",
              "Name: count, dtype: int64"
            ]
          },
          "metadata": {},
          "execution_count": 220
        }
      ]
    },
    {
      "cell_type": "markdown",
      "source": [
        "mother's weight in kgs(1 decimal)"
      ],
      "metadata": {
        "id": "3gmLcEkS98Kd"
      }
    },
    {
      "cell_type": "code",
      "source": [
        "df = df.rename(columns={\"v437\": \"mother's weight\"})\n"
      ],
      "metadata": {
        "id": "FzoW9hHK9hOI"
      },
      "execution_count": null,
      "outputs": []
    },
    {
      "cell_type": "code",
      "source": [
        "import numpy as np\n",
        "# First, print unique values to see the context\n",
        "print(df[\"mother's weight\"].unique())\n",
        "\n",
        "# Update the replacement dictionary to include specific codes\n",
        "# Update the replacement dictionary to include specific codes\n",
        "replacement_dict = {\n",
        "    9994: np.nan,\n",
        "    9995: np.nan,\n",
        "    9996: np.nan,\n",
        "    9999: np.nan\n",
        "}\n",
        "\n",
        "# Replace specific codes with NaN in the 'mother's weight' column\n",
        "df['mother\\'s weight'] = df['mother\\'s weight'].replace(replacement_dict)\n",
        "\n",
        "# Drop rows with NaN values in the 'mother's weight' column\n",
        "df = df.dropna(subset=['mother\\'s weight'])\n",
        "\n",
        "# Print unique values and shape to verify the changes\n",
        "print(df['mother\\'s weight'].unique())\n",
        "print(f'Shape of df after dropping rows = {df.shape}')\n",
        "\n",
        "# Print the value counts to check the distribution\n",
        "print(df['mother\\'s weight'].value_counts())\n"
      ],
      "metadata": {
        "colab": {
          "base_uri": "https://localhost:8080/"
        },
        "id": "_-b5qcf2BEb8",
        "outputId": "44160da7-2912-4fa8-8abc-dc5d4a5379e9"
      },
      "execution_count": null,
      "outputs": [
        {
          "output_type": "stream",
          "name": "stdout",
          "text": [
            "[468. 523. 482. 597. 346. 464. 485. 392. 589. 497. 681. 458. 381. 584.\n",
            " 367. 614. 579. 395. 496. 437. 512. 500. 549. 382. 489. 420. 413. 404.\n",
            " 569. 470. 660. 428. 425. 529. 557. 389. 499. 573. 574. 477. 471. 387.\n",
            " 376. 460. 667. 643. 439. 411. 765. 685. 418. 528. 507. 369. 473. 645.\n",
            " 429. 364. 446. 481. 441. 352. 493. 679. 525. 445. 402. 433. 635. 592.\n",
            " 467. 563. 416. 397. 448. 383. 562. 472. 375. 483. 559. 602. 484. 358.\n",
            " 633. 407. 652. 454. 414. 463. 426. 495. 409. 513. 506. 431. 475. 522.\n",
            " 601. 558. 536. 455. 593. 649. 476. 452. 603.]\n",
            "[468. 523. 482. 597. 346. 464. 485. 392. 589. 497. 681. 458. 381. 584.\n",
            " 367. 614. 579. 395. 496. 437. 512. 500. 549. 382. 489. 420. 413. 404.\n",
            " 569. 470. 660. 428. 425. 529. 557. 389. 499. 573. 574. 477. 471. 387.\n",
            " 376. 460. 667. 643. 439. 411. 765. 685. 418. 528. 507. 369. 473. 645.\n",
            " 429. 364. 446. 481. 441. 352. 493. 679. 525. 445. 402. 433. 635. 592.\n",
            " 467. 563. 416. 397. 448. 383. 562. 472. 375. 483. 559. 602. 484. 358.\n",
            " 633. 407. 652. 454. 414. 463. 426. 495. 409. 513. 506. 431. 475. 522.\n",
            " 601. 558. 536. 455. 593. 649. 476. 452. 603.]\n",
            "Shape of df after dropping rows = (133, 34)\n",
            "mother's weight\n",
            "482.0    3\n",
            "369.0    2\n",
            "376.0    2\n",
            "404.0    2\n",
            "454.0    2\n",
            "        ..\n",
            "387.0    1\n",
            "574.0    1\n",
            "573.0    1\n",
            "557.0    1\n",
            "603.0    1\n",
            "Name: count, Length: 107, dtype: int64\n"
          ]
        }
      ]
    },
    {
      "cell_type": "markdown",
      "source": [
        "mother's height"
      ],
      "metadata": {
        "id": "YkY4yzpsWWl_"
      }
    },
    {
      "cell_type": "code",
      "source": [
        "df = df.rename(columns={\"v438\": \"mother's height\"})\n"
      ],
      "metadata": {
        "id": "4Kt_Lvz1WbiA"
      },
      "execution_count": null,
      "outputs": []
    },
    {
      "cell_type": "code",
      "source": [
        "import numpy as np\n",
        "# First, print unique values to see the context\n",
        "print(df[\"mother's height\"].unique())\n",
        "\n",
        "# Update the replacement dictionary to include specific codes\n",
        "# Update the replacement dictionary to include specific codes\n",
        "replacement_dict = {\n",
        "    9994: np.nan,\n",
        "    9995: np.nan,\n",
        "    9996: np.nan,\n",
        "    9999: np.nan\n",
        "}\n",
        "\n",
        "# Replace specific codes with NaN in the 'mother's weight' column\n",
        "df['mother\\'s height'] = df['mother\\'s height'].replace(replacement_dict)\n",
        "\n",
        "# Drop rows with NaN values in the 'mother's weight' column\n",
        "df = df.dropna(subset=['mother\\'s height'])\n",
        "\n",
        "# Print unique values and shape to verify the changes\n",
        "print(df['mother\\'s height'].unique())\n",
        "print(f'Shape of df after dropping rows = {df.shape}')\n",
        "\n",
        "# Print the value counts to check the distribution\n",
        "print(df['mother\\'s height'].value_counts())\n"
      ],
      "metadata": {
        "colab": {
          "base_uri": "https://localhost:8080/"
        },
        "id": "bZWwGQ3JCto3",
        "outputId": "cc590946-5d48-44d1-d0fb-3c2f7d58702b"
      },
      "execution_count": null,
      "outputs": [
        {
          "output_type": "stream",
          "name": "stdout",
          "text": [
            "[1489. 1556. 1552. 1520. 1444. 1522. 1524. 1505. 1645. 1497. 1677. 1573.\n",
            " 1574. 1311. 1578. 1476. 1586. 1465. 1538. 1475. 1609. 1594. 1392. 1513.\n",
            " 1511. 1453. 1510. 1491. 1404. 1486. 1519. 1493. 1512. 1507. 1467. 1523.\n",
            " 1480. 1527. 1496. 1639. 1579. 1521. 1630. 1634. 1532. 1572. 1482. 1563.\n",
            " 1485. 1464. 1461. 1395. 1449. 1427. 1414. 1484. 1501. 1530. 1626. 1564.\n",
            " 1434. 1537. 1421. 1555. 1568. 1602. 1571. 1499. 1287. 1435. 1462. 1541.\n",
            " 1514. 1488. 1342. 1593. 1495. 1416. 1492. 1545. 1504. 1554. 1643. 1517.\n",
            " 1558. 1412. 1481. 1546. 1557. 1439. 1500. 1526. 1459. 1375. 1415. 1436.\n",
            " 1543. 1595. 1587. 1539. 1577.]\n",
            "[1489. 1556. 1552. 1520. 1444. 1522. 1524. 1505. 1645. 1497. 1677. 1573.\n",
            " 1574. 1311. 1578. 1476. 1586. 1465. 1538. 1475. 1609. 1594. 1392. 1513.\n",
            " 1511. 1453. 1510. 1491. 1404. 1486. 1519. 1493. 1512. 1507. 1467. 1523.\n",
            " 1480. 1527. 1496. 1639. 1579. 1521. 1630. 1634. 1532. 1572. 1482. 1563.\n",
            " 1485. 1464. 1461. 1395. 1449. 1427. 1414. 1484. 1501. 1530. 1626. 1564.\n",
            " 1434. 1537. 1421. 1555. 1568. 1602. 1571. 1499. 1287. 1435. 1462. 1541.\n",
            " 1514. 1488. 1342. 1593. 1495. 1416. 1492. 1545. 1504. 1554. 1643. 1517.\n",
            " 1558. 1412. 1481. 1546. 1557. 1439. 1500. 1526. 1459. 1375. 1415. 1436.\n",
            " 1543. 1595. 1587. 1539. 1577.]\n",
            "Shape of df after dropping rows = (133, 34)\n",
            "mother's height\n",
            "1510.0    3\n",
            "1476.0    3\n",
            "1520.0    3\n",
            "1475.0    3\n",
            "1499.0    3\n",
            "         ..\n",
            "1630.0    1\n",
            "1521.0    1\n",
            "1579.0    1\n",
            "1480.0    1\n",
            "1577.0    1\n",
            "Name: count, Length: 101, dtype: int64\n"
          ]
        }
      ]
    },
    {
      "cell_type": "markdown",
      "source": [
        "mothers bmi (calculated using mothers height and mothers weight)"
      ],
      "metadata": {
        "id": "65NVEcrFGxrk"
      }
    },
    {
      "cell_type": "code",
      "source": [
        "import pandas as pd\n",
        "\n",
        "# Assuming your dataset is stored in a pandas DataFrame called 'df'\n",
        "# with columns 'mothers_height_cm' and 'mothers_weight_kg'\n",
        "\n",
        "# Calculate BMI\n",
        "df['mothers_bmi'] = df['mother\\'s weight'] / ((df['mother\\'s height'] / 100) ** 2)\n",
        "\n",
        "# Round BMI to 1 decimal place\n",
        "df['mothers_bmi'] = df['mothers_bmi'].round(1)\n",
        "\n",
        "\n"
      ],
      "metadata": {
        "id": "UZMkGzgsWkY6"
      },
      "execution_count": null,
      "outputs": []
    },
    {
      "cell_type": "code",
      "source": [
        "\n",
        "\n",
        "# Display the shape of the DataFrame\n",
        "print(\"Shape of DataFrame:\", df.shape)\n",
        "\n",
        "# Display the value counts of the 'mothers_bmi' column\n",
        "print(\"\\nValue counts of 'mothers_bmi' column:\")\n",
        "print(df['mothers_bmi'].value_counts())\n"
      ],
      "metadata": {
        "colab": {
          "base_uri": "https://localhost:8080/"
        },
        "id": "Ip0OKiM_YCAy",
        "outputId": "4283e428-d34e-49be-b04b-dd9bbfbbdd63"
      },
      "execution_count": null,
      "outputs": [
        {
          "output_type": "stream",
          "name": "stdout",
          "text": [
            "Shape of DataFrame: (133, 35)\n",
            "\n",
            "Value counts of 'mothers_bmi' column:\n",
            "mothers_bmi\n",
            "2.2    23\n",
            "2.0    18\n",
            "1.8    16\n",
            "2.1    11\n",
            "2.3    10\n",
            "1.9    10\n",
            "1.7    10\n",
            "2.4     7\n",
            "2.5     6\n",
            "2.7     5\n",
            "2.8     4\n",
            "2.6     4\n",
            "1.6     4\n",
            "3.3     1\n",
            "1.5     1\n",
            "2.9     1\n",
            "3.0     1\n",
            "1.4     1\n",
            "Name: count, dtype: int64\n"
          ]
        }
      ]
    },
    {
      "cell_type": "code",
      "source": [
        "\n",
        "\n",
        "df.shape"
      ],
      "metadata": {
        "colab": {
          "base_uri": "https://localhost:8080/"
        },
        "id": "hwRDNQe6YqZX",
        "outputId": "9ffce557-56c7-466a-a8e4-55258adcd020"
      },
      "execution_count": null,
      "outputs": [
        {
          "output_type": "execute_result",
          "data": {
            "text/plain": [
              "(133, 35)"
            ]
          },
          "metadata": {},
          "execution_count": 227
        }
      ]
    },
    {
      "cell_type": "code",
      "source": [
        "df"
      ],
      "metadata": {
        "colab": {
          "base_uri": "https://localhost:8080/",
          "height": 513
        },
        "id": "y6_s2CGWZDth",
        "outputId": "ad220771-380d-42dc-9940-f0efe19de2bf"
      },
      "execution_count": null,
      "outputs": [
        {
          "output_type": "execute_result",
          "data": {
            "text/plain": [
              "     Source of drinking water    hw2 Caste Mother's age at first birth  \\\n",
              "4                    Improved   50.0   OBC                       20-29   \n",
              "19                   Improved   51.0    SC                       30-39   \n",
              "27                   Improved   84.0   OBC                       20-29   \n",
              "47                   Improved   37.0   OBC                       20-29   \n",
              "76                   Improved   89.0    SC                       20-29   \n",
              "...                       ...    ...   ...                         ...   \n",
              "2268                 Improved  112.0    ST                       20-29   \n",
              "2276                 Improved   96.0   OBC                         <20   \n",
              "2283               Unimproved   33.0   OBC                       20-29   \n",
              "2285                 Improved   61.0    SC                         <20   \n",
              "2310               Unimproved   59.0   OBC                       20-29   \n",
              "\n",
              "     wealth index  v444a   hw1    v445  mother's height Toilet Facility  ...  \\\n",
              "4          Middle  -98.0   2.0  2111.0           1489.0        Improved  ...   \n",
              "19        Richest  -91.0   3.0  2160.0           1556.0        Improved  ...   \n",
              "27         Richer -125.0   8.0  1999.0           1552.0        Improved  ...   \n",
              "47        Richest   46.0   2.0  2584.0           1520.0        Improved  ...   \n",
              "76         Poorer -236.0  10.0  1657.0           1444.0        Improved  ...   \n",
              "...           ...    ...   ...     ...              ...             ...  ...   \n",
              "2268       Poorer   -5.0  29.0  2570.0           1519.0        Improved  ...   \n",
              "2276      Poorest   89.0  26.0  2738.0           1539.0     No facility  ...   \n",
              "2283       Richer -116.0   3.0  1912.0           1577.0         Unknown  ...   \n",
              "2285       Richer  -97.0   7.0  1998.0           1504.0        Improved  ...   \n",
              "2310       Middle   87.0   4.0  2772.0           1475.0         Unknown  ...   \n",
              "\n",
              "                state  index to birth history   Area Religion months of bf  \\\n",
              "4          East_India                     1.0  Urban   Muslim          <24   \n",
              "19        North_India                     1.0  Urban    Hindu          <24   \n",
              "27      Central_India                     1.0  Rural    Hindu          <24   \n",
              "47         East_India                     1.0  Rural    Hindu          <24   \n",
              "76         East_India                     1.0  Rural    Hindu          <24   \n",
              "...               ...                     ...    ...      ...          ...   \n",
              "2268  NorthEast_India                     1.0  Urban   Others          >24   \n",
              "2276    Central_India                     1.0  Rural    Hindu          <24   \n",
              "2283      South_India                     1.0  Rural    Hindu          <24   \n",
              "2285       West_India                     1.0  Urban    Hindu          <24   \n",
              "2310       East_India                     1.0  Rural    Hindu          <24   \n",
              "\n",
              "            bmi     H/A   W/A   W/H  mothers_bmi  \n",
              "4     16.058375  1.2200  20.0  2.45          2.1  \n",
              "19    15.004899  1.2825  20.5  2.50          2.2  \n",
              "27    15.298289  1.6775  37.0  4.15          2.0  \n",
              "47    12.595144  1.1800  13.5  1.80          2.6  \n",
              "76    18.059918  1.5800  39.5  4.40          1.7  \n",
              "...         ...     ...   ...   ...          ...  \n",
              "2268  12.357884  2.2050  51.0  5.55          2.6  \n",
              "2276   9.429505  2.3475  43.0  4.75          2.7  \n",
              "2283   6.295595  1.6350  11.5  1.60          1.9  \n",
              "2285  14.572071  1.4425  25.5  3.00          2.0  \n",
              "2310  15.250049  1.3800  24.5  2.90          2.8  \n",
              "\n",
              "[133 rows x 35 columns]"
            ],
            "text/html": [
              "\n",
              "  <div id=\"df-35712e32-ac8f-4955-9011-501f9ad47776\" class=\"colab-df-container\">\n",
              "    <div>\n",
              "<style scoped>\n",
              "    .dataframe tbody tr th:only-of-type {\n",
              "        vertical-align: middle;\n",
              "    }\n",
              "\n",
              "    .dataframe tbody tr th {\n",
              "        vertical-align: top;\n",
              "    }\n",
              "\n",
              "    .dataframe thead th {\n",
              "        text-align: right;\n",
              "    }\n",
              "</style>\n",
              "<table border=\"1\" class=\"dataframe\">\n",
              "  <thead>\n",
              "    <tr style=\"text-align: right;\">\n",
              "      <th></th>\n",
              "      <th>Source of drinking water</th>\n",
              "      <th>hw2</th>\n",
              "      <th>Caste</th>\n",
              "      <th>Mother's age at first birth</th>\n",
              "      <th>wealth index</th>\n",
              "      <th>v444a</th>\n",
              "      <th>hw1</th>\n",
              "      <th>v445</th>\n",
              "      <th>mother's height</th>\n",
              "      <th>Toilet Facility</th>\n",
              "      <th>...</th>\n",
              "      <th>state</th>\n",
              "      <th>index to birth history</th>\n",
              "      <th>Area</th>\n",
              "      <th>Religion</th>\n",
              "      <th>months of bf</th>\n",
              "      <th>bmi</th>\n",
              "      <th>H/A</th>\n",
              "      <th>W/A</th>\n",
              "      <th>W/H</th>\n",
              "      <th>mothers_bmi</th>\n",
              "    </tr>\n",
              "  </thead>\n",
              "  <tbody>\n",
              "    <tr>\n",
              "      <th>4</th>\n",
              "      <td>Improved</td>\n",
              "      <td>50.0</td>\n",
              "      <td>OBC</td>\n",
              "      <td>20-29</td>\n",
              "      <td>Middle</td>\n",
              "      <td>-98.0</td>\n",
              "      <td>2.0</td>\n",
              "      <td>2111.0</td>\n",
              "      <td>1489.0</td>\n",
              "      <td>Improved</td>\n",
              "      <td>...</td>\n",
              "      <td>East_India</td>\n",
              "      <td>1.0</td>\n",
              "      <td>Urban</td>\n",
              "      <td>Muslim</td>\n",
              "      <td>&lt;24</td>\n",
              "      <td>16.058375</td>\n",
              "      <td>1.2200</td>\n",
              "      <td>20.0</td>\n",
              "      <td>2.45</td>\n",
              "      <td>2.1</td>\n",
              "    </tr>\n",
              "    <tr>\n",
              "      <th>19</th>\n",
              "      <td>Improved</td>\n",
              "      <td>51.0</td>\n",
              "      <td>SC</td>\n",
              "      <td>30-39</td>\n",
              "      <td>Richest</td>\n",
              "      <td>-91.0</td>\n",
              "      <td>3.0</td>\n",
              "      <td>2160.0</td>\n",
              "      <td>1556.0</td>\n",
              "      <td>Improved</td>\n",
              "      <td>...</td>\n",
              "      <td>North_India</td>\n",
              "      <td>1.0</td>\n",
              "      <td>Urban</td>\n",
              "      <td>Hindu</td>\n",
              "      <td>&lt;24</td>\n",
              "      <td>15.004899</td>\n",
              "      <td>1.2825</td>\n",
              "      <td>20.5</td>\n",
              "      <td>2.50</td>\n",
              "      <td>2.2</td>\n",
              "    </tr>\n",
              "    <tr>\n",
              "      <th>27</th>\n",
              "      <td>Improved</td>\n",
              "      <td>84.0</td>\n",
              "      <td>OBC</td>\n",
              "      <td>20-29</td>\n",
              "      <td>Richer</td>\n",
              "      <td>-125.0</td>\n",
              "      <td>8.0</td>\n",
              "      <td>1999.0</td>\n",
              "      <td>1552.0</td>\n",
              "      <td>Improved</td>\n",
              "      <td>...</td>\n",
              "      <td>Central_India</td>\n",
              "      <td>1.0</td>\n",
              "      <td>Rural</td>\n",
              "      <td>Hindu</td>\n",
              "      <td>&lt;24</td>\n",
              "      <td>15.298289</td>\n",
              "      <td>1.6775</td>\n",
              "      <td>37.0</td>\n",
              "      <td>4.15</td>\n",
              "      <td>2.0</td>\n",
              "    </tr>\n",
              "    <tr>\n",
              "      <th>47</th>\n",
              "      <td>Improved</td>\n",
              "      <td>37.0</td>\n",
              "      <td>OBC</td>\n",
              "      <td>20-29</td>\n",
              "      <td>Richest</td>\n",
              "      <td>46.0</td>\n",
              "      <td>2.0</td>\n",
              "      <td>2584.0</td>\n",
              "      <td>1520.0</td>\n",
              "      <td>Improved</td>\n",
              "      <td>...</td>\n",
              "      <td>East_India</td>\n",
              "      <td>1.0</td>\n",
              "      <td>Rural</td>\n",
              "      <td>Hindu</td>\n",
              "      <td>&lt;24</td>\n",
              "      <td>12.595144</td>\n",
              "      <td>1.1800</td>\n",
              "      <td>13.5</td>\n",
              "      <td>1.80</td>\n",
              "      <td>2.6</td>\n",
              "    </tr>\n",
              "    <tr>\n",
              "      <th>76</th>\n",
              "      <td>Improved</td>\n",
              "      <td>89.0</td>\n",
              "      <td>SC</td>\n",
              "      <td>20-29</td>\n",
              "      <td>Poorer</td>\n",
              "      <td>-236.0</td>\n",
              "      <td>10.0</td>\n",
              "      <td>1657.0</td>\n",
              "      <td>1444.0</td>\n",
              "      <td>Improved</td>\n",
              "      <td>...</td>\n",
              "      <td>East_India</td>\n",
              "      <td>1.0</td>\n",
              "      <td>Rural</td>\n",
              "      <td>Hindu</td>\n",
              "      <td>&lt;24</td>\n",
              "      <td>18.059918</td>\n",
              "      <td>1.5800</td>\n",
              "      <td>39.5</td>\n",
              "      <td>4.40</td>\n",
              "      <td>1.7</td>\n",
              "    </tr>\n",
              "    <tr>\n",
              "      <th>...</th>\n",
              "      <td>...</td>\n",
              "      <td>...</td>\n",
              "      <td>...</td>\n",
              "      <td>...</td>\n",
              "      <td>...</td>\n",
              "      <td>...</td>\n",
              "      <td>...</td>\n",
              "      <td>...</td>\n",
              "      <td>...</td>\n",
              "      <td>...</td>\n",
              "      <td>...</td>\n",
              "      <td>...</td>\n",
              "      <td>...</td>\n",
              "      <td>...</td>\n",
              "      <td>...</td>\n",
              "      <td>...</td>\n",
              "      <td>...</td>\n",
              "      <td>...</td>\n",
              "      <td>...</td>\n",
              "      <td>...</td>\n",
              "      <td>...</td>\n",
              "    </tr>\n",
              "    <tr>\n",
              "      <th>2268</th>\n",
              "      <td>Improved</td>\n",
              "      <td>112.0</td>\n",
              "      <td>ST</td>\n",
              "      <td>20-29</td>\n",
              "      <td>Poorer</td>\n",
              "      <td>-5.0</td>\n",
              "      <td>29.0</td>\n",
              "      <td>2570.0</td>\n",
              "      <td>1519.0</td>\n",
              "      <td>Improved</td>\n",
              "      <td>...</td>\n",
              "      <td>NorthEast_India</td>\n",
              "      <td>1.0</td>\n",
              "      <td>Urban</td>\n",
              "      <td>Others</td>\n",
              "      <td>&gt;24</td>\n",
              "      <td>12.357884</td>\n",
              "      <td>2.2050</td>\n",
              "      <td>51.0</td>\n",
              "      <td>5.55</td>\n",
              "      <td>2.6</td>\n",
              "    </tr>\n",
              "    <tr>\n",
              "      <th>2276</th>\n",
              "      <td>Improved</td>\n",
              "      <td>96.0</td>\n",
              "      <td>OBC</td>\n",
              "      <td>&lt;20</td>\n",
              "      <td>Poorest</td>\n",
              "      <td>89.0</td>\n",
              "      <td>26.0</td>\n",
              "      <td>2738.0</td>\n",
              "      <td>1539.0</td>\n",
              "      <td>No facility</td>\n",
              "      <td>...</td>\n",
              "      <td>Central_India</td>\n",
              "      <td>1.0</td>\n",
              "      <td>Rural</td>\n",
              "      <td>Hindu</td>\n",
              "      <td>&lt;24</td>\n",
              "      <td>9.429505</td>\n",
              "      <td>2.3475</td>\n",
              "      <td>43.0</td>\n",
              "      <td>4.75</td>\n",
              "      <td>2.7</td>\n",
              "    </tr>\n",
              "    <tr>\n",
              "      <th>2283</th>\n",
              "      <td>Unimproved</td>\n",
              "      <td>33.0</td>\n",
              "      <td>OBC</td>\n",
              "      <td>20-29</td>\n",
              "      <td>Richer</td>\n",
              "      <td>-116.0</td>\n",
              "      <td>3.0</td>\n",
              "      <td>1912.0</td>\n",
              "      <td>1577.0</td>\n",
              "      <td>Unknown</td>\n",
              "      <td>...</td>\n",
              "      <td>South_India</td>\n",
              "      <td>1.0</td>\n",
              "      <td>Rural</td>\n",
              "      <td>Hindu</td>\n",
              "      <td>&lt;24</td>\n",
              "      <td>6.295595</td>\n",
              "      <td>1.6350</td>\n",
              "      <td>11.5</td>\n",
              "      <td>1.60</td>\n",
              "      <td>1.9</td>\n",
              "    </tr>\n",
              "    <tr>\n",
              "      <th>2285</th>\n",
              "      <td>Improved</td>\n",
              "      <td>61.0</td>\n",
              "      <td>SC</td>\n",
              "      <td>&lt;20</td>\n",
              "      <td>Richer</td>\n",
              "      <td>-97.0</td>\n",
              "      <td>7.0</td>\n",
              "      <td>1998.0</td>\n",
              "      <td>1504.0</td>\n",
              "      <td>Improved</td>\n",
              "      <td>...</td>\n",
              "      <td>West_India</td>\n",
              "      <td>1.0</td>\n",
              "      <td>Urban</td>\n",
              "      <td>Hindu</td>\n",
              "      <td>&lt;24</td>\n",
              "      <td>14.572071</td>\n",
              "      <td>1.4425</td>\n",
              "      <td>25.5</td>\n",
              "      <td>3.00</td>\n",
              "      <td>2.0</td>\n",
              "    </tr>\n",
              "    <tr>\n",
              "      <th>2310</th>\n",
              "      <td>Unimproved</td>\n",
              "      <td>59.0</td>\n",
              "      <td>OBC</td>\n",
              "      <td>20-29</td>\n",
              "      <td>Middle</td>\n",
              "      <td>87.0</td>\n",
              "      <td>4.0</td>\n",
              "      <td>2772.0</td>\n",
              "      <td>1475.0</td>\n",
              "      <td>Unknown</td>\n",
              "      <td>...</td>\n",
              "      <td>East_India</td>\n",
              "      <td>1.0</td>\n",
              "      <td>Rural</td>\n",
              "      <td>Hindu</td>\n",
              "      <td>&lt;24</td>\n",
              "      <td>15.250049</td>\n",
              "      <td>1.3800</td>\n",
              "      <td>24.5</td>\n",
              "      <td>2.90</td>\n",
              "      <td>2.8</td>\n",
              "    </tr>\n",
              "  </tbody>\n",
              "</table>\n",
              "<p>133 rows × 35 columns</p>\n",
              "</div>\n",
              "    <div class=\"colab-df-buttons\">\n",
              "\n",
              "  <div class=\"colab-df-container\">\n",
              "    <button class=\"colab-df-convert\" onclick=\"convertToInteractive('df-35712e32-ac8f-4955-9011-501f9ad47776')\"\n",
              "            title=\"Convert this dataframe to an interactive table.\"\n",
              "            style=\"display:none;\">\n",
              "\n",
              "  <svg xmlns=\"http://www.w3.org/2000/svg\" height=\"24px\" viewBox=\"0 -960 960 960\">\n",
              "    <path d=\"M120-120v-720h720v720H120Zm60-500h600v-160H180v160Zm220 220h160v-160H400v160Zm0 220h160v-160H400v160ZM180-400h160v-160H180v160Zm440 0h160v-160H620v160ZM180-180h160v-160H180v160Zm440 0h160v-160H620v160Z\"/>\n",
              "  </svg>\n",
              "    </button>\n",
              "\n",
              "  <style>\n",
              "    .colab-df-container {\n",
              "      display:flex;\n",
              "      gap: 12px;\n",
              "    }\n",
              "\n",
              "    .colab-df-convert {\n",
              "      background-color: #E8F0FE;\n",
              "      border: none;\n",
              "      border-radius: 50%;\n",
              "      cursor: pointer;\n",
              "      display: none;\n",
              "      fill: #1967D2;\n",
              "      height: 32px;\n",
              "      padding: 0 0 0 0;\n",
              "      width: 32px;\n",
              "    }\n",
              "\n",
              "    .colab-df-convert:hover {\n",
              "      background-color: #E2EBFA;\n",
              "      box-shadow: 0px 1px 2px rgba(60, 64, 67, 0.3), 0px 1px 3px 1px rgba(60, 64, 67, 0.15);\n",
              "      fill: #174EA6;\n",
              "    }\n",
              "\n",
              "    .colab-df-buttons div {\n",
              "      margin-bottom: 4px;\n",
              "    }\n",
              "\n",
              "    [theme=dark] .colab-df-convert {\n",
              "      background-color: #3B4455;\n",
              "      fill: #D2E3FC;\n",
              "    }\n",
              "\n",
              "    [theme=dark] .colab-df-convert:hover {\n",
              "      background-color: #434B5C;\n",
              "      box-shadow: 0px 1px 3px 1px rgba(0, 0, 0, 0.15);\n",
              "      filter: drop-shadow(0px 1px 2px rgba(0, 0, 0, 0.3));\n",
              "      fill: #FFFFFF;\n",
              "    }\n",
              "  </style>\n",
              "\n",
              "    <script>\n",
              "      const buttonEl =\n",
              "        document.querySelector('#df-35712e32-ac8f-4955-9011-501f9ad47776 button.colab-df-convert');\n",
              "      buttonEl.style.display =\n",
              "        google.colab.kernel.accessAllowed ? 'block' : 'none';\n",
              "\n",
              "      async function convertToInteractive(key) {\n",
              "        const element = document.querySelector('#df-35712e32-ac8f-4955-9011-501f9ad47776');\n",
              "        const dataTable =\n",
              "          await google.colab.kernel.invokeFunction('convertToInteractive',\n",
              "                                                    [key], {});\n",
              "        if (!dataTable) return;\n",
              "\n",
              "        const docLinkHtml = 'Like what you see? Visit the ' +\n",
              "          '<a target=\"_blank\" href=https://colab.research.google.com/notebooks/data_table.ipynb>data table notebook</a>'\n",
              "          + ' to learn more about interactive tables.';\n",
              "        element.innerHTML = '';\n",
              "        dataTable['output_type'] = 'display_data';\n",
              "        await google.colab.output.renderOutput(dataTable, element);\n",
              "        const docLink = document.createElement('div');\n",
              "        docLink.innerHTML = docLinkHtml;\n",
              "        element.appendChild(docLink);\n",
              "      }\n",
              "    </script>\n",
              "  </div>\n",
              "\n",
              "\n",
              "<div id=\"df-5a11d7a7-7649-46ae-92d4-f563b2c6a667\">\n",
              "  <button class=\"colab-df-quickchart\" onclick=\"quickchart('df-5a11d7a7-7649-46ae-92d4-f563b2c6a667')\"\n",
              "            title=\"Suggest charts\"\n",
              "            style=\"display:none;\">\n",
              "\n",
              "<svg xmlns=\"http://www.w3.org/2000/svg\" height=\"24px\"viewBox=\"0 0 24 24\"\n",
              "     width=\"24px\">\n",
              "    <g>\n",
              "        <path d=\"M19 3H5c-1.1 0-2 .9-2 2v14c0 1.1.9 2 2 2h14c1.1 0 2-.9 2-2V5c0-1.1-.9-2-2-2zM9 17H7v-7h2v7zm4 0h-2V7h2v10zm4 0h-2v-4h2v4z\"/>\n",
              "    </g>\n",
              "</svg>\n",
              "  </button>\n",
              "\n",
              "<style>\n",
              "  .colab-df-quickchart {\n",
              "      --bg-color: #E8F0FE;\n",
              "      --fill-color: #1967D2;\n",
              "      --hover-bg-color: #E2EBFA;\n",
              "      --hover-fill-color: #174EA6;\n",
              "      --disabled-fill-color: #AAA;\n",
              "      --disabled-bg-color: #DDD;\n",
              "  }\n",
              "\n",
              "  [theme=dark] .colab-df-quickchart {\n",
              "      --bg-color: #3B4455;\n",
              "      --fill-color: #D2E3FC;\n",
              "      --hover-bg-color: #434B5C;\n",
              "      --hover-fill-color: #FFFFFF;\n",
              "      --disabled-bg-color: #3B4455;\n",
              "      --disabled-fill-color: #666;\n",
              "  }\n",
              "\n",
              "  .colab-df-quickchart {\n",
              "    background-color: var(--bg-color);\n",
              "    border: none;\n",
              "    border-radius: 50%;\n",
              "    cursor: pointer;\n",
              "    display: none;\n",
              "    fill: var(--fill-color);\n",
              "    height: 32px;\n",
              "    padding: 0;\n",
              "    width: 32px;\n",
              "  }\n",
              "\n",
              "  .colab-df-quickchart:hover {\n",
              "    background-color: var(--hover-bg-color);\n",
              "    box-shadow: 0 1px 2px rgba(60, 64, 67, 0.3), 0 1px 3px 1px rgba(60, 64, 67, 0.15);\n",
              "    fill: var(--button-hover-fill-color);\n",
              "  }\n",
              "\n",
              "  .colab-df-quickchart-complete:disabled,\n",
              "  .colab-df-quickchart-complete:disabled:hover {\n",
              "    background-color: var(--disabled-bg-color);\n",
              "    fill: var(--disabled-fill-color);\n",
              "    box-shadow: none;\n",
              "  }\n",
              "\n",
              "  .colab-df-spinner {\n",
              "    border: 2px solid var(--fill-color);\n",
              "    border-color: transparent;\n",
              "    border-bottom-color: var(--fill-color);\n",
              "    animation:\n",
              "      spin 1s steps(1) infinite;\n",
              "  }\n",
              "\n",
              "  @keyframes spin {\n",
              "    0% {\n",
              "      border-color: transparent;\n",
              "      border-bottom-color: var(--fill-color);\n",
              "      border-left-color: var(--fill-color);\n",
              "    }\n",
              "    20% {\n",
              "      border-color: transparent;\n",
              "      border-left-color: var(--fill-color);\n",
              "      border-top-color: var(--fill-color);\n",
              "    }\n",
              "    30% {\n",
              "      border-color: transparent;\n",
              "      border-left-color: var(--fill-color);\n",
              "      border-top-color: var(--fill-color);\n",
              "      border-right-color: var(--fill-color);\n",
              "    }\n",
              "    40% {\n",
              "      border-color: transparent;\n",
              "      border-right-color: var(--fill-color);\n",
              "      border-top-color: var(--fill-color);\n",
              "    }\n",
              "    60% {\n",
              "      border-color: transparent;\n",
              "      border-right-color: var(--fill-color);\n",
              "    }\n",
              "    80% {\n",
              "      border-color: transparent;\n",
              "      border-right-color: var(--fill-color);\n",
              "      border-bottom-color: var(--fill-color);\n",
              "    }\n",
              "    90% {\n",
              "      border-color: transparent;\n",
              "      border-bottom-color: var(--fill-color);\n",
              "    }\n",
              "  }\n",
              "</style>\n",
              "\n",
              "  <script>\n",
              "    async function quickchart(key) {\n",
              "      const quickchartButtonEl =\n",
              "        document.querySelector('#' + key + ' button');\n",
              "      quickchartButtonEl.disabled = true;  // To prevent multiple clicks.\n",
              "      quickchartButtonEl.classList.add('colab-df-spinner');\n",
              "      try {\n",
              "        const charts = await google.colab.kernel.invokeFunction(\n",
              "            'suggestCharts', [key], {});\n",
              "      } catch (error) {\n",
              "        console.error('Error during call to suggestCharts:', error);\n",
              "      }\n",
              "      quickchartButtonEl.classList.remove('colab-df-spinner');\n",
              "      quickchartButtonEl.classList.add('colab-df-quickchart-complete');\n",
              "    }\n",
              "    (() => {\n",
              "      let quickchartButtonEl =\n",
              "        document.querySelector('#df-5a11d7a7-7649-46ae-92d4-f563b2c6a667 button');\n",
              "      quickchartButtonEl.style.display =\n",
              "        google.colab.kernel.accessAllowed ? 'block' : 'none';\n",
              "    })();\n",
              "  </script>\n",
              "</div>\n",
              "\n",
              "  <div id=\"id_5058eb68-b37c-4855-8cfa-8d7b1f41d6fd\">\n",
              "    <style>\n",
              "      .colab-df-generate {\n",
              "        background-color: #E8F0FE;\n",
              "        border: none;\n",
              "        border-radius: 50%;\n",
              "        cursor: pointer;\n",
              "        display: none;\n",
              "        fill: #1967D2;\n",
              "        height: 32px;\n",
              "        padding: 0 0 0 0;\n",
              "        width: 32px;\n",
              "      }\n",
              "\n",
              "      .colab-df-generate:hover {\n",
              "        background-color: #E2EBFA;\n",
              "        box-shadow: 0px 1px 2px rgba(60, 64, 67, 0.3), 0px 1px 3px 1px rgba(60, 64, 67, 0.15);\n",
              "        fill: #174EA6;\n",
              "      }\n",
              "\n",
              "      [theme=dark] .colab-df-generate {\n",
              "        background-color: #3B4455;\n",
              "        fill: #D2E3FC;\n",
              "      }\n",
              "\n",
              "      [theme=dark] .colab-df-generate:hover {\n",
              "        background-color: #434B5C;\n",
              "        box-shadow: 0px 1px 3px 1px rgba(0, 0, 0, 0.15);\n",
              "        filter: drop-shadow(0px 1px 2px rgba(0, 0, 0, 0.3));\n",
              "        fill: #FFFFFF;\n",
              "      }\n",
              "    </style>\n",
              "    <button class=\"colab-df-generate\" onclick=\"generateWithVariable('df')\"\n",
              "            title=\"Generate code using this dataframe.\"\n",
              "            style=\"display:none;\">\n",
              "\n",
              "  <svg xmlns=\"http://www.w3.org/2000/svg\" height=\"24px\"viewBox=\"0 0 24 24\"\n",
              "       width=\"24px\">\n",
              "    <path d=\"M7,19H8.4L18.45,9,17,7.55,7,17.6ZM5,21V16.75L18.45,3.32a2,2,0,0,1,2.83,0l1.4,1.43a1.91,1.91,0,0,1,.58,1.4,1.91,1.91,0,0,1-.58,1.4L9.25,21ZM18.45,9,17,7.55Zm-12,3A5.31,5.31,0,0,0,4.9,8.1,5.31,5.31,0,0,0,1,6.5,5.31,5.31,0,0,0,4.9,4.9,5.31,5.31,0,0,0,6.5,1,5.31,5.31,0,0,0,8.1,4.9,5.31,5.31,0,0,0,12,6.5,5.46,5.46,0,0,0,6.5,12Z\"/>\n",
              "  </svg>\n",
              "    </button>\n",
              "    <script>\n",
              "      (() => {\n",
              "      const buttonEl =\n",
              "        document.querySelector('#id_5058eb68-b37c-4855-8cfa-8d7b1f41d6fd button.colab-df-generate');\n",
              "      buttonEl.style.display =\n",
              "        google.colab.kernel.accessAllowed ? 'block' : 'none';\n",
              "\n",
              "      buttonEl.onclick = () => {\n",
              "        google.colab.notebook.generateWithVariable('df');\n",
              "      }\n",
              "      })();\n",
              "    </script>\n",
              "  </div>\n",
              "\n",
              "    </div>\n",
              "  </div>\n"
            ],
            "application/vnd.google.colaboratory.intrinsic+json": {
              "type": "dataframe",
              "variable_name": "df"
            }
          },
          "metadata": {},
          "execution_count": 228
        }
      ]
    },
    {
      "cell_type": "code",
      "source": [
        "df = df.rename(columns={\"v445\": \"body mass index\"})\n"
      ],
      "metadata": {
        "id": "WOlScoKbHBw-"
      },
      "execution_count": null,
      "outputs": []
    },
    {
      "cell_type": "markdown",
      "source": [
        "child height"
      ],
      "metadata": {
        "id": "ry9pT9HJHIra"
      }
    },
    {
      "cell_type": "code",
      "source": [
        "df = df.rename(columns={\"hw3\": \"child's height(in cms)(one decimal)\"})\n"
      ],
      "metadata": {
        "id": "iM4b87JoI3bc"
      },
      "execution_count": null,
      "outputs": []
    },
    {
      "cell_type": "code",
      "source": [
        "import numpy as np\n",
        "# First, print unique values to see the context\n",
        "print(df[\"child's height(in cms)(one decimal)\"].unique())\n",
        "\n",
        "# Update the replacement dictionary to include specific codes\n",
        "# Update the replacement dictionary to include specific codes\n",
        "replacement_dict = {\n",
        "    9994: np.nan,\n",
        "    9995: np.nan,\n",
        "    9996: np.nan,\n",
        "    9999: np.nan\n",
        "}\n",
        "\n",
        "# Replace specific codes with NaN in the 'mother's weight' column\n",
        "df['child\\'s height(in cms)(one decimal)'] = df['child\\'s height(in cms)(one decimal)'].replace(replacement_dict)\n",
        "\n",
        "# Drop rows with NaN values in the 'mother's weight' column\n",
        "df = df.dropna(subset=['child\\'s height(in cms)(one decimal)'])\n",
        "\n",
        "# Print unique values and shape to verify the changes\n",
        "print(df['child\\'s height(in cms)(one decimal)'].unique())\n",
        "print(f'Shape of df after dropping rows = {df.shape}')\n",
        "\n",
        "# Print the value counts to check the distribution\n",
        "print(df['child\\'s height(in cms)(one decimal)'].value_counts())\n"
      ],
      "metadata": {
        "id": "bwdYrwu4ZZQU",
        "colab": {
          "base_uri": "https://localhost:8080/"
        },
        "outputId": "aaa09321-0407-447b-8d27-c2e55935d8cb"
      },
      "execution_count": null,
      "outputs": [
        {
          "output_type": "stream",
          "name": "stdout",
          "text": [
            "[ 558.  583.  741.  542.  702.  867.  875.  752.  814.  871.  721.  784.\n",
            "  638.  868.  863.  686.  852.  847.  676.  748.  773.  892.  886.  764.\n",
            "  611.  720.  842.  652.  751.  865.  956.  859.  643.  661.  682.  711.\n",
            "  573.  740.  816.  683.  648.  850.  762.  732.  813.  719.  920.  754.\n",
            "  724.  848.  545.  693.  879.  703.  802.  680.  824.  500.  745.  932.\n",
            "  793.  758.  728.  731.  893.  750.  797.  563.  518.  912.  651.  717.\n",
            "  722.  845.  798.  792.  710.  982.  897.  725.  851.  804.  821.  642.\n",
            "  697.  526.  645.  957.  872.  876.  907.  405.  628.  757.  772.  910.\n",
            "  832.  625.  822.  570.  631.  575.  656.  726.  756.  704.  801.  841.\n",
            "  594.  695.  800.  952. 1009.  647.  622.]\n",
            "[ 558.  583.  741.  542.  702.  867.  875.  752.  814.  871.  721.  784.\n",
            "  638.  868.  863.  686.  852.  847.  676.  748.  773.  892.  886.  764.\n",
            "  611.  720.  842.  652.  751.  865.  956.  859.  643.  661.  682.  711.\n",
            "  573.  740.  816.  683.  648.  850.  762.  732.  813.  719.  920.  754.\n",
            "  724.  848.  545.  693.  879.  703.  802.  680.  824.  500.  745.  932.\n",
            "  793.  758.  728.  731.  893.  750.  797.  563.  518.  912.  651.  717.\n",
            "  722.  845.  798.  792.  710.  982.  897.  725.  851.  804.  821.  642.\n",
            "  697.  526.  645.  957.  872.  876.  907.  405.  628.  757.  772.  910.\n",
            "  832.  625.  822.  570.  631.  575.  656.  726.  756.  704.  801.  841.\n",
            "  594.  695.  800.  952. 1009.  647.  622.]\n",
            "Shape of df after dropping rows = (133, 35)\n",
            "child's height(in cms)(one decimal)\n",
            "724.0    3\n",
            "876.0    2\n",
            "661.0    2\n",
            "842.0    2\n",
            "886.0    2\n",
            "        ..\n",
            "762.0    1\n",
            "850.0    1\n",
            "648.0    1\n",
            "683.0    1\n",
            "622.0    1\n",
            "Name: count, Length: 115, dtype: int64\n"
          ]
        }
      ]
    },
    {
      "cell_type": "markdown",
      "source": [
        "child's weight"
      ],
      "metadata": {
        "id": "LkgT87fJJ8aO"
      }
    },
    {
      "cell_type": "code",
      "source": [
        "df = df.rename(columns={\"hw2\": \"child's weight(in kgs)(one decimal)\"})\n"
      ],
      "metadata": {
        "id": "9LYi8wCMJgEB"
      },
      "execution_count": null,
      "outputs": []
    },
    {
      "cell_type": "code",
      "source": [
        "import numpy as np\n",
        "# First, print unique values to see the context\n",
        "print(df[\"child's weight(in kgs)(one decimal)\"].unique())\n",
        "\n",
        "# Update the replacement dictionary to include specific codes\n",
        "# Update the replacement dictionary to include specific codes\n",
        "replacement_dict = {\n",
        "    9994: np.nan,\n",
        "    9995: np.nan,\n",
        "    9996: np.nan,\n",
        "    9999: np.nan\n",
        "}\n",
        "\n",
        "# Replace specific codes with NaN in the 'mother's weight' column\n",
        "df['child\\'s weight(in kgs)(one decimal)'] = df['child\\'s weight(in kgs)(one decimal)'].replace(replacement_dict)\n",
        "\n",
        "# Drop rows with NaN values in the 'mother's weight' column\n",
        "df = df.dropna(subset=['child\\'s weight(in kgs)(one decimal)'])\n",
        "\n",
        "# Print unique values and shape to verify the changes\n",
        "print(df['child\\'s weight(in kgs)(one decimal)'].unique())\n",
        "print(f'Shape of df after dropping rows = {df.shape}')\n",
        "\n",
        "# Print the value counts to check the distribution\n",
        "print(df['child\\'s weight(in kgs)(one decimal)'].value_counts())\n"
      ],
      "metadata": {
        "colab": {
          "base_uri": "https://localhost:8080/"
        },
        "id": "EDoBmus1JC8k",
        "outputId": "ffaf6d8c-35b7-48b2-9bc4-aeb7f3f7445f"
      },
      "execution_count": null,
      "outputs": [
        {
          "output_type": "stream",
          "name": "stdout",
          "text": [
            "[ 50.  51.  84.  37.  89. 114. 140.  79. 144. 101. 107.  45.  92. 153.\n",
            "  73. 148.  81.  88. 104. 118.  91.  62. 106.  61. 120. 100. 109.  59.\n",
            "  75.  65.  98.  74.  70.  71. 105.  95.  86.  85.  67. 108.  35.  69.\n",
            "  24.  99.  87. 103.  93.  57. 119.  72.  80.  76. 123.  97.  77. 122.\n",
            " 115. 134.  68.  66.  32. 157. 135.  31.  83. 102.  96.  55.  78. 111.\n",
            " 110.  42. 112.  33.]\n",
            "[ 50.  51.  84.  37.  89. 114. 140.  79. 144. 101. 107.  45.  92. 153.\n",
            "  73. 148.  81.  88. 104. 118.  91.  62. 106.  61. 120. 100. 109.  59.\n",
            "  75.  65.  98.  74.  70.  71. 105.  95.  86.  85.  67. 108.  35.  69.\n",
            "  24.  99.  87. 103.  93.  57. 119.  72.  80.  76. 123.  97.  77. 122.\n",
            " 115. 134.  68.  66.  32. 157. 135.  31.  83. 102.  96.  55.  78. 111.\n",
            " 110.  42. 112.  33.]\n",
            "Shape of df after dropping rows = (133, 35)\n",
            "child's weight(in kgs)(one decimal)\n",
            "81.0     5\n",
            "114.0    5\n",
            "98.0     4\n",
            "89.0     4\n",
            "79.0     4\n",
            "        ..\n",
            "148.0    1\n",
            "57.0     1\n",
            "119.0    1\n",
            "153.0    1\n",
            "33.0     1\n",
            "Name: count, Length: 74, dtype: int64\n"
          ]
        }
      ]
    },
    {
      "cell_type": "code",
      "source": [
        "df.to_csv('preprocessed_data1.csv')"
      ],
      "metadata": {
        "id": "9eQtx7JJJ6XI"
      },
      "execution_count": null,
      "outputs": []
    },
    {
      "cell_type": "code",
      "source": [
        "if 'Unnamed: 0' in df.columns:\n",
        "    df = df.drop('Unnamed: 0', axis=1)\n",
        "else:\n",
        "    print(\"'Unnamed: 0' column not found in DataFrame\")\n"
      ],
      "metadata": {
        "colab": {
          "base_uri": "https://localhost:8080/"
        },
        "id": "t5ddYn4OMuf4",
        "outputId": "4c950b55-d49a-45cc-a81b-60784f45ab1b"
      },
      "execution_count": null,
      "outputs": [
        {
          "output_type": "stream",
          "name": "stdout",
          "text": [
            "'Unnamed: 0' column not found in DataFrame\n"
          ]
        }
      ]
    },
    {
      "cell_type": "code",
      "source": [
        "print(df.columns)\n"
      ],
      "metadata": {
        "colab": {
          "base_uri": "https://localhost:8080/"
        },
        "id": "37xsQBxjNB3X",
        "outputId": "773b2667-66f8-4d09-a8fb-d69e85e76251"
      },
      "execution_count": null,
      "outputs": [
        {
          "output_type": "stream",
          "name": "stdout",
          "text": [
            "Index(['Source of drinking water', 'child's weight(in kgs)(one decimal)',\n",
            "       'Caste', 'Mother's age at first birth', 'wealth index', 'v444a', 'hw1',\n",
            "       'body mass index', 'mother's height', 'Toilet Facility', 'v440',\n",
            "       'number of living children', 'sex of household head',\n",
            "       'Mother's Occupation', 'Father's Education', 'Father's Occupation',\n",
            "       'v441', 'hw9', 'sex of child', 'child's height(in cms)(one decimal)',\n",
            "       'currently in union', 'hw12', 'v442', 'immunization', 'mother's weight',\n",
            "       'state', 'index to birth history', 'Area', 'Religion', 'months of bf',\n",
            "       'bmi', 'H/A', 'W/A', 'W/H', 'mothers_bmi'],\n",
            "      dtype='object')\n"
          ]
        }
      ]
    },
    {
      "cell_type": "code",
      "source": [
        "# If 'Unnamed: 0' is an index column, you can set the index_col parameter\n",
        "df = pd.read_csv('/content/preprocessed_data1.csv', index_col=0)\n"
      ],
      "metadata": {
        "id": "8ofPUY_tNFrN"
      },
      "execution_count": null,
      "outputs": []
    },
    {
      "cell_type": "code",
      "source": [
        "df = df.loc[:, ~df.columns.str.contains('^Unnamed')]\n"
      ],
      "metadata": {
        "id": "j9pnG7_iNN_y"
      },
      "execution_count": null,
      "outputs": []
    },
    {
      "cell_type": "code",
      "source": [
        "df.describe()"
      ],
      "metadata": {
        "colab": {
          "base_uri": "https://localhost:8080/",
          "height": 372
        },
        "id": "fbp_v_iyNSEI",
        "outputId": "795a9f43-a5df-4039-a49b-733dc088880a"
      },
      "execution_count": null,
      "outputs": [
        {
          "output_type": "execute_result",
          "data": {
            "text/plain": [
              "       child's weight(in kgs)(one decimal)        v444a         hw1  \\\n",
              "count                           133.000000   133.000000  133.000000   \n",
              "mean                             87.917293   129.646617   16.195489   \n",
              "std                              26.303602  1508.297963    9.966199   \n",
              "min                              24.000000  -350.000000    0.000000   \n",
              "25%                              71.000000  -164.000000    8.000000   \n",
              "50%                              89.000000   -95.000000   15.000000   \n",
              "75%                             105.000000   -27.000000   23.000000   \n",
              "max                             157.000000  9998.000000   35.000000   \n",
              "\n",
              "       body mass index  mother's height        v440  \\\n",
              "count       133.000000       133.000000  133.000000   \n",
              "mean       2120.526316      1510.150376 -212.864662   \n",
              "std         336.166616        65.390030  109.629872   \n",
              "min        1410.000000      1287.000000 -587.000000   \n",
              "25%        1884.000000      1476.000000 -270.000000   \n",
              "50%        2086.000000      1510.000000 -213.000000   \n",
              "75%        2299.000000      1552.000000 -143.000000   \n",
              "max        3348.000000      1677.000000   67.000000   \n",
              "\n",
              "       number of living children          v441           hw9  \\\n",
              "count                 133.000000    133.000000    133.000000   \n",
              "mean                    2.052632   9224.714286  12703.150376   \n",
              "std                     1.292846    399.421069  19099.269724   \n",
              "min                     1.000000   7862.000000   5608.000000   \n",
              "25%                     1.000000   9016.000000   7776.000000   \n",
              "50%                     2.000000   9224.000000   8419.000000   \n",
              "75%                     3.000000   9480.000000   9455.000000   \n",
              "max                     8.000000  10244.000000  99998.000000   \n",
              "\n",
              "       child's height(in cms)(one decimal)          hw12          v442  \\\n",
              "count                           133.000000    133.000000    133.000000   \n",
              "mean                            753.556391  13401.789474  10824.984962   \n",
              "std                             113.250019  18937.871455  13665.080806   \n",
              "min                             405.000000   6698.000000   6001.000000   \n",
              "25%                             683.000000   8484.000000   7866.000000   \n",
              "50%                             751.000000   9194.000000   8704.000000   \n",
              "75%                             847.000000  10165.000000   9613.000000   \n",
              "max                            1009.000000  99998.000000  99998.000000   \n",
              "\n",
              "       mother's weight  index to birth history         bmi         H/A  \\\n",
              "count       133.000000              133.000000  133.000000  133.000000   \n",
              "mean        484.533835                1.030075   15.274177    1.708891   \n",
              "std          87.396133                0.171440    2.471570    0.283125   \n",
              "min         346.000000                1.000000    6.295595    0.837500   \n",
              "25%         418.000000                1.000000   13.961704    1.532500   \n",
              "50%         471.000000                1.000000   15.250049    1.702500   \n",
              "75%         529.000000                1.000000   16.585542    1.942500   \n",
              "max         765.000000                2.000000   21.732700    2.347500   \n",
              "\n",
              "              W/A         W/H  mothers_bmi  \n",
              "count  133.000000  133.000000   133.000000  \n",
              "mean    38.958647    4.345865     2.127068  \n",
              "std     13.151801    1.315180     0.339815  \n",
              "min      7.000000    1.150000     1.400000  \n",
              "25%     30.500000    3.500000     1.900000  \n",
              "50%     39.500000    4.400000     2.100000  \n",
              "75%     47.500000    5.200000     2.300000  \n",
              "max     73.500000    7.800000     3.300000  "
            ],
            "text/html": [
              "\n",
              "  <div id=\"df-2a2d9df4-1b9d-4f79-a743-94c1d929cce7\" class=\"colab-df-container\">\n",
              "    <div>\n",
              "<style scoped>\n",
              "    .dataframe tbody tr th:only-of-type {\n",
              "        vertical-align: middle;\n",
              "    }\n",
              "\n",
              "    .dataframe tbody tr th {\n",
              "        vertical-align: top;\n",
              "    }\n",
              "\n",
              "    .dataframe thead th {\n",
              "        text-align: right;\n",
              "    }\n",
              "</style>\n",
              "<table border=\"1\" class=\"dataframe\">\n",
              "  <thead>\n",
              "    <tr style=\"text-align: right;\">\n",
              "      <th></th>\n",
              "      <th>child's weight(in kgs)(one decimal)</th>\n",
              "      <th>v444a</th>\n",
              "      <th>hw1</th>\n",
              "      <th>body mass index</th>\n",
              "      <th>mother's height</th>\n",
              "      <th>v440</th>\n",
              "      <th>number of living children</th>\n",
              "      <th>v441</th>\n",
              "      <th>hw9</th>\n",
              "      <th>child's height(in cms)(one decimal)</th>\n",
              "      <th>hw12</th>\n",
              "      <th>v442</th>\n",
              "      <th>mother's weight</th>\n",
              "      <th>index to birth history</th>\n",
              "      <th>bmi</th>\n",
              "      <th>H/A</th>\n",
              "      <th>W/A</th>\n",
              "      <th>W/H</th>\n",
              "      <th>mothers_bmi</th>\n",
              "    </tr>\n",
              "  </thead>\n",
              "  <tbody>\n",
              "    <tr>\n",
              "      <th>count</th>\n",
              "      <td>133.000000</td>\n",
              "      <td>133.000000</td>\n",
              "      <td>133.000000</td>\n",
              "      <td>133.000000</td>\n",
              "      <td>133.000000</td>\n",
              "      <td>133.000000</td>\n",
              "      <td>133.000000</td>\n",
              "      <td>133.000000</td>\n",
              "      <td>133.000000</td>\n",
              "      <td>133.000000</td>\n",
              "      <td>133.000000</td>\n",
              "      <td>133.000000</td>\n",
              "      <td>133.000000</td>\n",
              "      <td>133.000000</td>\n",
              "      <td>133.000000</td>\n",
              "      <td>133.000000</td>\n",
              "      <td>133.000000</td>\n",
              "      <td>133.000000</td>\n",
              "      <td>133.000000</td>\n",
              "    </tr>\n",
              "    <tr>\n",
              "      <th>mean</th>\n",
              "      <td>87.917293</td>\n",
              "      <td>129.646617</td>\n",
              "      <td>16.195489</td>\n",
              "      <td>2120.526316</td>\n",
              "      <td>1510.150376</td>\n",
              "      <td>-212.864662</td>\n",
              "      <td>2.052632</td>\n",
              "      <td>9224.714286</td>\n",
              "      <td>12703.150376</td>\n",
              "      <td>753.556391</td>\n",
              "      <td>13401.789474</td>\n",
              "      <td>10824.984962</td>\n",
              "      <td>484.533835</td>\n",
              "      <td>1.030075</td>\n",
              "      <td>15.274177</td>\n",
              "      <td>1.708891</td>\n",
              "      <td>38.958647</td>\n",
              "      <td>4.345865</td>\n",
              "      <td>2.127068</td>\n",
              "    </tr>\n",
              "    <tr>\n",
              "      <th>std</th>\n",
              "      <td>26.303602</td>\n",
              "      <td>1508.297963</td>\n",
              "      <td>9.966199</td>\n",
              "      <td>336.166616</td>\n",
              "      <td>65.390030</td>\n",
              "      <td>109.629872</td>\n",
              "      <td>1.292846</td>\n",
              "      <td>399.421069</td>\n",
              "      <td>19099.269724</td>\n",
              "      <td>113.250019</td>\n",
              "      <td>18937.871455</td>\n",
              "      <td>13665.080806</td>\n",
              "      <td>87.396133</td>\n",
              "      <td>0.171440</td>\n",
              "      <td>2.471570</td>\n",
              "      <td>0.283125</td>\n",
              "      <td>13.151801</td>\n",
              "      <td>1.315180</td>\n",
              "      <td>0.339815</td>\n",
              "    </tr>\n",
              "    <tr>\n",
              "      <th>min</th>\n",
              "      <td>24.000000</td>\n",
              "      <td>-350.000000</td>\n",
              "      <td>0.000000</td>\n",
              "      <td>1410.000000</td>\n",
              "      <td>1287.000000</td>\n",
              "      <td>-587.000000</td>\n",
              "      <td>1.000000</td>\n",
              "      <td>7862.000000</td>\n",
              "      <td>5608.000000</td>\n",
              "      <td>405.000000</td>\n",
              "      <td>6698.000000</td>\n",
              "      <td>6001.000000</td>\n",
              "      <td>346.000000</td>\n",
              "      <td>1.000000</td>\n",
              "      <td>6.295595</td>\n",
              "      <td>0.837500</td>\n",
              "      <td>7.000000</td>\n",
              "      <td>1.150000</td>\n",
              "      <td>1.400000</td>\n",
              "    </tr>\n",
              "    <tr>\n",
              "      <th>25%</th>\n",
              "      <td>71.000000</td>\n",
              "      <td>-164.000000</td>\n",
              "      <td>8.000000</td>\n",
              "      <td>1884.000000</td>\n",
              "      <td>1476.000000</td>\n",
              "      <td>-270.000000</td>\n",
              "      <td>1.000000</td>\n",
              "      <td>9016.000000</td>\n",
              "      <td>7776.000000</td>\n",
              "      <td>683.000000</td>\n",
              "      <td>8484.000000</td>\n",
              "      <td>7866.000000</td>\n",
              "      <td>418.000000</td>\n",
              "      <td>1.000000</td>\n",
              "      <td>13.961704</td>\n",
              "      <td>1.532500</td>\n",
              "      <td>30.500000</td>\n",
              "      <td>3.500000</td>\n",
              "      <td>1.900000</td>\n",
              "    </tr>\n",
              "    <tr>\n",
              "      <th>50%</th>\n",
              "      <td>89.000000</td>\n",
              "      <td>-95.000000</td>\n",
              "      <td>15.000000</td>\n",
              "      <td>2086.000000</td>\n",
              "      <td>1510.000000</td>\n",
              "      <td>-213.000000</td>\n",
              "      <td>2.000000</td>\n",
              "      <td>9224.000000</td>\n",
              "      <td>8419.000000</td>\n",
              "      <td>751.000000</td>\n",
              "      <td>9194.000000</td>\n",
              "      <td>8704.000000</td>\n",
              "      <td>471.000000</td>\n",
              "      <td>1.000000</td>\n",
              "      <td>15.250049</td>\n",
              "      <td>1.702500</td>\n",
              "      <td>39.500000</td>\n",
              "      <td>4.400000</td>\n",
              "      <td>2.100000</td>\n",
              "    </tr>\n",
              "    <tr>\n",
              "      <th>75%</th>\n",
              "      <td>105.000000</td>\n",
              "      <td>-27.000000</td>\n",
              "      <td>23.000000</td>\n",
              "      <td>2299.000000</td>\n",
              "      <td>1552.000000</td>\n",
              "      <td>-143.000000</td>\n",
              "      <td>3.000000</td>\n",
              "      <td>9480.000000</td>\n",
              "      <td>9455.000000</td>\n",
              "      <td>847.000000</td>\n",
              "      <td>10165.000000</td>\n",
              "      <td>9613.000000</td>\n",
              "      <td>529.000000</td>\n",
              "      <td>1.000000</td>\n",
              "      <td>16.585542</td>\n",
              "      <td>1.942500</td>\n",
              "      <td>47.500000</td>\n",
              "      <td>5.200000</td>\n",
              "      <td>2.300000</td>\n",
              "    </tr>\n",
              "    <tr>\n",
              "      <th>max</th>\n",
              "      <td>157.000000</td>\n",
              "      <td>9998.000000</td>\n",
              "      <td>35.000000</td>\n",
              "      <td>3348.000000</td>\n",
              "      <td>1677.000000</td>\n",
              "      <td>67.000000</td>\n",
              "      <td>8.000000</td>\n",
              "      <td>10244.000000</td>\n",
              "      <td>99998.000000</td>\n",
              "      <td>1009.000000</td>\n",
              "      <td>99998.000000</td>\n",
              "      <td>99998.000000</td>\n",
              "      <td>765.000000</td>\n",
              "      <td>2.000000</td>\n",
              "      <td>21.732700</td>\n",
              "      <td>2.347500</td>\n",
              "      <td>73.500000</td>\n",
              "      <td>7.800000</td>\n",
              "      <td>3.300000</td>\n",
              "    </tr>\n",
              "  </tbody>\n",
              "</table>\n",
              "</div>\n",
              "    <div class=\"colab-df-buttons\">\n",
              "\n",
              "  <div class=\"colab-df-container\">\n",
              "    <button class=\"colab-df-convert\" onclick=\"convertToInteractive('df-2a2d9df4-1b9d-4f79-a743-94c1d929cce7')\"\n",
              "            title=\"Convert this dataframe to an interactive table.\"\n",
              "            style=\"display:none;\">\n",
              "\n",
              "  <svg xmlns=\"http://www.w3.org/2000/svg\" height=\"24px\" viewBox=\"0 -960 960 960\">\n",
              "    <path d=\"M120-120v-720h720v720H120Zm60-500h600v-160H180v160Zm220 220h160v-160H400v160Zm0 220h160v-160H400v160ZM180-400h160v-160H180v160Zm440 0h160v-160H620v160ZM180-180h160v-160H180v160Zm440 0h160v-160H620v160Z\"/>\n",
              "  </svg>\n",
              "    </button>\n",
              "\n",
              "  <style>\n",
              "    .colab-df-container {\n",
              "      display:flex;\n",
              "      gap: 12px;\n",
              "    }\n",
              "\n",
              "    .colab-df-convert {\n",
              "      background-color: #E8F0FE;\n",
              "      border: none;\n",
              "      border-radius: 50%;\n",
              "      cursor: pointer;\n",
              "      display: none;\n",
              "      fill: #1967D2;\n",
              "      height: 32px;\n",
              "      padding: 0 0 0 0;\n",
              "      width: 32px;\n",
              "    }\n",
              "\n",
              "    .colab-df-convert:hover {\n",
              "      background-color: #E2EBFA;\n",
              "      box-shadow: 0px 1px 2px rgba(60, 64, 67, 0.3), 0px 1px 3px 1px rgba(60, 64, 67, 0.15);\n",
              "      fill: #174EA6;\n",
              "    }\n",
              "\n",
              "    .colab-df-buttons div {\n",
              "      margin-bottom: 4px;\n",
              "    }\n",
              "\n",
              "    [theme=dark] .colab-df-convert {\n",
              "      background-color: #3B4455;\n",
              "      fill: #D2E3FC;\n",
              "    }\n",
              "\n",
              "    [theme=dark] .colab-df-convert:hover {\n",
              "      background-color: #434B5C;\n",
              "      box-shadow: 0px 1px 3px 1px rgba(0, 0, 0, 0.15);\n",
              "      filter: drop-shadow(0px 1px 2px rgba(0, 0, 0, 0.3));\n",
              "      fill: #FFFFFF;\n",
              "    }\n",
              "  </style>\n",
              "\n",
              "    <script>\n",
              "      const buttonEl =\n",
              "        document.querySelector('#df-2a2d9df4-1b9d-4f79-a743-94c1d929cce7 button.colab-df-convert');\n",
              "      buttonEl.style.display =\n",
              "        google.colab.kernel.accessAllowed ? 'block' : 'none';\n",
              "\n",
              "      async function convertToInteractive(key) {\n",
              "        const element = document.querySelector('#df-2a2d9df4-1b9d-4f79-a743-94c1d929cce7');\n",
              "        const dataTable =\n",
              "          await google.colab.kernel.invokeFunction('convertToInteractive',\n",
              "                                                    [key], {});\n",
              "        if (!dataTable) return;\n",
              "\n",
              "        const docLinkHtml = 'Like what you see? Visit the ' +\n",
              "          '<a target=\"_blank\" href=https://colab.research.google.com/notebooks/data_table.ipynb>data table notebook</a>'\n",
              "          + ' to learn more about interactive tables.';\n",
              "        element.innerHTML = '';\n",
              "        dataTable['output_type'] = 'display_data';\n",
              "        await google.colab.output.renderOutput(dataTable, element);\n",
              "        const docLink = document.createElement('div');\n",
              "        docLink.innerHTML = docLinkHtml;\n",
              "        element.appendChild(docLink);\n",
              "      }\n",
              "    </script>\n",
              "  </div>\n",
              "\n",
              "\n",
              "<div id=\"df-34f7ba33-bd19-4a07-8a7d-4cce63a62bf0\">\n",
              "  <button class=\"colab-df-quickchart\" onclick=\"quickchart('df-34f7ba33-bd19-4a07-8a7d-4cce63a62bf0')\"\n",
              "            title=\"Suggest charts\"\n",
              "            style=\"display:none;\">\n",
              "\n",
              "<svg xmlns=\"http://www.w3.org/2000/svg\" height=\"24px\"viewBox=\"0 0 24 24\"\n",
              "     width=\"24px\">\n",
              "    <g>\n",
              "        <path d=\"M19 3H5c-1.1 0-2 .9-2 2v14c0 1.1.9 2 2 2h14c1.1 0 2-.9 2-2V5c0-1.1-.9-2-2-2zM9 17H7v-7h2v7zm4 0h-2V7h2v10zm4 0h-2v-4h2v4z\"/>\n",
              "    </g>\n",
              "</svg>\n",
              "  </button>\n",
              "\n",
              "<style>\n",
              "  .colab-df-quickchart {\n",
              "      --bg-color: #E8F0FE;\n",
              "      --fill-color: #1967D2;\n",
              "      --hover-bg-color: #E2EBFA;\n",
              "      --hover-fill-color: #174EA6;\n",
              "      --disabled-fill-color: #AAA;\n",
              "      --disabled-bg-color: #DDD;\n",
              "  }\n",
              "\n",
              "  [theme=dark] .colab-df-quickchart {\n",
              "      --bg-color: #3B4455;\n",
              "      --fill-color: #D2E3FC;\n",
              "      --hover-bg-color: #434B5C;\n",
              "      --hover-fill-color: #FFFFFF;\n",
              "      --disabled-bg-color: #3B4455;\n",
              "      --disabled-fill-color: #666;\n",
              "  }\n",
              "\n",
              "  .colab-df-quickchart {\n",
              "    background-color: var(--bg-color);\n",
              "    border: none;\n",
              "    border-radius: 50%;\n",
              "    cursor: pointer;\n",
              "    display: none;\n",
              "    fill: var(--fill-color);\n",
              "    height: 32px;\n",
              "    padding: 0;\n",
              "    width: 32px;\n",
              "  }\n",
              "\n",
              "  .colab-df-quickchart:hover {\n",
              "    background-color: var(--hover-bg-color);\n",
              "    box-shadow: 0 1px 2px rgba(60, 64, 67, 0.3), 0 1px 3px 1px rgba(60, 64, 67, 0.15);\n",
              "    fill: var(--button-hover-fill-color);\n",
              "  }\n",
              "\n",
              "  .colab-df-quickchart-complete:disabled,\n",
              "  .colab-df-quickchart-complete:disabled:hover {\n",
              "    background-color: var(--disabled-bg-color);\n",
              "    fill: var(--disabled-fill-color);\n",
              "    box-shadow: none;\n",
              "  }\n",
              "\n",
              "  .colab-df-spinner {\n",
              "    border: 2px solid var(--fill-color);\n",
              "    border-color: transparent;\n",
              "    border-bottom-color: var(--fill-color);\n",
              "    animation:\n",
              "      spin 1s steps(1) infinite;\n",
              "  }\n",
              "\n",
              "  @keyframes spin {\n",
              "    0% {\n",
              "      border-color: transparent;\n",
              "      border-bottom-color: var(--fill-color);\n",
              "      border-left-color: var(--fill-color);\n",
              "    }\n",
              "    20% {\n",
              "      border-color: transparent;\n",
              "      border-left-color: var(--fill-color);\n",
              "      border-top-color: var(--fill-color);\n",
              "    }\n",
              "    30% {\n",
              "      border-color: transparent;\n",
              "      border-left-color: var(--fill-color);\n",
              "      border-top-color: var(--fill-color);\n",
              "      border-right-color: var(--fill-color);\n",
              "    }\n",
              "    40% {\n",
              "      border-color: transparent;\n",
              "      border-right-color: var(--fill-color);\n",
              "      border-top-color: var(--fill-color);\n",
              "    }\n",
              "    60% {\n",
              "      border-color: transparent;\n",
              "      border-right-color: var(--fill-color);\n",
              "    }\n",
              "    80% {\n",
              "      border-color: transparent;\n",
              "      border-right-color: var(--fill-color);\n",
              "      border-bottom-color: var(--fill-color);\n",
              "    }\n",
              "    90% {\n",
              "      border-color: transparent;\n",
              "      border-bottom-color: var(--fill-color);\n",
              "    }\n",
              "  }\n",
              "</style>\n",
              "\n",
              "  <script>\n",
              "    async function quickchart(key) {\n",
              "      const quickchartButtonEl =\n",
              "        document.querySelector('#' + key + ' button');\n",
              "      quickchartButtonEl.disabled = true;  // To prevent multiple clicks.\n",
              "      quickchartButtonEl.classList.add('colab-df-spinner');\n",
              "      try {\n",
              "        const charts = await google.colab.kernel.invokeFunction(\n",
              "            'suggestCharts', [key], {});\n",
              "      } catch (error) {\n",
              "        console.error('Error during call to suggestCharts:', error);\n",
              "      }\n",
              "      quickchartButtonEl.classList.remove('colab-df-spinner');\n",
              "      quickchartButtonEl.classList.add('colab-df-quickchart-complete');\n",
              "    }\n",
              "    (() => {\n",
              "      let quickchartButtonEl =\n",
              "        document.querySelector('#df-34f7ba33-bd19-4a07-8a7d-4cce63a62bf0 button');\n",
              "      quickchartButtonEl.style.display =\n",
              "        google.colab.kernel.accessAllowed ? 'block' : 'none';\n",
              "    })();\n",
              "  </script>\n",
              "</div>\n",
              "\n",
              "    </div>\n",
              "  </div>\n"
            ],
            "application/vnd.google.colaboratory.intrinsic+json": {
              "type": "dataframe",
              "summary": "{\n  \"name\": \"df\",\n  \"rows\": 8,\n  \"fields\": [\n    {\n      \"column\": \"child's weight(in kgs)(one decimal)\",\n      \"properties\": {\n        \"dtype\": \"number\",\n        \"std\": 46.67965103411317,\n        \"min\": 24.0,\n        \"max\": 157.0,\n        \"num_unique_values\": 8,\n        \"samples\": [\n          87.9172932330827,\n          89.0,\n          133.0\n        ],\n        \"semantic_type\": \"\",\n        \"description\": \"\"\n      }\n    },\n    {\n      \"column\": \"v444a\",\n      \"properties\": {\n        \"dtype\": \"number\",\n        \"std\": 3524.1170548500177,\n        \"min\": -350.0,\n        \"max\": 9998.0,\n        \"num_unique_values\": 8,\n        \"samples\": [\n          129.64661654135338,\n          -95.0,\n          133.0\n        ],\n        \"semantic_type\": \"\",\n        \"description\": \"\"\n      }\n    },\n    {\n      \"column\": \"hw1\",\n      \"properties\": {\n        \"dtype\": \"number\",\n        \"std\": 42.90173894105539,\n        \"min\": 0.0,\n        \"max\": 133.0,\n        \"num_unique_values\": 8,\n        \"samples\": [\n          16.195488721804512,\n          15.0,\n          133.0\n        ],\n        \"semantic_type\": \"\",\n        \"description\": \"\"\n      }\n    },\n    {\n      \"column\": \"body mass index\",\n      \"properties\": {\n        \"dtype\": \"number\",\n        \"std\": 1057.8951507737054,\n        \"min\": 133.0,\n        \"max\": 3348.0,\n        \"num_unique_values\": 8,\n        \"samples\": [\n          2120.5263157894738,\n          2086.0,\n          133.0\n        ],\n        \"semantic_type\": \"\",\n        \"description\": \"\"\n      }\n    },\n    {\n      \"column\": \"mother's height\",\n      \"properties\": {\n        \"dtype\": \"number\",\n        \"std\": 658.3898316695947,\n        \"min\": 65.39002984894164,\n        \"max\": 1677.0,\n        \"num_unique_values\": 8,\n        \"samples\": [\n          1510.1503759398497,\n          1510.0,\n          133.0\n        ],\n        \"semantic_type\": \"\",\n        \"description\": \"\"\n      }\n    },\n    {\n      \"column\": \"v440\",\n      \"properties\": {\n        \"dtype\": \"number\",\n        \"std\": 241.14238821919892,\n        \"min\": -587.0,\n        \"max\": 133.0,\n        \"num_unique_values\": 8,\n        \"samples\": [\n          -212.86466165413535,\n          -213.0,\n          133.0\n        ],\n        \"semantic_type\": \"\",\n        \"description\": \"\"\n      }\n    },\n    {\n      \"column\": \"number of living children\",\n      \"properties\": {\n        \"dtype\": \"number\",\n        \"std\": 46.153011109595,\n        \"min\": 1.0,\n        \"max\": 133.0,\n        \"num_unique_values\": 7,\n        \"samples\": [\n          133.0,\n          2.0526315789473686,\n          3.0\n        ],\n        \"semantic_type\": \"\",\n        \"description\": \"\"\n      }\n    },\n    {\n      \"column\": \"v441\",\n      \"properties\": {\n        \"dtype\": \"number\",\n        \"std\": 4176.09480699329,\n        \"min\": 133.0,\n        \"max\": 10244.0,\n        \"num_unique_values\": 8,\n        \"samples\": [\n          9224.714285714286,\n          9224.0,\n          133.0\n        ],\n        \"semantic_type\": \"\",\n        \"description\": \"\"\n      }\n    },\n    {\n      \"column\": \"hw9\",\n      \"properties\": {\n        \"dtype\": \"number\",\n        \"std\": 32621.27330260842,\n        \"min\": 133.0,\n        \"max\": 99998.0,\n        \"num_unique_values\": 8,\n        \"samples\": [\n          12703.15037593985,\n          8419.0,\n          133.0\n        ],\n        \"semantic_type\": \"\",\n        \"description\": \"\"\n      }\n    },\n    {\n      \"column\": \"child's height(in cms)(one decimal)\",\n      \"properties\": {\n        \"dtype\": \"number\",\n        \"std\": 332.3543499479951,\n        \"min\": 113.25001930121144,\n        \"max\": 1009.0,\n        \"num_unique_values\": 8,\n        \"samples\": [\n          753.5563909774436,\n          751.0,\n          133.0\n        ],\n        \"semantic_type\": \"\",\n        \"description\": \"\"\n      }\n    },\n    {\n      \"column\": \"hw12\",\n      \"properties\": {\n        \"dtype\": \"number\",\n        \"std\": 32416.827838052675,\n        \"min\": 133.0,\n        \"max\": 99998.0,\n        \"num_unique_values\": 8,\n        \"samples\": [\n          13401.78947368421,\n          9194.0,\n          133.0\n        ],\n        \"semantic_type\": \"\",\n        \"description\": \"\"\n      }\n    },\n    {\n      \"column\": \"v442\",\n      \"properties\": {\n        \"dtype\": \"number\",\n        \"std\": 32724.191982922355,\n        \"min\": 133.0,\n        \"max\": 99998.0,\n        \"num_unique_values\": 8,\n        \"samples\": [\n          10824.984962406015,\n          8704.0,\n          133.0\n        ],\n        \"semantic_type\": \"\",\n        \"description\": \"\"\n      }\n    },\n    {\n      \"column\": \"mother's weight\",\n      \"properties\": {\n        \"dtype\": \"number\",\n        \"std\": 218.4880648841506,\n        \"min\": 87.39613305988382,\n        \"max\": 765.0,\n        \"num_unique_values\": 8,\n        \"samples\": [\n          484.5338345864662,\n          471.0,\n          133.0\n        ],\n        \"semantic_type\": \"\",\n        \"description\": \"\"\n      }\n    },\n    {\n      \"column\": \"index to birth history\",\n      \"properties\": {\n        \"dtype\": \"number\",\n        \"std\": 46.661443765887455,\n        \"min\": 0.17143996316672594,\n        \"max\": 133.0,\n        \"num_unique_values\": 5,\n        \"samples\": [\n          1.0300751879699248,\n          2.0,\n          0.17143996316672594\n        ],\n        \"semantic_type\": \"\",\n        \"description\": \"\"\n      }\n    },\n    {\n      \"column\": \"bmi\",\n      \"properties\": {\n        \"dtype\": \"number\",\n        \"std\": 42.82671328414219,\n        \"min\": 2.4715695867387115,\n        \"max\": 133.0,\n        \"num_unique_values\": 8,\n        \"samples\": [\n          15.274177395000205,\n          15.250049110327646,\n          133.0\n        ],\n        \"semantic_type\": \"\",\n        \"description\": \"\"\n      }\n    },\n    {\n      \"column\": \"H/A\",\n      \"properties\": {\n        \"dtype\": \"number\",\n        \"std\": 46.50409865392132,\n        \"min\": 0.28312504825302864,\n        \"max\": 133.0,\n        \"num_unique_values\": 8,\n        \"samples\": [\n          1.7088909774436087,\n          1.7025,\n          133.0\n        ],\n        \"semantic_type\": \"\",\n        \"description\": \"\"\n      }\n    },\n    {\n      \"column\": \"W/A\",\n      \"properties\": {\n        \"dtype\": \"number\",\n        \"std\": 40.05539759612785,\n        \"min\": 7.0,\n        \"max\": 133.0,\n        \"num_unique_values\": 8,\n        \"samples\": [\n          38.95864661654135,\n          39.5,\n          133.0\n        ],\n        \"semantic_type\": \"\",\n        \"description\": \"\"\n      }\n    },\n    {\n      \"column\": \"W/H\",\n      \"properties\": {\n        \"dtype\": \"number\",\n        \"std\": 45.672629737617626,\n        \"min\": 1.15,\n        \"max\": 133.0,\n        \"num_unique_values\": 8,\n        \"samples\": [\n          4.345864661654136,\n          4.4,\n          133.0\n        ],\n        \"semantic_type\": \"\",\n        \"description\": \"\"\n      }\n    },\n    {\n      \"column\": \"mothers_bmi\",\n      \"properties\": {\n        \"dtype\": \"number\",\n        \"std\": 46.34995984477526,\n        \"min\": 0.3398145259591759,\n        \"max\": 133.0,\n        \"num_unique_values\": 8,\n        \"samples\": [\n          2.127067669172932,\n          2.1,\n          133.0\n        ],\n        \"semantic_type\": \"\",\n        \"description\": \"\"\n      }\n    }\n  ]\n}"
            }
          },
          "metadata": {},
          "execution_count": 239
        }
      ]
    },
    {
      "cell_type": "code",
      "source": [
        "import pandas as pd\n",
        "\n",
        "# Assuming your dataset is in a DataFrame called df\n",
        "# Let's first look at the data\n",
        "print(df.describe())\n",
        "\n",
        "# Dropping the 'Unnamed: 0' column if it exists\n",
        "if 'Unnamed: 0' in df.columns:\n",
        "    df = df.drop('Unnamed: 0', axis=1)\n",
        "\n",
        "# Checking unique values and shapes\n",
        "print(df['number of living children'].unique())\n",
        "print(f'shape of original df = {df.shape}')\n",
        "\n",
        "# Handling 'number of living children' by replacing outliers and dropping them\n",
        "df[\"number of living children\"] = df[\"number of living children\"].replace({10:999, 11:999, 12:999, 13:999})\n",
        "indexNames = df[df['number of living children'] == 999].index\n",
        "df.drop(indexNames , inplace=True)\n",
        "print(df['number of living children'].unique())\n",
        "print(f'shape of new df = {df.shape}')\n",
        "\n",
        "# Checking and cleaning 'index to birth history'\n",
        "print(df['index to birth history'].unique())\n",
        "print(f'shape of original df = {df.shape}')\n",
        "indexNames = df[df['index to birth history'] == 4].index\n",
        "df.drop(indexNames , inplace=True)\n",
        "print(df['index to birth history'].unique())\n",
        "print(f'shape of new df = {df.shape}')\n",
        "\n",
        "# Now let's take a look at other columns and their unique values\n",
        "print(df['child\\'s weight(in kgs)(one decimal)'].unique())\n",
        "print(df['body mass index'].unique())\n",
        "print(df['mother\\'s height'].unique())\n",
        "print(df['child\\'s height(in cms)(one decimal)'].unique())\n",
        "print(df['mother\\'s weight'].unique())\n",
        "print(df['mothers_bmi'].unique())\n",
        "\n",
        "# If there are outliers or invalid values, we should handle them similarly\n",
        "# For instance, let's handle 'child\\'s weight(in kgs)(one decimal)'\n",
        "indexNames = df[df['child\\'s weight(in kgs)(one decimal)'] > 999].index\n",
        "df.drop(indexNames , inplace=True)\n",
        "\n",
        "# Checking unique values again after cleaning\n",
        "print(df['child\\'s weight(in kgs)(one decimal)'].unique())\n",
        "print(f'shape of final df = {df.shape}')\n",
        "\n",
        "# Describe the cleaned DataFrame\n",
        "print(df.describe())\n"
      ],
      "metadata": {
        "id": "S0s9i6ShNVeN",
        "colab": {
          "base_uri": "https://localhost:8080/"
        },
        "outputId": "3547ad4e-fbbd-41cc-cfbb-9ba570d41c6f"
      },
      "execution_count": null,
      "outputs": [
        {
          "output_type": "stream",
          "name": "stdout",
          "text": [
            "       child's weight(in kgs)(one decimal)        v444a         hw1  \\\n",
            "count                           133.000000   133.000000  133.000000   \n",
            "mean                             87.917293   129.646617   16.195489   \n",
            "std                              26.303602  1508.297963    9.966199   \n",
            "min                              24.000000  -350.000000    0.000000   \n",
            "25%                              71.000000  -164.000000    8.000000   \n",
            "50%                              89.000000   -95.000000   15.000000   \n",
            "75%                             105.000000   -27.000000   23.000000   \n",
            "max                             157.000000  9998.000000   35.000000   \n",
            "\n",
            "       body mass index  mother's height        v440  \\\n",
            "count       133.000000       133.000000  133.000000   \n",
            "mean       2120.526316      1510.150376 -212.864662   \n",
            "std         336.166616        65.390030  109.629872   \n",
            "min        1410.000000      1287.000000 -587.000000   \n",
            "25%        1884.000000      1476.000000 -270.000000   \n",
            "50%        2086.000000      1510.000000 -213.000000   \n",
            "75%        2299.000000      1552.000000 -143.000000   \n",
            "max        3348.000000      1677.000000   67.000000   \n",
            "\n",
            "       number of living children          v441           hw9  \\\n",
            "count                 133.000000    133.000000    133.000000   \n",
            "mean                    2.052632   9224.714286  12703.150376   \n",
            "std                     1.292846    399.421069  19099.269724   \n",
            "min                     1.000000   7862.000000   5608.000000   \n",
            "25%                     1.000000   9016.000000   7776.000000   \n",
            "50%                     2.000000   9224.000000   8419.000000   \n",
            "75%                     3.000000   9480.000000   9455.000000   \n",
            "max                     8.000000  10244.000000  99998.000000   \n",
            "\n",
            "       child's height(in cms)(one decimal)          hw12          v442  \\\n",
            "count                           133.000000    133.000000    133.000000   \n",
            "mean                            753.556391  13401.789474  10824.984962   \n",
            "std                             113.250019  18937.871455  13665.080806   \n",
            "min                             405.000000   6698.000000   6001.000000   \n",
            "25%                             683.000000   8484.000000   7866.000000   \n",
            "50%                             751.000000   9194.000000   8704.000000   \n",
            "75%                             847.000000  10165.000000   9613.000000   \n",
            "max                            1009.000000  99998.000000  99998.000000   \n",
            "\n",
            "       mother's weight  index to birth history         bmi         H/A  \\\n",
            "count       133.000000              133.000000  133.000000  133.000000   \n",
            "mean        484.533835                1.030075   15.274177    1.708891   \n",
            "std          87.396133                0.171440    2.471570    0.283125   \n",
            "min         346.000000                1.000000    6.295595    0.837500   \n",
            "25%         418.000000                1.000000   13.961704    1.532500   \n",
            "50%         471.000000                1.000000   15.250049    1.702500   \n",
            "75%         529.000000                1.000000   16.585542    1.942500   \n",
            "max         765.000000                2.000000   21.732700    2.347500   \n",
            "\n",
            "              W/A         W/H  mothers_bmi  \n",
            "count  133.000000  133.000000   133.000000  \n",
            "mean    38.958647    4.345865     2.127068  \n",
            "std     13.151801    1.315180     0.339815  \n",
            "min      7.000000    1.150000     1.400000  \n",
            "25%     30.500000    3.500000     1.900000  \n",
            "50%     39.500000    4.400000     2.100000  \n",
            "75%     47.500000    5.200000     2.300000  \n",
            "max     73.500000    7.800000     3.300000  \n",
            "[2 1 6 4 3 7 5 8]\n",
            "shape of original df = (133, 35)\n",
            "[2 1 6 4 3 7 5 8]\n",
            "shape of new df = (133, 35)\n",
            "[1. 2.]\n",
            "shape of original df = (133, 35)\n",
            "[1. 2.]\n",
            "shape of new df = (133, 35)\n",
            "[ 50.  51.  84.  37.  89. 114. 140.  79. 144. 101. 107.  45.  92. 153.\n",
            "  73. 148.  81.  88. 104. 118.  91.  62. 106.  61. 120. 100. 109.  59.\n",
            "  75.  65.  98.  74.  70.  71. 105.  95.  86.  85.  67. 108.  35.  69.\n",
            "  24.  99.  87. 103.  93.  57. 119.  72.  80.  76. 123.  97.  77. 122.\n",
            " 115. 134.  68.  66.  32. 157. 135.  31.  83. 102.  96.  55.  78. 111.\n",
            " 110.  42. 112.  33.]\n",
            "[2111. 2160. 1999. 2584. 1657. 2003. 2086. 1728. 2177. 2164. 1767. 2752.\n",
            " 1849. 2214. 2343. 1685. 2479. 2300. 1838. 2097. 2006. 1978. 2161. 1969.\n",
            " 2203. 1835. 1809. 1911. 2496. 2114. 3348. 1994. 1762. 2393. 2412. 1745.\n",
            " 2183. 2521. 1949. 2469. 2216. 1975. 2150. 1658. 1625. 2055. 2483. 2577.\n",
            " 1898. 1547. 2865. 2054. 2772. 1901. 2159. 2299. 1722. 2418. 2399. 2043.\n",
            " 1788. 1840. 2228. 2184. 1751. 1884. 1594. 2002. 1863. 2774. 1988. 1887.\n",
            " 1955. 1831. 3041. 2626. 2408. 1820. 2288. 1684. 2659. 2176. 1792. 2456.\n",
            " 1636. 2181. 2049. 2693. 2152. 1756. 1606. 2650. 2068. 1410. 1769. 2686.\n",
            " 2277. 2031. 1730. 1926. 2066. 2275. 2163. 1669. 2067. 1903. 2375. 2126.\n",
            " 1940. 2303. 2190. 2360. 2036. 2018. 1739. 2570. 2738. 1912. 1998.]\n",
            "[1489. 1556. 1552. 1520. 1444. 1522. 1524. 1505. 1645. 1497. 1677. 1573.\n",
            " 1574. 1311. 1578. 1476. 1586. 1465. 1538. 1475. 1609. 1594. 1392. 1513.\n",
            " 1511. 1453. 1510. 1491. 1404. 1486. 1519. 1493. 1512. 1507. 1467. 1523.\n",
            " 1480. 1527. 1496. 1639. 1579. 1521. 1630. 1634. 1532. 1572. 1482. 1563.\n",
            " 1485. 1464. 1461. 1395. 1449. 1427. 1414. 1484. 1501. 1530. 1626. 1564.\n",
            " 1434. 1537. 1421. 1555. 1568. 1602. 1571. 1499. 1287. 1435. 1462. 1541.\n",
            " 1514. 1488. 1342. 1593. 1495. 1416. 1492. 1545. 1504. 1554. 1643. 1517.\n",
            " 1558. 1412. 1481. 1546. 1557. 1439. 1500. 1526. 1459. 1375. 1415. 1436.\n",
            " 1543. 1595. 1587. 1539. 1577.]\n",
            "[ 558.  583.  741.  542.  702.  867.  875.  752.  814.  871.  721.  784.\n",
            "  638.  868.  863.  686.  852.  847.  676.  748.  773.  892.  886.  764.\n",
            "  611.  720.  842.  652.  751.  865.  956.  859.  643.  661.  682.  711.\n",
            "  573.  740.  816.  683.  648.  850.  762.  732.  813.  719.  920.  754.\n",
            "  724.  848.  545.  693.  879.  703.  802.  680.  824.  500.  745.  932.\n",
            "  793.  758.  728.  731.  893.  750.  797.  563.  518.  912.  651.  717.\n",
            "  722.  845.  798.  792.  710.  982.  897.  725.  851.  804.  821.  642.\n",
            "  697.  526.  645.  957.  872.  876.  907.  405.  628.  757.  772.  910.\n",
            "  832.  625.  822.  570.  631.  575.  656.  726.  756.  704.  801.  841.\n",
            "  594.  695.  800.  952. 1009.  647.  622.]\n",
            "[468. 523. 482. 597. 346. 464. 485. 392. 589. 497. 681. 458. 381. 584.\n",
            " 367. 614. 579. 395. 496. 437. 512. 500. 549. 382. 489. 420. 413. 404.\n",
            " 569. 470. 660. 428. 425. 529. 557. 389. 499. 573. 574. 477. 471. 387.\n",
            " 376. 460. 667. 643. 439. 411. 765. 685. 418. 528. 507. 369. 473. 645.\n",
            " 429. 364. 446. 481. 441. 352. 493. 679. 525. 445. 402. 433. 635. 592.\n",
            " 467. 563. 416. 397. 448. 383. 562. 472. 375. 483. 559. 602. 484. 358.\n",
            " 633. 407. 652. 454. 414. 463. 426. 495. 409. 513. 506. 431. 475. 522.\n",
            " 601. 558. 536. 455. 593. 649. 476. 452. 603.]\n",
            "[2.1 2.2 2.  2.6 1.7 1.8 2.8 2.3 2.5 1.9 3.3 2.4 1.6 1.5 2.9 3.  2.7 1.4]\n",
            "[ 50.  51.  84.  37.  89. 114. 140.  79. 144. 101. 107.  45.  92. 153.\n",
            "  73. 148.  81.  88. 104. 118.  91.  62. 106.  61. 120. 100. 109.  59.\n",
            "  75.  65.  98.  74.  70.  71. 105.  95.  86.  85.  67. 108.  35.  69.\n",
            "  24.  99.  87. 103.  93.  57. 119.  72.  80.  76. 123.  97.  77. 122.\n",
            " 115. 134.  68.  66.  32. 157. 135.  31.  83. 102.  96.  55.  78. 111.\n",
            " 110.  42. 112.  33.]\n",
            "shape of final df = (133, 35)\n",
            "       child's weight(in kgs)(one decimal)        v444a         hw1  \\\n",
            "count                           133.000000   133.000000  133.000000   \n",
            "mean                             87.917293   129.646617   16.195489   \n",
            "std                              26.303602  1508.297963    9.966199   \n",
            "min                              24.000000  -350.000000    0.000000   \n",
            "25%                              71.000000  -164.000000    8.000000   \n",
            "50%                              89.000000   -95.000000   15.000000   \n",
            "75%                             105.000000   -27.000000   23.000000   \n",
            "max                             157.000000  9998.000000   35.000000   \n",
            "\n",
            "       body mass index  mother's height        v440  \\\n",
            "count       133.000000       133.000000  133.000000   \n",
            "mean       2120.526316      1510.150376 -212.864662   \n",
            "std         336.166616        65.390030  109.629872   \n",
            "min        1410.000000      1287.000000 -587.000000   \n",
            "25%        1884.000000      1476.000000 -270.000000   \n",
            "50%        2086.000000      1510.000000 -213.000000   \n",
            "75%        2299.000000      1552.000000 -143.000000   \n",
            "max        3348.000000      1677.000000   67.000000   \n",
            "\n",
            "       number of living children          v441           hw9  \\\n",
            "count                 133.000000    133.000000    133.000000   \n",
            "mean                    2.052632   9224.714286  12703.150376   \n",
            "std                     1.292846    399.421069  19099.269724   \n",
            "min                     1.000000   7862.000000   5608.000000   \n",
            "25%                     1.000000   9016.000000   7776.000000   \n",
            "50%                     2.000000   9224.000000   8419.000000   \n",
            "75%                     3.000000   9480.000000   9455.000000   \n",
            "max                     8.000000  10244.000000  99998.000000   \n",
            "\n",
            "       child's height(in cms)(one decimal)          hw12          v442  \\\n",
            "count                           133.000000    133.000000    133.000000   \n",
            "mean                            753.556391  13401.789474  10824.984962   \n",
            "std                             113.250019  18937.871455  13665.080806   \n",
            "min                             405.000000   6698.000000   6001.000000   \n",
            "25%                             683.000000   8484.000000   7866.000000   \n",
            "50%                             751.000000   9194.000000   8704.000000   \n",
            "75%                             847.000000  10165.000000   9613.000000   \n",
            "max                            1009.000000  99998.000000  99998.000000   \n",
            "\n",
            "       mother's weight  index to birth history         bmi         H/A  \\\n",
            "count       133.000000              133.000000  133.000000  133.000000   \n",
            "mean        484.533835                1.030075   15.274177    1.708891   \n",
            "std          87.396133                0.171440    2.471570    0.283125   \n",
            "min         346.000000                1.000000    6.295595    0.837500   \n",
            "25%         418.000000                1.000000   13.961704    1.532500   \n",
            "50%         471.000000                1.000000   15.250049    1.702500   \n",
            "75%         529.000000                1.000000   16.585542    1.942500   \n",
            "max         765.000000                2.000000   21.732700    2.347500   \n",
            "\n",
            "              W/A         W/H  mothers_bmi  \n",
            "count  133.000000  133.000000   133.000000  \n",
            "mean    38.958647    4.345865     2.127068  \n",
            "std     13.151801    1.315180     0.339815  \n",
            "min      7.000000    1.150000     1.400000  \n",
            "25%     30.500000    3.500000     1.900000  \n",
            "50%     39.500000    4.400000     2.100000  \n",
            "75%     47.500000    5.200000     2.300000  \n",
            "max     73.500000    7.800000     3.300000  \n"
          ]
        }
      ]
    },
    {
      "cell_type": "code",
      "source": [
        "\n",
        "from sklearn import preprocessing"
      ],
      "metadata": {
        "id": "B9tx_c-rNA0r"
      },
      "execution_count": null,
      "outputs": []
    },
    {
      "cell_type": "code",
      "source": [
        "\n",
        "dfl = pd.DataFrame()"
      ],
      "metadata": {
        "id": "mAsA-nyqNWiw"
      },
      "execution_count": null,
      "outputs": []
    },
    {
      "cell_type": "markdown",
      "source": [
        "STATE\n",
        "AREA\n",
        "RELIGION\n",
        "CAASTE\n",
        "Father's Education\n",
        "Father's Occupation\n",
        "Mother's Occupation\n",
        "Source of drinking water\n",
        "Toilet Facility\n",
        "Mother's age at first birth\n",
        "sex of child\n",
        "wealth index\n",
        "months of bf\n",
        "immunization\n",
        "sex of household head\n",
        "currently in union"
      ],
      "metadata": {
        "id": "ZxS7VPBsUBXP"
      }
    },
    {
      "cell_type": "code",
      "source": [
        "\n",
        "df.to_csv('sampled_final_data_preprocessed.csv')\n"
      ],
      "metadata": {
        "id": "VpDC_PksVTXa"
      },
      "execution_count": null,
      "outputs": []
    },
    {
      "cell_type": "code",
      "source": [
        "from google.colab import files\n",
        "files.download('sampled_final_data_preprocessed.csv')"
      ],
      "metadata": {
        "id": "MhlIDeMxVxrh",
        "colab": {
          "base_uri": "https://localhost:8080/",
          "height": 17
        },
        "outputId": "1ff60a9a-b7a1-4f91-eedb-8403a1af82ef"
      },
      "execution_count": null,
      "outputs": [
        {
          "output_type": "display_data",
          "data": {
            "text/plain": [
              "<IPython.core.display.Javascript object>"
            ],
            "application/javascript": [
              "\n",
              "    async function download(id, filename, size) {\n",
              "      if (!google.colab.kernel.accessAllowed) {\n",
              "        return;\n",
              "      }\n",
              "      const div = document.createElement('div');\n",
              "      const label = document.createElement('label');\n",
              "      label.textContent = `Downloading \"${filename}\": `;\n",
              "      div.appendChild(label);\n",
              "      const progress = document.createElement('progress');\n",
              "      progress.max = size;\n",
              "      div.appendChild(progress);\n",
              "      document.body.appendChild(div);\n",
              "\n",
              "      const buffers = [];\n",
              "      let downloaded = 0;\n",
              "\n",
              "      const channel = await google.colab.kernel.comms.open(id);\n",
              "      // Send a message to notify the kernel that we're ready.\n",
              "      channel.send({})\n",
              "\n",
              "      for await (const message of channel.messages) {\n",
              "        // Send a message to notify the kernel that we're ready.\n",
              "        channel.send({})\n",
              "        if (message.buffers) {\n",
              "          for (const buffer of message.buffers) {\n",
              "            buffers.push(buffer);\n",
              "            downloaded += buffer.byteLength;\n",
              "            progress.value = downloaded;\n",
              "          }\n",
              "        }\n",
              "      }\n",
              "      const blob = new Blob(buffers, {type: 'application/binary'});\n",
              "      const a = document.createElement('a');\n",
              "      a.href = window.URL.createObjectURL(blob);\n",
              "      a.download = filename;\n",
              "      div.appendChild(a);\n",
              "      a.click();\n",
              "      div.remove();\n",
              "    }\n",
              "  "
            ]
          },
          "metadata": {}
        },
        {
          "output_type": "display_data",
          "data": {
            "text/plain": [
              "<IPython.core.display.Javascript object>"
            ],
            "application/javascript": [
              "download(\"download_99eb97a4-92d9-4b8f-886c-05af59fb1dc7\", \"sampled_final_data_preprocessed.csv\", 36744)"
            ]
          },
          "metadata": {}
        }
      ]
    },
    {
      "cell_type": "code",
      "source": [],
      "metadata": {
        "id": "Kvh7QSNbF5jy"
      },
      "execution_count": null,
      "outputs": []
    }
  ]
}